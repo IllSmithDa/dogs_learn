{
 "cells": [
  {
   "cell_type": "markdown",
   "id": "b2286d23",
   "metadata": {},
   "source": [
    "# Run this first to create a master label to ensure accurate labeling accross all data sets"
   ]
  },
  {
   "cell_type": "markdown",
   "id": "3329c6d7",
   "metadata": {},
   "source": [
    "\n",
    "# Using \n",
    "\n",
    "  1. https://www.kaggle.com/datasets/jessicali9530/stanford-dogs-dataset\n"
   ]
  },
  {
   "cell_type": "code",
   "execution_count": 1,
   "id": "ece53262",
   "metadata": {},
   "outputs": [
    {
     "name": "stderr",
     "output_type": "stream",
     "text": [
      "c:\\Users\\thebl\\OneDrive\\Documents\\Projects\\dog-learn-projects\\dev-env\\Lib\\site-packages\\tqdm\\auto.py:21: TqdmWarning: IProgress not found. Please update jupyter and ipywidgets. See https://ipywidgets.readthedocs.io/en/stable/user_install.html\n",
      "  from .autonotebook import tqdm as notebook_tqdm\n"
     ]
    }
   ],
   "source": [
    "# set up some imports\n",
    "import torch\n",
    "from torch import nn\n",
    "import torchvision\n",
    "from torch.utils.data import DataLoader\n",
    "from torchvision import datasets, transforms\n",
    "from torchvision.transforms import ToTensor\n",
    "import matplotlib.pyplot as plt\n",
    "import pandas as pd\n",
    "# import a progress bar using tqdm\n",
    "from tqdm.auto import tqdm\n",
    "from pathlib import Path\n",
    "import numpy as np\n",
    "import requests\n",
    "import zipfile\n",
    "import random\n",
    "import os\n",
    "import shutil\n",
    "from PIL import Image\n",
    "from typing import Tuple, Dict, List\n",
    "from torchinfo import summary\n",
    "from timeit import default_timer as timer\n",
    "import re\n",
    "\n",
    "# set device to gpu if possible\n",
    "targeted_device = torch.device(\"cuda\" if torch.cuda.is_available() else \"cpu\")"
   ]
  },
  {
   "cell_type": "code",
   "execution_count": 2,
   "id": "6f43b0d4",
   "metadata": {},
   "outputs": [],
   "source": [
    "def create_data(data_url: str, zip_name: str) -> None:\n",
    "  data_path = Path(\"data\")\n",
    "  zip_file_path = Path(f\"{data_path}/{zip_name}.zip\")\n",
    "  img_path = data_path / zip_name\n",
    "\n",
    "  if not zip_file_path.exists():\n",
    "    with requests.get(data_url, stream=True) as r:\n",
    "      r.raise_for_status()\n",
    "      total_size = int(r.headers.get('content-length', 0))\n",
    "      block_size = 1024\n",
    "      with open(zip_file_path, \"wb\") as f, tqdm(\n",
    "        total=total_size, unit='iB', unit_scale=True, desc=\"Downloading\",\n",
    "      ) as bar:\n",
    "        for chunk in r.iter_content(chunk_size=block_size):\n",
    "          f.write(chunk)\n",
    "          bar.update(len(chunk))\n",
    "  else: \n",
    "    print(\"File already exists, skipping download\")\n",
    "  \n",
    "  # unzip the file \n",
    "  with zipfile.ZipFile(zip_file_path, \"r\") as zip_ref:\n",
    "    print(\"unzipping files\")\n",
    "    \n",
    "    # extract all the files in the zip in the image path\n",
    "    zip_ref.extractall(img_path)\n"
   ]
  },
  {
   "cell_type": "code",
   "execution_count": 3,
   "id": "89126249",
   "metadata": {},
   "outputs": [],
   "source": [
    "url_list = [\n",
    "  \"https://www.kaggle.com/api/v1/datasets/download/jessicali9530/stanford-dogs-dataset\"\n",
    "]"
   ]
  },
  {
   "cell_type": "code",
   "execution_count": 4,
   "id": "5766f9a6",
   "metadata": {},
   "outputs": [
    {
     "name": "stdout",
     "output_type": "stream",
     "text": [
      "File already exists, skipping download\n",
      "unzipping files\n"
     ]
    }
   ],
   "source": [
    "create_data(url_list[0], \"dogs_data\")"
   ]
  },
  {
   "cell_type": "code",
   "execution_count": 5,
   "id": "d2f51d3e",
   "metadata": {},
   "outputs": [],
   "source": [
    "def extract_basic_folders(base_dir: str):\n",
    "  animal_labels = []\n",
    "  for animal_folder in tqdm(base_dir.iterdir()):\n",
    "     if animal_folder.is_dir():\n",
    "        animal_labels.append(animal_folder.name)\n",
    "  return animal_labels"
   ]
  },
  {
   "cell_type": "code",
   "execution_count": 6,
   "id": "e7a6f27d",
   "metadata": {},
   "outputs": [],
   "source": [
    "def lower_case_folders(folder_dir, names:list) -> list:\n",
    "  for i in range(len(names)):\n",
    "    current_folder = Path(f\"{folder_dir}/{names[i]}\")\n",
    "    names[i] = names[i].lower().replace('_', ' ')\n",
    "    \n",
    "    # Create the new path\n",
    "    new_folder = folder_dir / names[i]\n",
    "    current_folder.rename(new_folder)\n",
    "  return names"
   ]
  },
  {
   "cell_type": "code",
   "execution_count": 7,
   "id": "72e64a15",
   "metadata": {},
   "outputs": [],
   "source": [
    "def clean_folder_name_v9(folder_dir, names:list) -> list:\n",
    "  for i in range(len(names)):  \n",
    "    current_folder = Path(f\"{folder_dir}/{names[i]}\")\n",
    "\n",
    "    parts = names[i].split('-', 1)\n",
    "    if len(parts) == 2:\n",
    "      names[i] = parts[1].replace('_', ' ').lower()\n",
    "    else:\n",
    "      names[i] = names[i].lower()\n",
    "    \n",
    "    # Create the new path\n",
    "    new_folder = folder_dir / names[i]\n",
    "    current_folder.rename(new_folder)\n",
    "\n",
    "  return names\n",
    "  "
   ]
  },
  {
   "cell_type": "code",
   "execution_count": 9,
   "id": "b10c00f8",
   "metadata": {},
   "outputs": [],
   "source": [
    "# create a master label list for all three datasets\n",
    "\n",
    "# special processing for names from n02085620-Chihuahua to chihuahua\n",
    "source_dogs_v1 = Path('data/dogs_data/images/Images')\n"
   ]
  },
  {
   "cell_type": "code",
   "execution_count": 11,
   "id": "60f6657a",
   "metadata": {},
   "outputs": [
    {
     "name": "stderr",
     "output_type": "stream",
     "text": [
      "120it [00:00, 8532.81it/s]\n"
     ]
    },
    {
     "data": {
      "text/plain": [
       "['chihuahua',\n",
       " 'japanese spaniel',\n",
       " 'maltese dog',\n",
       " 'pekinese',\n",
       " 'shih-tzu',\n",
       " 'blenheim spaniel',\n",
       " 'papillon',\n",
       " 'toy terrier',\n",
       " 'rhodesian ridgeback',\n",
       " 'afghan hound',\n",
       " 'basset',\n",
       " 'beagle',\n",
       " 'bloodhound',\n",
       " 'bluetick',\n",
       " 'black-and-tan coonhound',\n",
       " 'walker hound',\n",
       " 'english foxhound',\n",
       " 'redbone',\n",
       " 'borzoi',\n",
       " 'irish wolfhound',\n",
       " 'italian greyhound',\n",
       " 'whippet',\n",
       " 'ibizan hound',\n",
       " 'norwegian elkhound',\n",
       " 'otterhound',\n",
       " 'saluki',\n",
       " 'scottish deerhound',\n",
       " 'weimaraner',\n",
       " 'staffordshire bullterrier',\n",
       " 'american staffordshire terrier',\n",
       " 'bedlington terrier',\n",
       " 'border terrier',\n",
       " 'kerry blue terrier',\n",
       " 'irish terrier',\n",
       " 'norfolk terrier',\n",
       " 'norwich terrier',\n",
       " 'yorkshire terrier',\n",
       " 'wire-haired fox terrier',\n",
       " 'lakeland terrier',\n",
       " 'sealyham terrier',\n",
       " 'airedale',\n",
       " 'cairn',\n",
       " 'australian terrier',\n",
       " 'dandie dinmont',\n",
       " 'boston bull',\n",
       " 'miniature schnauzer',\n",
       " 'giant schnauzer',\n",
       " 'standard schnauzer',\n",
       " 'scotch terrier',\n",
       " 'tibetan terrier',\n",
       " 'silky terrier',\n",
       " 'soft-coated wheaten terrier',\n",
       " 'west highland white terrier',\n",
       " 'lhasa',\n",
       " 'flat-coated retriever',\n",
       " 'curly-coated retriever',\n",
       " 'golden retriever',\n",
       " 'labrador retriever',\n",
       " 'chesapeake bay retriever',\n",
       " 'german short-haired pointer',\n",
       " 'vizsla',\n",
       " 'english setter',\n",
       " 'irish setter',\n",
       " 'gordon setter',\n",
       " 'brittany spaniel',\n",
       " 'clumber',\n",
       " 'english springer',\n",
       " 'welsh springer spaniel',\n",
       " 'cocker spaniel',\n",
       " 'sussex spaniel',\n",
       " 'irish water spaniel',\n",
       " 'kuvasz',\n",
       " 'schipperke',\n",
       " 'groenendael',\n",
       " 'malinois',\n",
       " 'briard',\n",
       " 'kelpie',\n",
       " 'komondor',\n",
       " 'old english sheepdog',\n",
       " 'shetland sheepdog',\n",
       " 'collie',\n",
       " 'border collie',\n",
       " 'bouvier des flandres',\n",
       " 'rottweiler',\n",
       " 'german shepherd',\n",
       " 'doberman',\n",
       " 'miniature pinscher',\n",
       " 'greater swiss mountain dog',\n",
       " 'bernese mountain dog',\n",
       " 'appenzeller',\n",
       " 'entlebucher',\n",
       " 'boxer',\n",
       " 'bull mastiff',\n",
       " 'tibetan mastiff',\n",
       " 'french bulldog',\n",
       " 'great dane',\n",
       " 'saint bernard',\n",
       " 'eskimo dog',\n",
       " 'malamute',\n",
       " 'siberian husky',\n",
       " 'affenpinscher',\n",
       " 'basenji',\n",
       " 'pug',\n",
       " 'leonberg',\n",
       " 'newfoundland',\n",
       " 'great pyrenees',\n",
       " 'samoyed',\n",
       " 'pomeranian',\n",
       " 'chow',\n",
       " 'keeshond',\n",
       " 'brabancon griffon',\n",
       " 'pembroke',\n",
       " 'cardigan',\n",
       " 'toy poodle',\n",
       " 'miniature poodle',\n",
       " 'standard poodle',\n",
       " 'mexican hairless',\n",
       " 'dingo',\n",
       " 'dhole',\n",
       " 'african hunting dog']"
      ]
     },
     "execution_count": 11,
     "metadata": {},
     "output_type": "execute_result"
    }
   ],
   "source": [
    "result = extract_basic_folders(source_dogs_v1)\n",
    "result = clean_folder_name_v9(source_dogs_v1, result)\n",
    "result"
   ]
  },
  {
   "cell_type": "code",
   "execution_count": 12,
   "id": "fbee7707",
   "metadata": {},
   "outputs": [],
   "source": [
    "master_folder = Path(\"data/cleaned_dogs_data_filtered\")\n",
    "master_folder.mkdir(parents=True, exist_ok=True)"
   ]
  },
  {
   "cell_type": "code",
   "execution_count": 11,
   "id": "b2836e2e",
   "metadata": {},
   "outputs": [
    {
     "data": {
      "text/plain": [
       "'\\nall_dogs_sources = [\\n    source_dogs_v1\\n]\\n\\n# Iterate over each source folder\\nfor source_folder in tqdm(all_dogs_sources, desc=\"Processing source folders\"):\\n    for animal_folder in source_folder.iterdir():\\n        if animal_folder.is_dir():\\n            # Create a corresponding folder in the master directory\\n            new_folder = master_folder / animal_folder.name\\n            new_folder.mkdir(exist_ok=True)\\n\\n            # Iterate over image files in the current animal folder\\n            for img_file in tqdm(animal_folder.iterdir(), desc=f\"Processing {animal_folder.name}\"):\\n                if img_file.is_file():\\n                    try:\\n                        # Open the image to check its size\\n                        with Image.open(img_file) as img:\\n                          shutil.copy(img_file, new_folder / img_file.name)\\n                    except Exception as e:\\n                        print(f\"Error processing {img_file.name}: {e}\")\\n\\n                        '"
      ]
     },
     "execution_count": 11,
     "metadata": {},
     "output_type": "execute_result"
    }
   ],
   "source": [
    "# No image filtering \n",
    "'''\n",
    "all_dogs_sources = [\n",
    "    source_dogs_v1\n",
    "]\n",
    "\n",
    "# Iterate over each source folder\n",
    "for source_folder in tqdm(all_dogs_sources, desc=\"Processing source folders\"):\n",
    "    for animal_folder in source_folder.iterdir():\n",
    "        if animal_folder.is_dir():\n",
    "            # Create a corresponding folder in the master directory\n",
    "            new_folder = master_folder / animal_folder.name\n",
    "            new_folder.mkdir(exist_ok=True)\n",
    "            \n",
    "            # Iterate over image files in the current animal folder\n",
    "            for img_file in tqdm(animal_folder.iterdir(), desc=f\"Processing {animal_folder.name}\"):\n",
    "                if img_file.is_file():\n",
    "                    try:\n",
    "                        # Open the image to check its size\n",
    "                        with Image.open(img_file) as img:\n",
    "                          shutil.copy(img_file, new_folder / img_file.name)\n",
    "                    except Exception as e:\n",
    "                        print(f\"Error processing {img_file.name}: {e}\")\n",
    "\n",
    "                        '''\n"
   ]
  },
  {
   "cell_type": "code",
   "execution_count": 13,
   "id": "aafce560",
   "metadata": {},
   "outputs": [
    {
     "name": "stderr",
     "output_type": "stream",
     "text": [
      "Processing source folders:   0%|          | 0/1 [00:00<?, ?it/s]"
     ]
    },
    {
     "name": "stdout",
     "output_type": "stream",
     "text": [
      "Skipping n02110627_11211.jpg: dimensions 200x156 are smaller than 224x224.\n",
      "Skipping n02110627_11365.jpg: dimensions 109x110 are smaller than 224x224.\n",
      "Skipping n02110627_11422.jpg: dimensions 160x170 are smaller than 224x224.\n",
      "Skipping n02110627_11435.jpg: dimensions 300x199 are smaller than 224x224.\n",
      "Skipping n02110627_11584.jpg: dimensions 200x150 are smaller than 224x224.\n",
      "Skipping n02110627_11614.jpg: dimensions 216x152 are smaller than 224x224.\n",
      "Skipping n02110627_11783.jpg: dimensions 200x200 are smaller than 224x224.\n",
      "Skipping n02110627_11798.jpg: dimensions 225x175 are smaller than 224x224.\n",
      "Skipping n02110627_11819.jpg: dimensions 250x186 are smaller than 224x224.\n",
      "Skipping n02110627_11835.jpg: dimensions 240x180 are smaller than 224x224.\n",
      "Skipping n02110627_11858.jpg: dimensions 198x187 are smaller than 224x224.\n",
      "Skipping n02110627_11875.jpg: dimensions 142x142 are smaller than 224x224.\n",
      "Skipping n02110627_11942.jpg: dimensions 200x280 are smaller than 224x224.\n",
      "Skipping n02110627_12070.jpg: dimensions 212x214 are smaller than 224x224.\n",
      "Skipping n02110627_12431.jpg: dimensions 152x151 are smaller than 224x224.\n",
      "Skipping n02110627_12819.jpg: dimensions 170x200 are smaller than 224x224.\n",
      "Skipping n02110627_12893.jpg: dimensions 212x307 are smaller than 224x224.\n",
      "Skipping n02110627_12938.jpg: dimensions 200x300 are smaller than 224x224.\n",
      "Skipping n02110627_12997.jpg: dimensions 212x239 are smaller than 224x224.\n",
      "Skipping n02110627_13020.jpg: dimensions 210x296 are smaller than 224x224.\n",
      "Skipping n02110627_13032.jpg: dimensions 144x143 are smaller than 224x224.\n",
      "Skipping n02110627_13211.jpg: dimensions 240x168 are smaller than 224x224.\n",
      "Skipping n02110627_13420.jpg: dimensions 266x214 are smaller than 224x224.\n",
      "Skipping n02110627_13453.jpg: dimensions 103x120 are smaller than 224x224.\n",
      "Skipping n02110627_13499.jpg: dimensions 250x188 are smaller than 224x224.\n",
      "Skipping n02110627_13662.jpg: dimensions 137x125 are smaller than 224x224.\n",
      "Skipping n02110627_13665.jpg: dimensions 300x208 are smaller than 224x224.\n",
      "Skipping n02110627_13782.jpg: dimensions 230x205 are smaller than 224x224.\n",
      "Skipping n02110627_13939.jpg: dimensions 156x176 are smaller than 224x224.\n"
     ]
    },
    {
     "name": "stderr",
     "output_type": "stream",
     "text": []
    },
    {
     "name": "stdout",
     "output_type": "stream",
     "text": [
      "Skipping n02110627_1966.jpg: dimensions 212x257 are smaller than 224x224.\n",
      "Skipping n02110627_2157.jpg: dimensions 132x200 are smaller than 224x224.\n",
      "Skipping n02110627_233.jpg: dimensions 171x200 are smaller than 224x224.\n",
      "Skipping n02110627_2894.jpg: dimensions 186x207 are smaller than 224x224.\n",
      "Skipping n02110627_3026.jpg: dimensions 170x150 are smaller than 224x224.\n",
      "Skipping n02110627_4597.jpg: dimensions 128x150 are smaller than 224x224.\n",
      "Skipping n02110627_5743.jpg: dimensions 200x305 are smaller than 224x224.\n",
      "Skipping n02110627_6414.jpg: dimensions 250x197 are smaller than 224x224.\n",
      "Skipping n02110627_6991.jpg: dimensions 200x150 are smaller than 224x224.\n",
      "Skipping n02110627_7013.jpg: dimensions 200x200 are smaller than 224x224.\n",
      "Skipping n02110627_735.jpg: dimensions 150x160 are smaller than 224x224.\n"
     ]
    },
    {
     "name": "stderr",
     "output_type": "stream",
     "text": [
      "Processing affenpinscher: 150it [00:00, 268.16it/s]\n"
     ]
    },
    {
     "name": "stdout",
     "output_type": "stream",
     "text": [
      "Skipping n02110627_8250.jpg: dimensions 112x120 are smaller than 224x224.\n",
      "Skipping n02110627_8621.jpg: dimensions 270x222 are smaller than 224x224.\n",
      "Skipping n02110627_8695.jpg: dimensions 200x140 are smaller than 224x224.\n",
      "Skipping n02110627_8714.jpg: dimensions 200x200 are smaller than 224x224.\n"
     ]
    },
    {
     "name": "stderr",
     "output_type": "stream",
     "text": [
      "\n"
     ]
    },
    {
     "name": "stdout",
     "output_type": "stream",
     "text": [
      "Skipping n02088094_13270.jpg: dimensions 196x259 are smaller than 224x224.\n"
     ]
    },
    {
     "name": "stderr",
     "output_type": "stream",
     "text": [
      "Processing afghan hound: 71it [00:00, 172.11it/s]\u001b[A"
     ]
    },
    {
     "name": "stdout",
     "output_type": "stream",
     "text": [
      "Skipping n02088094_4049.jpg: dimensions 200x207 are smaller than 224x224.\n"
     ]
    },
    {
     "name": "stderr",
     "output_type": "stream",
     "text": []
    },
    {
     "name": "stdout",
     "output_type": "stream",
     "text": [
      "Skipping n02088094_6493.jpg: dimensions 193x295 are smaller than 224x224.\n"
     ]
    },
    {
     "name": "stderr",
     "output_type": "stream",
     "text": [
      "Processing afghan hound: 239it [00:01, 192.67it/s]\n"
     ]
    },
    {
     "name": "stdout",
     "output_type": "stream",
     "text": [
      "Skipping n02116738_10024.jpg: dimensions 250x170 are smaller than 224x224.\n",
      "Skipping n02116738_10038.jpg: dimensions 200x138 are smaller than 224x224.\n",
      "Skipping n02116738_10169.jpg: dimensions 306x204 are smaller than 224x224.\n",
      "Skipping n02116738_10215.jpg: dimensions 300x219 are smaller than 224x224.\n",
      "Skipping n02116738_10476.jpg: dimensions 300x219 are smaller than 224x224.\n",
      "Skipping n02116738_10640.jpg: dimensions 215x143 are smaller than 224x224.\n",
      "Skipping n02116738_1927.jpg: dimensions 300x211 are smaller than 224x224.\n",
      "Skipping n02116738_204.jpg: dimensions 200x208 are smaller than 224x224.\n"
     ]
    },
    {
     "name": "stderr",
     "output_type": "stream",
     "text": []
    },
    {
     "name": "stdout",
     "output_type": "stream",
     "text": [
      "Skipping n02116738_288.jpg: dimensions 132x200 are smaller than 224x224.\n",
      "Skipping n02116738_3635.jpg: dimensions 294x212 are smaller than 224x224.\n",
      "Skipping n02116738_4335.jpg: dimensions 220x184 are smaller than 224x224.\n",
      "Skipping n02116738_4641.jpg: dimensions 250x167 are smaller than 224x224.\n",
      "Skipping n02116738_4720.jpg: dimensions 300x200 are smaller than 224x224.\n"
     ]
    },
    {
     "name": "stderr",
     "output_type": "stream",
     "text": []
    },
    {
     "name": "stdout",
     "output_type": "stream",
     "text": [
      "Skipping n02116738_5519.jpg: dimensions 150x224 are smaller than 224x224.\n",
      "Skipping n02116738_5936.jpg: dimensions 150x219 are smaller than 224x224.\n",
      "Skipping n02116738_5993.jpg: dimensions 196x240 are smaller than 224x224.\n",
      "Skipping n02116738_6746.jpg: dimensions 320x209 are smaller than 224x224.\n",
      "Skipping n02116738_7008.jpg: dimensions 288x194 are smaller than 224x224.\n",
      "Skipping n02116738_7340.jpg: dimensions 300x200 are smaller than 224x224.\n",
      "Skipping n02116738_7506.jpg: dimensions 161x250 are smaller than 224x224.\n",
      "Skipping n02116738_7537.jpg: dimensions 300x199 are smaller than 224x224.\n",
      "Skipping n02116738_8403.jpg: dimensions 125x173 are smaller than 224x224.\n",
      "Skipping n02116738_8512.jpg: dimensions 200x192 are smaller than 224x224.\n"
     ]
    },
    {
     "name": "stderr",
     "output_type": "stream",
     "text": [
      "Processing african hunting dog: 169it [00:00, 234.46it/s]\n"
     ]
    },
    {
     "name": "stdout",
     "output_type": "stream",
     "text": [
      "Skipping n02116738_9164.jpg: dimensions 250x188 are smaller than 224x224.\n",
      "Skipping n02116738_9769.jpg: dimensions 323x215 are smaller than 224x224.\n",
      "Skipping n02116738_9829.jpg: dimensions 202x300 are smaller than 224x224.\n"
     ]
    },
    {
     "name": "stderr",
     "output_type": "stream",
     "text": []
    },
    {
     "name": "stdout",
     "output_type": "stream",
     "text": [
      "Skipping n02096051_1736.jpg: dimensions 200x226 are smaller than 224x224."
     ]
    },
    {
     "name": "stderr",
     "output_type": "stream",
     "text": []
    },
    {
     "name": "stdout",
     "output_type": "stream",
     "text": [
      "\n"
     ]
    },
    {
     "name": "stderr",
     "output_type": "stream",
     "text": []
    },
    {
     "name": "stdout",
     "output_type": "stream",
     "text": [
      "Skipping n02096051_3088.jpg: dimensions 222x194 are smaller than 224x224.\n"
     ]
    },
    {
     "name": "stderr",
     "output_type": "stream",
     "text": []
    },
    {
     "name": "stdout",
     "output_type": "stream",
     "text": [
      "Skipping n02096051_517.jpg: dimensions 252x180 are smaller than 224x224.\n",
      "Skipping n02096051_6799.jpg: dimensions 223x335 are smaller than 224x224.\n"
     ]
    },
    {
     "name": "stderr",
     "output_type": "stream",
     "text": [
      "Processing airedale: 202it [00:01, 184.44it/s]\n"
     ]
    },
    {
     "name": "stdout",
     "output_type": "stream",
     "text": [
      "Skipping n02093428_1378.jpg: dimensions 222x200 are smaller than 224x224.\n",
      "Skipping n02093428_14252.jpg: dimensions 200x164 are smaller than 224x224.\n",
      "Skipping n02093428_14550.jpg: dimensions 250x210 are smaller than 224x224.\n",
      "Skipping n02093428_16660.jpg: dimensions 166x197 are smaller than 224x224.\n"
     ]
    },
    {
     "name": "stderr",
     "output_type": "stream",
     "text": []
    },
    {
     "name": "stdout",
     "output_type": "stream",
     "text": [
      "Skipping n02093428_2603.jpg: dimensions 250x213 are smaller than 224x224.\n",
      "Skipping n02093428_3001.jpg: dimensions 200x216 are smaller than 224x224.\n",
      "Skipping n02093428_5165.jpg: dimensions 200x229 are smaller than 224x224.\n"
     ]
    },
    {
     "name": "stderr",
     "output_type": "stream",
     "text": [
      "Processing american staffordshire terrier: 164it [00:00, 206.93it/s]\n"
     ]
    },
    {
     "name": "stdout",
     "output_type": "stream",
     "text": [
      "Skipping n02093428_738.jpg: dimensions 192x192 are smaller than 224x224.\n",
      "Skipping n02093428_8456.jpg: dimensions 171x177 are smaller than 224x224.\n",
      "Skipping n02093428_9002.jpg: dimensions 170x194 are smaller than 224x224.\n"
     ]
    },
    {
     "name": "stderr",
     "output_type": "stream",
     "text": [
      "\n"
     ]
    },
    {
     "name": "stdout",
     "output_type": "stream",
     "text": [
      "Skipping n02107908_1235.jpg: dimensions 268x185 are smaller than 224x224.\n",
      "Skipping n02107908_2227.jpg: dimensions 217x162 are smaller than 224x224.\n"
     ]
    },
    {
     "name": "stderr",
     "output_type": "stream",
     "text": [
      "Processing appenzeller: 22it [00:00, 219.09it/s]\u001b[A"
     ]
    },
    {
     "name": "stdout",
     "output_type": "stream",
     "text": [
      "Skipping n02107908_2365.jpg: dimensions 187x160 are smaller than 224x224.\n",
      "Skipping n02107908_2608.jpg: dimensions 195x300 are smaller than 224x224.\n",
      "Skipping n02107908_3720.jpg: dimensions 233x198 are smaller than 224x224.\n"
     ]
    },
    {
     "name": "stderr",
     "output_type": "stream",
     "text": []
    },
    {
     "name": "stdout",
     "output_type": "stream",
     "text": [
      "Skipping n02107908_4301.jpg: dimensions 250x213 are smaller than 224x224.\n"
     ]
    },
    {
     "name": "stderr",
     "output_type": "stream",
     "text": []
    },
    {
     "name": "stdout",
     "output_type": "stream",
     "text": [
      "Skipping n02107908_585.jpg: dimensions 230x165 are smaller than 224x224.\n"
     ]
    },
    {
     "name": "stderr",
     "output_type": "stream",
     "text": [
      "Processing appenzeller: 151it [00:00, 203.51it/s]\n"
     ]
    },
    {
     "name": "stdout",
     "output_type": "stream",
     "text": [
      "Skipping n02096294_1111.jpg: dimensions 250x218 are smaller than 224x224.\n",
      "Skipping n02096294_1243.jpg: dimensions 200x150 are smaller than 224x224.\n",
      "Skipping n02096294_1429.jpg: dimensions 221x257 are smaller than 224x224.\n",
      "Skipping n02096294_1470.jpg: dimensions 200x217 are smaller than 224x224.\n",
      "Skipping n02096294_1536.jpg: dimensions 200x194 are smaller than 224x224.\n",
      "Skipping n02096294_1553.jpg: dimensions 200x209 are smaller than 224x224.\n",
      "Skipping n02096294_160.jpg: dimensions 200x173 are smaller than 224x224.\n",
      "Skipping n02096294_1754.jpg: dimensions 180x173 are smaller than 224x224.\n",
      "Skipping n02096294_1803.jpg: dimensions 229x217 are smaller than 224x224.\n",
      "Skipping n02096294_1926.jpg: dimensions 186x207 are smaller than 224x224.\n",
      "Skipping n02096294_1953.jpg: dimensions 300x213 are smaller than 224x224.\n",
      "Skipping n02096294_2175.jpg: dimensions 266x205 are smaller than 224x224.\n",
      "Skipping n02096294_2206.jpg: dimensions 260x216 are smaller than 224x224.\n",
      "Skipping n02096294_2408.jpg: dimensions 223x300 are smaller than 224x224.\n",
      "Skipping n02096294_250.jpg: dimensions 190x284 are smaller than 224x224.\n",
      "Skipping n02096294_261.jpg: dimensions 200x168 are smaller than 224x224.\n",
      "Skipping n02096294_2750.jpg: dimensions 250x188 are smaller than 224x224.\n",
      "Skipping n02096294_285.jpg: dimensions 223x259 are smaller than 224x224.\n"
     ]
    },
    {
     "name": "stderr",
     "output_type": "stream",
     "text": []
    },
    {
     "name": "stdout",
     "output_type": "stream",
     "text": [
      "Skipping n02096294_3137.jpg: dimensions 208x299 are smaller than 224x224.\n",
      "Skipping n02096294_3344.jpg: dimensions 196x251 are smaller than 224x224.\n",
      "Skipping n02096294_3413.jpg: dimensions 204x171 are smaller than 224x224.\n",
      "Skipping n02096294_3494.jpg: dimensions 139x200 are smaller than 224x224.\n",
      "Skipping n02096294_3533.jpg: dimensions 160x170 are smaller than 224x224.\n",
      "Skipping n02096294_3595.jpg: dimensions 200x134 are smaller than 224x224.\n",
      "Skipping n02096294_3632.jpg: dimensions 179x180 are smaller than 224x224.\n",
      "Skipping n02096294_412.jpg: dimensions 200x296 are smaller than 224x224.\n",
      "Skipping n02096294_436.jpg: dimensions 139x213 are smaller than 224x224.\n",
      "Skipping n02096294_459.jpg: dimensions 200x149 are smaller than 224x224.\n"
     ]
    },
    {
     "name": "stderr",
     "output_type": "stream",
     "text": []
    },
    {
     "name": "stdout",
     "output_type": "stream",
     "text": [
      "Skipping n02096294_67.jpg: dimensions 200x212 are smaller than 224x224.\n",
      "Skipping n02096294_671.jpg: dimensions 200x153 are smaller than 224x224.\n",
      "Skipping n02096294_836.jpg: dimensions 200x172 are smaller than 224x224.\n"
     ]
    },
    {
     "name": "stderr",
     "output_type": "stream",
     "text": [
      "Processing australian terrier: 196it [00:00, 251.11it/s]\n"
     ]
    },
    {
     "name": "stdout",
     "output_type": "stream",
     "text": [
      "Skipping n02110806_1639.jpg: dimensions 295x216 are smaller than 224x224.\n",
      "Skipping n02110806_1916.jpg: dimensions 262x204 are smaller than 224x224.\n",
      "Skipping n02110806_2208.jpg: dimensions 194x240 are smaller than 224x224.\n"
     ]
    },
    {
     "name": "stderr",
     "output_type": "stream",
     "text": []
    },
    {
     "name": "stdout",
     "output_type": "stream",
     "text": [
      "Skipping n02110806_4198.jpg: dimensions 192x175 are smaller than 224x224.\n"
     ]
    },
    {
     "name": "stderr",
     "output_type": "stream",
     "text": []
    },
    {
     "name": "stdout",
     "output_type": "stream",
     "text": [
      "Skipping n02110806_5381.jpg: dimensions 252x222 are smaller than 224x224.\n",
      "Skipping n02110806_6137.jpg: dimensions 117x186 are smaller than 224x224.\n",
      "Skipping n02110806_762.jpg: dimensions 120x110 are smaller than 224x224.\n"
     ]
    },
    {
     "name": "stderr",
     "output_type": "stream",
     "text": [
      "Processing basenji: 209it [00:01, 204.27it/s]\n"
     ]
    },
    {
     "name": "stdout",
     "output_type": "stream",
     "text": [
      "Skipping n02110806_919.jpg: dimensions 288x216 are smaller than 224x224.\n"
     ]
    },
    {
     "name": "stderr",
     "output_type": "stream",
     "text": []
    },
    {
     "name": "stdout",
     "output_type": "stream",
     "text": [
      "Skipping n02088238_6707.jpg: dimensions 188x250 are smaller than 224x224.\n"
     ]
    },
    {
     "name": "stderr",
     "output_type": "stream",
     "text": [
      "Processing basset: 175it [00:00, 212.14it/s]\n"
     ]
    },
    {
     "name": "stdout",
     "output_type": "stream",
     "text": [
      "Skipping n02088364_10362.jpg: dimensions 335x199 are smaller than 224x224.\n",
      "Skipping n02088364_12334.jpg: dimensions 250x188 are smaller than 224x224.\n"
     ]
    },
    {
     "name": "stderr",
     "output_type": "stream",
     "text": [
      "Processing beagle: 195it [00:00, 215.16it/s]\n"
     ]
    },
    {
     "name": "stdout",
     "output_type": "stream",
     "text": [
      "Skipping n02093647_1037.jpg: dimensions 196x187 are smaller than 224x224.\n",
      "Skipping n02093647_1156.jpg: dimensions 160x170 are smaller than 224x224.\n",
      "Skipping n02093647_1238.jpg: dimensions 230x188 are smaller than 224x224.\n",
      "Skipping n02093647_1249.jpg: dimensions 213x165 are smaller than 224x224.\n",
      "Skipping n02093647_1278.jpg: dimensions 189x146 are smaller than 224x224.\n",
      "Skipping n02093647_1393.jpg: dimensions 147x180 are smaller than 224x224.\n",
      "Skipping n02093647_1556.jpg: dimensions 210x276 are smaller than 224x224.\n",
      "Skipping n02093647_1558.jpg: dimensions 291x210 are smaller than 224x224.\n",
      "Skipping n02093647_1591.jpg: dimensions 316x220 are smaller than 224x224.\n"
     ]
    },
    {
     "name": "stderr",
     "output_type": "stream",
     "text": []
    },
    {
     "name": "stdout",
     "output_type": "stream",
     "text": [
      "Skipping n02093647_1764.jpg: dimensions 250x215 are smaller than 224x224.\n",
      "Skipping n02093647_1791.jpg: dimensions 188x150 are smaller than 224x224.\n",
      "Skipping n02093647_1870.jpg: dimensions 208x167 are smaller than 224x224.\n",
      "Skipping n02093647_1963.jpg: dimensions 180x140 are smaller than 224x224.\n",
      "Skipping n02093647_2068.jpg: dimensions 150x252 are smaller than 224x224.\n",
      "Skipping n02093647_2162.jpg: dimensions 200x225 are smaller than 224x224.\n",
      "Skipping n02093647_2192.jpg: dimensions 190x142 are smaller than 224x224.\n",
      "Skipping n02093647_2294.jpg: dimensions 300x217 are smaller than 224x224.\n",
      "Skipping n02093647_2316.jpg: dimensions 266x184 are smaller than 224x224.\n",
      "Skipping n02093647_2343.jpg: dimensions 200x200 are smaller than 224x224.\n",
      "Skipping n02093647_24.jpg: dimensions 200x150 are smaller than 224x224.\n",
      "Skipping n02093647_2616.jpg: dimensions 177x350 are smaller than 224x224.\n"
     ]
    },
    {
     "name": "stderr",
     "output_type": "stream",
     "text": []
    },
    {
     "name": "stdout",
     "output_type": "stream",
     "text": [
      "Skipping n02093647_2633.jpg: dimensions 171x177 are smaller than 224x224.\n",
      "Skipping n02093647_2665.jpg: dimensions 200x185 are smaller than 224x224.\n",
      "Skipping n02093647_2698.jpg: dimensions 184x184 are smaller than 224x224.\n",
      "Skipping n02093647_271.jpg: dimensions 225x200 are smaller than 224x224.\n",
      "Skipping n02093647_2747.jpg: dimensions 180x130 are smaller than 224x224.\n",
      "Skipping n02093647_2756.jpg: dimensions 200x150 are smaller than 224x224.\n"
     ]
    },
    {
     "name": "stderr",
     "output_type": "stream",
     "text": [
      "Processing bedlington terrier: 182it [00:00, 235.79it/s]\n"
     ]
    },
    {
     "name": "stdout",
     "output_type": "stream",
     "text": [
      "Skipping n02093647_3338.jpg: dimensions 288x216 are smaller than 224x224.\n",
      "Skipping n02093647_3453.jpg: dimensions 300x199 are smaller than 224x224.\n",
      "Skipping n02093647_3473.jpg: dimensions 221x147 are smaller than 224x224.\n",
      "Skipping n02093647_3515.jpg: dimensions 160x170 are smaller than 224x224.\n",
      "Skipping n02093647_502.jpg: dimensions 275x183 are smaller than 224x224.\n",
      "Skipping n02093647_599.jpg: dimensions 240x213 are smaller than 224x224.\n",
      "Skipping n02093647_630.jpg: dimensions 200x200 are smaller than 224x224.\n",
      "Skipping n02093647_721.jpg: dimensions 196x254 are smaller than 224x224.\n",
      "Skipping n02093647_722.jpg: dimensions 280x189 are smaller than 224x224.\n"
     ]
    },
    {
     "name": "stderr",
     "output_type": "stream",
     "text": [
      "\n"
     ]
    },
    {
     "name": "stdout",
     "output_type": "stream",
     "text": [
      "Skipping n02107683_3382.jpg: dimensions 346x218 are smaller than 224x224.\n"
     ]
    },
    {
     "name": "stderr",
     "output_type": "stream",
     "text": [
      "Processing bernese mountain dog: 121it [00:00, 228.98it/s]\u001b[A\n"
     ]
    },
    {
     "name": "stdout",
     "output_type": "stream",
     "text": [
      "Skipping n02107683_4947.jpg: dimensions 170x300 are smaller than 224x224.\n"
     ]
    },
    {
     "name": "stderr",
     "output_type": "stream",
     "text": [
      "Processing bernese mountain dog: 218it [00:00, 224.33it/s]\u001b[A\n"
     ]
    },
    {
     "name": "stdout",
     "output_type": "stream",
     "text": [
      "Skipping n02089078_1245.jpg: dimensions 240x180 are smaller than 224x224.\n",
      "Skipping n02089078_1304.jpg: dimensions 190x247 are smaller than 224x224.\n",
      "Skipping n02089078_1366.jpg: dimensions 275x196 are smaller than 224x224.\n",
      "Skipping n02089078_1617.jpg: dimensions 200x200 are smaller than 224x224.\n",
      "Skipping n02089078_1680.jpg: dimensions 200x202 are smaller than 224x224.\n",
      "Skipping n02089078_176.jpg: dimensions 293x220 are smaller than 224x224.\n",
      "Skipping n02089078_1825.jpg: dimensions 150x130 are smaller than 224x224.\n",
      "Skipping n02089078_1836.jpg: dimensions 148x205 are smaller than 224x224.\n",
      "Skipping n02089078_19.jpg: dimensions 276x185 are smaller than 224x224.\n",
      "Skipping n02089078_2225.jpg: dimensions 240x184 are smaller than 224x224.\n",
      "Skipping n02089078_2227.jpg: dimensions 200x179 are smaller than 224x224.\n",
      "Skipping n02089078_2232.jpg: dimensions 200x200 are smaller than 224x224.\n",
      "Skipping n02089078_2282.jpg: dimensions 300x194 are smaller than 224x224.\n",
      "Skipping n02089078_237.jpg: dimensions 200x253 are smaller than 224x224.\n"
     ]
    },
    {
     "name": "stderr",
     "output_type": "stream",
     "text": []
    },
    {
     "name": "stdout",
     "output_type": "stream",
     "text": [
      "Skipping n02089078_2574.jpg: dimensions 237x194 are smaller than 224x224.\n",
      "Skipping n02089078_2684.jpg: dimensions 200x255 are smaller than 224x224.\n",
      "Skipping n02089078_269.jpg: dimensions 200x200 are smaller than 224x224.\n",
      "Skipping n02089078_2753.jpg: dimensions 200x180 are smaller than 224x224.\n",
      "Skipping n02089078_2794.jpg: dimensions 208x200 are smaller than 224x224.\n",
      "Skipping n02089078_2903.jpg: dimensions 197x300 are smaller than 224x224.\n",
      "Skipping n02089078_302.jpg: dimensions 250x214 are smaller than 224x224.\n",
      "Skipping n02089078_3038.jpg: dimensions 220x275 are smaller than 224x224.\n",
      "Skipping n02089078_3078.jpg: dimensions 250x223 are smaller than 224x224.\n",
      "Skipping n02089078_3081.jpg: dimensions 300x201 are smaller than 224x224.\n",
      "Skipping n02089078_3134.jpg: dimensions 200x290 are smaller than 224x224.\n",
      "Skipping n02089078_324.jpg: dimensions 215x199 are smaller than 224x224.\n",
      "Skipping n02089078_3419.jpg: dimensions 240x180 are smaller than 224x224.\n",
      "Skipping n02089078_3440.jpg: dimensions 219x293 are smaller than 224x224.\n",
      "Skipping n02089078_3532.jpg: dimensions 240x180 are smaller than 224x224.\n",
      "Skipping n02089078_3543.jpg: dimensions 190x257 are smaller than 224x224.\n",
      "Skipping n02089078_3615.jpg: dimensions 240x180 are smaller than 224x224.\n",
      "Skipping n02089078_3807.jpg: dimensions 200x253 are smaller than 224x224.\n"
     ]
    },
    {
     "name": "stderr",
     "output_type": "stream",
     "text": [
      "Processing black-and-tan coonhound: 159it [00:00, 273.66it/s]\n"
     ]
    },
    {
     "name": "stdout",
     "output_type": "stream",
     "text": [
      "Skipping n02089078_4186.jpg: dimensions 360x211 are smaller than 224x224.\n",
      "Skipping n02089078_4422.jpg: dimensions 208x144 are smaller than 224x224.\n",
      "Skipping n02089078_4441.jpg: dimensions 288x192 are smaller than 224x224.\n",
      "Skipping n02089078_445.jpg: dimensions 178x366 are smaller than 224x224.\n",
      "Skipping n02089078_4466.jpg: dimensions 100x115 are smaller than 224x224.\n",
      "Skipping n02089078_52.jpg: dimensions 250x223 are smaller than 224x224.\n",
      "Skipping n02089078_682.jpg: dimensions 280x214 are smaller than 224x224.\n"
     ]
    },
    {
     "name": "stderr",
     "output_type": "stream",
     "text": []
    },
    {
     "name": "stdout",
     "output_type": "stream",
     "text": [
      "Skipping n02086646_1077.jpg: dimensions 97x134 are smaller than 224x224.\n",
      "Skipping n02086646_1094.jpg: dimensions 176x200 are smaller than 224x224.\n",
      "Skipping n02086646_1447.jpg: dimensions 198x255 are smaller than 224x224.\n"
     ]
    },
    {
     "name": "stderr",
     "output_type": "stream",
     "text": []
    },
    {
     "name": "stdout",
     "output_type": "stream",
     "text": [
      "Skipping n02086646_1476.jpg: dimensions 148x185 are smaller than 224x224.\n",
      "Skipping n02086646_1621.jpg: dimensions 257x167 are smaller than 224x224.\n",
      "Skipping n02086646_1673.jpg: dimensions 175x204 are smaller than 224x224.\n",
      "Skipping n02086646_1674.jpg: dimensions 330x222 are smaller than 224x224.\n",
      "Skipping n02086646_1830.jpg: dimensions 265x184 are smaller than 224x224.\n",
      "Skipping n02086646_1845.jpg: dimensions 181x285 are smaller than 224x224.\n",
      "Skipping n02086646_1936.jpg: dimensions 175x280 are smaller than 224x224.\n"
     ]
    },
    {
     "name": "stderr",
     "output_type": "stream",
     "text": []
    },
    {
     "name": "stdout",
     "output_type": "stream",
     "text": [
      "Skipping n02086646_2005.jpg: dimensions 250x198 are smaller than 224x224.\n",
      "Skipping n02086646_2011.jpg: dimensions 200x200 are smaller than 224x224.\n",
      "Skipping n02086646_2160.jpg: dimensions 145x232 are smaller than 224x224.\n",
      "Skipping n02086646_2171.jpg: dimensions 230x217 are smaller than 224x224.\n",
      "Skipping n02086646_23.jpg: dimensions 150x150 are smaller than 224x224.\n",
      "Skipping n02086646_2621.jpg: dimensions 300x222 are smaller than 224x224.\n"
     ]
    },
    {
     "name": "stderr",
     "output_type": "stream",
     "text": [
      "\n"
     ]
    },
    {
     "name": "stdout",
     "output_type": "stream",
     "text": [
      "Skipping n02086646_3161.jpg: dimensions 250x200 are smaller than 224x224.\n",
      "Skipping n02086646_32.jpg: dimensions 200x150 are smaller than 224x224.\n",
      "Skipping n02086646_326.jpg: dimensions 208x198 are smaller than 224x224.\n",
      "Skipping n02086646_3484.jpg: dimensions 200x144 are smaller than 224x224.\n",
      "Skipping n02086646_3524.jpg: dimensions 250x222 are smaller than 224x224.\n",
      "Skipping n02086646_3688.jpg: dimensions 200x194 are smaller than 224x224.\n",
      "Skipping n02086646_3738.jpg: dimensions 220x220 are smaller than 224x224.\n",
      "Skipping n02086646_3920.jpg: dimensions 250x200 are smaller than 224x224.\n",
      "Skipping n02086646_416.jpg: dimensions 200x200 are smaller than 224x224.\n"
     ]
    },
    {
     "name": "stderr",
     "output_type": "stream",
     "text": [
      "Processing blenheim spaniel: 188it [00:00, 239.54it/s]\u001b[A\n"
     ]
    },
    {
     "name": "stdout",
     "output_type": "stream",
     "text": [
      "Skipping n02086646_4177.jpg: dimensions 300x199 are smaller than 224x224.\n",
      "Skipping n02086646_4226.jpg: dimensions 190x270 are smaller than 224x224.\n",
      "Skipping n02086646_4298.jpg: dimensions 200x299 are smaller than 224x224.\n",
      "Skipping n02086646_462.jpg: dimensions 225x180 are smaller than 224x224.\n"
     ]
    },
    {
     "name": "stderr",
     "output_type": "stream",
     "text": []
    },
    {
     "name": "stdout",
     "output_type": "stream",
     "text": [
      "Skipping n02088466_1015.jpg: dimensions 240x184 are smaller than 224x224.\n",
      "Skipping n02088466_10331.jpg: dimensions 223x259 are smaller than 224x224.\n"
     ]
    },
    {
     "name": "stderr",
     "output_type": "stream",
     "text": []
    },
    {
     "name": "stdout",
     "output_type": "stream",
     "text": [
      "Skipping n02088466_3333.jpg: dimensions 179x304 are smaller than 224x224.\n",
      "Skipping n02088466_3448.jpg: dimensions 179x260 are smaller than 224x224.\n"
     ]
    },
    {
     "name": "stderr",
     "output_type": "stream",
     "text": []
    },
    {
     "name": "stdout",
     "output_type": "stream",
     "text": [
      "Skipping n02088466_6160.jpg: dimensions 200x219 are smaller than 224x224.\n",
      "Skipping n02088466_6984.jpg: dimensions 187x252 are smaller than 224x224.\n"
     ]
    },
    {
     "name": "stderr",
     "output_type": "stream",
     "text": []
    },
    {
     "name": "stdout",
     "output_type": "stream",
     "text": [
      "Skipping n02088466_8201.jpg: dimensions 255x217 are smaller than 224x224.\n",
      "Skipping n02088466_8904.jpg: dimensions 211x300 are smaller than 224x224.\n",
      "Skipping n02088466_9359.jpg: dimensions 220x220 are smaller than 224x224.\n"
     ]
    },
    {
     "name": "stderr",
     "output_type": "stream",
     "text": [
      "Processing bloodhound: 187it [00:00, 213.93it/s]\n"
     ]
    },
    {
     "name": "stdout",
     "output_type": "stream",
     "text": [
      "Skipping n02088632_108.jpg: dimensions 266x200 are smaller than 224x224.\n",
      "Skipping n02088632_1625.jpg: dimensions 118x120 are smaller than 224x224.\n",
      "Skipping n02088632_171.jpg: dimensions 240x180 are smaller than 224x224.\n"
     ]
    },
    {
     "name": "stderr",
     "output_type": "stream",
     "text": []
    },
    {
     "name": "stdout",
     "output_type": "stream",
     "text": [
      "Skipping n02088632_2867.jpg: dimensions 200x150 are smaller than 224x224.\n",
      "Skipping n02088632_301.jpg: dimensions 235x188 are smaller than 224x224.\n",
      "Skipping n02088632_3049.jpg: dimensions 200x243 are smaller than 224x224.\n",
      "Skipping n02088632_3404.jpg: dimensions 203x211 are smaller than 224x224.\n",
      "Skipping n02088632_353.jpg: dimensions 250x223 are smaller than 224x224.\n",
      "Skipping n02088632_3888.jpg: dimensions 200x200 are smaller than 224x224.\n"
     ]
    },
    {
     "name": "stderr",
     "output_type": "stream",
     "text": []
    },
    {
     "name": "stdout",
     "output_type": "stream",
     "text": [
      "Skipping n02088632_3923.jpg: dimensions 240x184 are smaller than 224x224.\n",
      "Skipping n02088632_4157.jpg: dimensions 220x227 are smaller than 224x224.\n",
      "Skipping n02088632_4160.jpg: dimensions 200x200 are smaller than 224x224.\n",
      "Skipping n02088632_4590.jpg: dimensions 272x221 are smaller than 224x224.\n",
      "Skipping n02088632_4625.jpg: dimensions 200x216 are smaller than 224x224.\n",
      "Skipping n02088632_4647.jpg: dimensions 227x180 are smaller than 224x224.\n"
     ]
    },
    {
     "name": "stderr",
     "output_type": "stream",
     "text": [
      "Processing bluetick: 171it [00:00, 204.09it/s]\n"
     ]
    },
    {
     "name": "stdout",
     "output_type": "stream",
     "text": [
      "Skipping n02088632_613.jpg: dimensions 240x220 are smaller than 224x224.\n",
      "Skipping n02088632_834.jpg: dimensions 200x215 are smaller than 224x224.\n",
      "Skipping n02088632_924.jpg: dimensions 191x191 are smaller than 224x224.\n"
     ]
    },
    {
     "name": "stderr",
     "output_type": "stream",
     "text": [
      "\n"
     ]
    },
    {
     "name": "stdout",
     "output_type": "stream",
     "text": [
      "Skipping n02106166_1460.jpg: dimensions 249x196 are smaller than 224x224.\n",
      "Skipping n02106166_1674.jpg: dimensions 400x211 are smaller than 224x224.\n"
     ]
    },
    {
     "name": "stderr",
     "output_type": "stream",
     "text": [
      "Processing border collie: 150it [00:00, 221.68it/s][A\n"
     ]
    },
    {
     "name": "stdout",
     "output_type": "stream",
     "text": [
      "Skipping n02106166_6569.jpg: dimensions 240x134 are smaller than 224x224.\n",
      "Skipping n02106166_6659.jpg: dimensions 288x216 are smaller than 224x224.\n",
      "Skipping n02106166_943.jpg: dimensions 220x168 are smaller than 224x224.\n"
     ]
    },
    {
     "name": "stderr",
     "output_type": "stream",
     "text": []
    },
    {
     "name": "stdout",
     "output_type": "stream",
     "text": [
      "Skipping n02093754_1329.jpg: dimensions 138x170 are smaller than 224x224.\n",
      "Skipping n02093754_2742.jpg: dimensions 301x200 are smaller than 224x224.\n",
      "Skipping n02093754_3725.jpg: dimensions 318x212 are smaller than 224x224.\n"
     ]
    },
    {
     "name": "stderr",
     "output_type": "stream",
     "text": []
    },
    {
     "name": "stdout",
     "output_type": "stream",
     "text": [
      "Skipping n02093754_4271.jpg: dimensions 208x298 are smaller than 224x224.\n",
      "Skipping n02093754_4669.jpg: dimensions 167x180 are smaller than 224x224.\n",
      "Skipping n02093754_5190.jpg: dimensions 173x201 are smaller than 224x224.\n"
     ]
    },
    {
     "name": "stderr",
     "output_type": "stream",
     "text": []
    },
    {
     "name": "stdout",
     "output_type": "stream",
     "text": [
      "Skipping n02093754_6082.jpg: dimensions 301x200 are smaller than 224x224.\n",
      "Skipping n02093754_6483.jpg: dimensions 210x210 are smaller than 224x224.\n",
      "Skipping n02093754_667.jpg: dimensions 301x200 are smaller than 224x224.\n",
      "Skipping n02093754_7726.jpg: dimensions 200x285 are smaller than 224x224.\n"
     ]
    },
    {
     "name": "stderr",
     "output_type": "stream",
     "text": [
      "Processing border terrier: 172it [00:00, 224.24it/s]\n"
     ]
    },
    {
     "name": "stdout",
     "output_type": "stream",
     "text": [
      "Skipping n02093754_8019.jpg: dimensions 250x218 are smaller than 224x224.\n"
     ]
    },
    {
     "name": "stderr",
     "output_type": "stream",
     "text": []
    },
    {
     "name": "stdout",
     "output_type": "stream",
     "text": [
      "Skipping n02090622_3300.jpg: dimensions 250x173 are smaller than 224x224.\n",
      "Skipping n02090622_3763.jpg: dimensions 250x216 are smaller than 224x224.\n"
     ]
    },
    {
     "name": "stderr",
     "output_type": "stream",
     "text": [
      "Processing borzoi: 151it [00:00, 198.94it/s]\n"
     ]
    },
    {
     "name": "stdout",
     "output_type": "stream",
     "text": [
      "Skipping n02096585_11476.jpg: dimensions 200x209 are smaller than 224x224.\n"
     ]
    },
    {
     "name": "stderr",
     "output_type": "stream",
     "text": []
    },
    {
     "name": "stdout",
     "output_type": "stream",
     "text": [
      "Skipping n02096585_2727.jpg: dimensions 220x220 are smaller than 224x224.\n",
      "Skipping n02096585_353.jpg: dimensions 220x405 are smaller than 224x224.\n",
      "Skipping n02096585_5043.jpg: dimensions 200x267 are smaller than 224x224.\n"
     ]
    },
    {
     "name": "stderr",
     "output_type": "stream",
     "text": [
      "Processing boston bull: 182it [00:01, 177.24it/s]\n"
     ]
    },
    {
     "name": "stdout",
     "output_type": "stream",
     "text": [
      "Skipping n02106382_1005.jpg: dimensions 197x177 are smaller than 224x224.\n",
      "Skipping n02106382_1016.jpg: dimensions 219x321 are smaller than 224x224.\n",
      "Skipping n02106382_1036.jpg: dimensions 183x278 are smaller than 224x224.\n",
      "Skipping n02106382_112.jpg: dimensions 200x300 are smaller than 224x224.\n",
      "Skipping n02106382_1123.jpg: dimensions 300x200 are smaller than 224x224.\n",
      "Skipping n02106382_1173.jpg: dimensions 250x207 are smaller than 224x224.\n",
      "Skipping n02106382_1399.jpg: dimensions 150x165 are smaller than 224x224.\n",
      "Skipping n02106382_1454.jpg: dimensions 190x190 are smaller than 224x224.\n",
      "Skipping n02106382_1486.jpg: dimensions 183x196 are smaller than 224x224.\n",
      "Skipping n02106382_1623.jpg: dimensions 205x264 are smaller than 224x224.\n",
      "Skipping n02106382_1633.jpg: dimensions 200x175 are smaller than 224x224.\n",
      "Skipping n02106382_1648.jpg: dimensions 272x207 are smaller than 224x224.\n",
      "Skipping n02106382_1700.jpg: dimensions 190x143 are smaller than 224x224.\n",
      "Skipping n02106382_1828.jpg: dimensions 180x250 are smaller than 224x224.\n",
      "Skipping n02106382_1925.jpg: dimensions 174x174 are smaller than 224x224.\n"
     ]
    },
    {
     "name": "stderr",
     "output_type": "stream",
     "text": []
    },
    {
     "name": "stdout",
     "output_type": "stream",
     "text": [
      "Skipping n02106382_2021.jpg: dimensions 184x184 are smaller than 224x224.\n",
      "Skipping n02106382_2305.jpg: dimensions 250x200 are smaller than 224x224.\n",
      "Skipping n02106382_2323.jpg: dimensions 200x156 are smaller than 224x224.\n",
      "Skipping n02106382_2502.jpg: dimensions 200x300 are smaller than 224x224.\n",
      "Skipping n02106382_2533.jpg: dimensions 140x175 are smaller than 224x224.\n",
      "Skipping n02106382_2536.jpg: dimensions 170x205 are smaller than 224x224.\n",
      "Skipping n02106382_2658.jpg: dimensions 222x178 are smaller than 224x224.\n",
      "Skipping n02106382_2663.jpg: dimensions 189x162 are smaller than 224x224.\n",
      "Skipping n02106382_29.jpg: dimensions 182x151 are smaller than 224x224.\n",
      "Skipping n02106382_3095.jpg: dimensions 200x176 are smaller than 224x224.\n"
     ]
    },
    {
     "name": "stderr",
     "output_type": "stream",
     "text": []
    },
    {
     "name": "stdout",
     "output_type": "stream",
     "text": [
      "Skipping n02106382_3425.jpg: dimensions 299x215 are smaller than 224x224.\n",
      "Skipping n02106382_3437.jpg: dimensions 178x200 are smaller than 224x224.\n",
      "Skipping n02106382_3802.jpg: dimensions 160x220 are smaller than 224x224.\n",
      "Skipping n02106382_3803.jpg: dimensions 200x268 are smaller than 224x224.\n",
      "Skipping n02106382_3848.jpg: dimensions 163x279 are smaller than 224x224.\n",
      "Skipping n02106382_4034.jpg: dimensions 205x415 are smaller than 224x224.\n",
      "Skipping n02106382_4629.jpg: dimensions 250x188 are smaller than 224x224.\n",
      "Skipping n02106382_4789.jpg: dimensions 200x250 are smaller than 224x224.\n",
      "Skipping n02106382_590.jpg: dimensions 175x193 are smaller than 224x224.\n",
      "Skipping n02106382_680.jpg: dimensions 243x182 are smaller than 224x224.\n",
      "Skipping n02106382_752.jpg: dimensions 200x207 are smaller than 224x224.\n"
     ]
    },
    {
     "name": "stderr",
     "output_type": "stream",
     "text": [
      "Processing bouvier des flandres: 150it [00:00, 218.58it/s]\n"
     ]
    },
    {
     "name": "stdout",
     "output_type": "stream",
     "text": [
      "Skipping n02106382_787.jpg: dimensions 200x150 are smaller than 224x224.\n",
      "Skipping n02106382_829.jpg: dimensions 158x150 are smaller than 224x224.\n",
      "Skipping n02106382_865.jpg: dimensions 220x165 are smaller than 224x224.\n",
      "Skipping n02106382_886.jpg: dimensions 148x193 are smaller than 224x224.\n"
     ]
    },
    {
     "name": "stderr",
     "output_type": "stream",
     "text": []
    },
    {
     "name": "stdout",
     "output_type": "stream",
     "text": [
      "Skipping n02108089_10901.jpg: dimensions 200x200 are smaller than 224x224.\n"
     ]
    },
    {
     "name": "stderr",
     "output_type": "stream",
     "text": []
    },
    {
     "name": "stdout",
     "output_type": "stream",
     "text": [
      "Skipping n02108089_14112.jpg: dimensions 251x200 are smaller than 224x224.\n"
     ]
    },
    {
     "name": "stderr",
     "output_type": "stream",
     "text": []
    },
    {
     "name": "stdout",
     "output_type": "stream",
     "text": [
      "Skipping n02108089_1575.jpg: dimensions 300x223 are smaller than 224x224.\n"
     ]
    },
    {
     "name": "stderr",
     "output_type": "stream",
     "text": []
    },
    {
     "name": "stdout",
     "output_type": "stream",
     "text": [
      "Skipping n02108089_3236.jpg: dimensions 160x160 are smaller than 224x224.\n",
      "Skipping n02108089_4158.jpg: dimensions 190x175 are smaller than 224x224.\n",
      "Skipping n02108089_530.jpg: dimensions 266x200 are smaller than 224x224.\n",
      "Skipping n02108089_5599.jpg: dimensions 200x261 are smaller than 224x224.\n"
     ]
    },
    {
     "name": "stderr",
     "output_type": "stream",
     "text": [
      "Processing boxer: 151it [00:00, 178.35it/s]\n"
     ]
    },
    {
     "name": "stdout",
     "output_type": "stream",
     "text": [
      "Skipping n02108089_849.jpg: dimensions 303x221 are smaller than 224x224.\n"
     ]
    },
    {
     "name": "stderr",
     "output_type": "stream",
     "text": []
    },
    {
     "name": "stdout",
     "output_type": "stream",
     "text": [
      "Skipping n02112706_1041.jpg: dimensions 300x199 are smaller than 224x224.\n",
      "Skipping n02112706_1057.jpg: dimensions 160x200 are smaller than 224x224.\n",
      "Skipping n02112706_1087.jpg: dimensions 139x267 are smaller than 224x224.\n",
      "Skipping n02112706_1114.jpg: dimensions 198x340 are smaller than 224x224.\n",
      "Skipping n02112706_1145.jpg: dimensions 275x206 are smaller than 224x224.\n",
      "Skipping n02112706_1172.jpg: dimensions 300x206 are smaller than 224x224.\n",
      "Skipping n02112706_1180.jpg: dimensions 170x170 are smaller than 224x224.\n",
      "Skipping n02112706_1202.jpg: dimensions 196x211 are smaller than 224x224.\n",
      "Skipping n02112706_1298.jpg: dimensions 217x186 are smaller than 224x224.\n",
      "Skipping n02112706_1409.jpg: dimensions 200x150 are smaller than 224x224.\n",
      "Skipping n02112706_1419.jpg: dimensions 200x150 are smaller than 224x224.\n",
      "Skipping n02112706_1453.jpg: dimensions 197x245 are smaller than 224x224.\n",
      "Skipping n02112706_1569.jpg: dimensions 232x173 are smaller than 224x224.\n",
      "Skipping n02112706_1586.jpg: dimensions 270x200 are smaller than 224x224.\n",
      "Skipping n02112706_16.jpg: dimensions 218x399 are smaller than 224x224.\n"
     ]
    },
    {
     "name": "stderr",
     "output_type": "stream",
     "text": []
    },
    {
     "name": "stdout",
     "output_type": "stream",
     "text": [
      "Skipping n02112706_1712.jpg: dimensions 215x287 are smaller than 224x224.\n",
      "Skipping n02112706_1805.jpg: dimensions 200x168 are smaller than 224x224.\n",
      "Skipping n02112706_1862.jpg: dimensions 170x170 are smaller than 224x224.\n",
      "Skipping n02112706_1869.jpg: dimensions 124x190 are smaller than 224x224.\n",
      "Skipping n02112706_1899.jpg: dimensions 155x149 are smaller than 224x224.\n",
      "Skipping n02112706_1922.jpg: dimensions 305x212 are smaller than 224x224.\n",
      "Skipping n02112706_1925.jpg: dimensions 207x155 are smaller than 224x224.\n",
      "Skipping n02112706_1983.jpg: dimensions 170x170 are smaller than 224x224.\n",
      "Skipping n02112706_2161.jpg: dimensions 196x211 are smaller than 224x224.\n",
      "Skipping n02112706_2188.jpg: dimensions 184x250 are smaller than 224x224.\n",
      "Skipping n02112706_2269.jpg: dimensions 170x170 are smaller than 224x224.\n"
     ]
    },
    {
     "name": "stderr",
     "output_type": "stream",
     "text": [
      "Processing brabancon griffon: 153it [00:00, 214.94it/s]\n"
     ]
    },
    {
     "name": "stdout",
     "output_type": "stream",
     "text": [
      "Skipping n02112706_473.jpg: dimensions 250x218 are smaller than 224x224.\n",
      "Skipping n02112706_540.jpg: dimensions 203x152 are smaller than 224x224.\n",
      "Skipping n02112706_643.jpg: dimensions 200x150 are smaller than 224x224.\n"
     ]
    },
    {
     "name": "stderr",
     "output_type": "stream",
     "text": []
    },
    {
     "name": "stdout",
     "output_type": "stream",
     "text": [
      "Skipping n02105251_1676.jpg: dimensions 200x364 are smaller than 224x224.\n",
      "Skipping n02105251_2317.jpg: dimensions 200x190 are smaller than 224x224.\n",
      "Skipping n02105251_2480.jpg: dimensions 190x261 are smaller than 224x224.\n",
      "Skipping n02105251_2656.jpg: dimensions 240x180 are smaller than 224x224.\n",
      "Skipping n02105251_3407.jpg: dimensions 200x172 are smaller than 224x224.\n",
      "Skipping n02105251_3436.jpg: dimensions 140x200 are smaller than 224x224.\n",
      "Skipping n02105251_3729.jpg: dimensions 190x200 are smaller than 224x224.\n",
      "Skipping n02105251_4569.jpg: dimensions 206x189 are smaller than 224x224.\n"
     ]
    },
    {
     "name": "stderr",
     "output_type": "stream",
     "text": [
      "\n",
      "Processing briard: 86it [00:00, 191.72it/s]"
     ]
    },
    {
     "name": "stdout",
     "output_type": "stream",
     "text": [
      "Skipping n02105251_5864.jpg: dimensions 223x259 are smaller than 224x224.\n",
      "Skipping n02105251_673.jpg: dimensions 250x188 are smaller than 224x224.\n",
      "Skipping n02105251_6942.jpg: dimensions 220x290 are smaller than 224x224.\n"
     ]
    },
    {
     "name": "stderr",
     "output_type": "stream",
     "text": [
      "Processing briard: 152it [00:00, 194.20it/s]\n"
     ]
    },
    {
     "name": "stdout",
     "output_type": "stream",
     "text": [
      "Skipping n02101388_1050.jpg: dimensions 196x196 are smaller than 224x224.\n",
      "Skipping n02101388_1252.jpg: dimensions 235x168 are smaller than 224x224.\n",
      "Skipping n02101388_1262.jpg: dimensions 301x201 are smaller than 224x224.\n",
      "Skipping n02101388_1445.jpg: dimensions 250x187 are smaller than 224x224.\n",
      "Skipping n02101388_1524.jpg: dimensions 200x160 are smaller than 224x224.\n",
      "Skipping n02101388_2142.jpg: dimensions 216x180 are smaller than 224x224.\n",
      "Skipping n02101388_2522.jpg: dimensions 216x201 are smaller than 224x224.\n",
      "Skipping n02101388_2862.jpg: dimensions 203x192 are smaller than 224x224.\n"
     ]
    },
    {
     "name": "stderr",
     "output_type": "stream",
     "text": []
    },
    {
     "name": "stdout",
     "output_type": "stream",
     "text": [
      "Skipping n02101388_3365.jpg: dimensions 147x179 are smaller than 224x224.\n",
      "Skipping n02101388_3497.jpg: dimensions 182x140 are smaller than 224x224.\n",
      "Skipping n02101388_3697.jpg: dimensions 200x160 are smaller than 224x224.\n",
      "Skipping n02101388_4333.jpg: dimensions 108x120 are smaller than 224x224.\n",
      "Skipping n02101388_4358.jpg: dimensions 200x150 are smaller than 224x224.\n",
      "Skipping n02101388_4422.jpg: dimensions 180x141 are smaller than 224x224.\n",
      "Skipping n02101388_4632.jpg: dimensions 216x205 are smaller than 224x224.\n",
      "Skipping n02101388_5395.jpg: dimensions 220x192 are smaller than 224x224.\n",
      "Skipping n02101388_5512.jpg: dimensions 216x146 are smaller than 224x224.\n",
      "Skipping n02101388_5541.jpg: dimensions 200x190 are smaller than 224x224.\n",
      "Skipping n02101388_560.jpg: dimensions 266x196 are smaller than 224x224.\n",
      "Skipping n02101388_5745.jpg: dimensions 288x209 are smaller than 224x224.\n",
      "Skipping n02101388_5801.jpg: dimensions 223x212 are smaller than 224x224.\n"
     ]
    },
    {
     "name": "stderr",
     "output_type": "stream",
     "text": []
    },
    {
     "name": "stdout",
     "output_type": "stream",
     "text": [
      "Skipping n02101388_6081.jpg: dimensions 208x185 are smaller than 224x224.\n",
      "Skipping n02101388_6377.jpg: dimensions 127x181 are smaller than 224x224.\n",
      "Skipping n02101388_6564.jpg: dimensions 180x135 are smaller than 224x224.\n"
     ]
    },
    {
     "name": "stderr",
     "output_type": "stream",
     "text": [
      "Processing brittany spaniel: 152it [00:00, 201.52it/s]\n"
     ]
    },
    {
     "name": "stdout",
     "output_type": "stream",
     "text": [
      "Skipping n02108422_1507.jpg: dimensions 500x217 are smaller than 224x224.\n",
      "Skipping n02108422_278.jpg: dimensions 176x260 are smaller than 224x224.\n"
     ]
    },
    {
     "name": "stderr",
     "output_type": "stream",
     "text": []
    },
    {
     "name": "stdout",
     "output_type": "stream",
     "text": [
      "Skipping n02108422_3985.jpg: dimensions 324x220 are smaller than 224x224.\n",
      "Skipping n02108422_4064.jpg: dimensions 200x281 are smaller than 224x224.\n",
      "Skipping n02108422_4396.jpg: dimensions 200x196 are smaller than 224x224.\n",
      "Skipping n02108422_567.jpg: dimensions 200x251 are smaller than 224x224.\n"
     ]
    },
    {
     "name": "stderr",
     "output_type": "stream",
     "text": [
      "Processing bull mastiff: 156it [00:00, 204.76it/s]\n"
     ]
    },
    {
     "name": "stdout",
     "output_type": "stream",
     "text": [
      "Skipping n02108422_852.jpg: dimensions 200x215 are smaller than 224x224.\n"
     ]
    },
    {
     "name": "stderr",
     "output_type": "stream",
     "text": []
    },
    {
     "name": "stdout",
     "output_type": "stream",
     "text": [
      "Skipping n02096177_143.jpg: dimensions 252x208 are smaller than 224x224.\n",
      "Skipping n02096177_1766.jpg: dimensions 250x188 are smaller than 224x224.\n"
     ]
    },
    {
     "name": "stderr",
     "output_type": "stream",
     "text": []
    },
    {
     "name": "stdout",
     "output_type": "stream",
     "text": [
      "Skipping n02096177_5150.jpg: dimensions 217x179 are smaller than 224x224.\n",
      "Skipping n02096177_5225.jpg: dimensions 200x124 are smaller than 224x224.\n"
     ]
    },
    {
     "name": "stderr",
     "output_type": "stream",
     "text": [
      "Processing cairn: 197it [00:00, 199.82it/s]\n"
     ]
    },
    {
     "name": "stdout",
     "output_type": "stream",
     "text": [
      "Skipping n02096177_9880.jpg: dimensions 250x156 are smaller than 224x224.\n"
     ]
    },
    {
     "name": "stderr",
     "output_type": "stream",
     "text": []
    },
    {
     "name": "stdout",
     "output_type": "stream",
     "text": [
      "Skipping n02113186_13256.jpg: dimensions 300x223 are smaller than 224x224.\n",
      "Skipping n02113186_13413.jpg: dimensions 240x160 are smaller than 224x224.\n",
      "Skipping n02113186_225.jpg: dimensions 248x181 are smaller than 224x224.\n",
      "Skipping n02113186_2499.jpg: dimensions 240x180 are smaller than 224x224.\n",
      "Skipping n02113186_2617.jpg: dimensions 197x289 are smaller than 224x224.\n",
      "Skipping n02113186_4563.jpg: dimensions 250x219 are smaller than 224x224.\n",
      "Skipping n02113186_4591.jpg: dimensions 240x180 are smaller than 224x224.\n"
     ]
    },
    {
     "name": "stderr",
     "output_type": "stream",
     "text": [
      "Processing cardigan: 155it [00:00, 176.83it/s]\n"
     ]
    },
    {
     "name": "stdout",
     "output_type": "stream",
     "text": [
      "Skipping n02099849_253.jpg: dimensions 269x204 are smaller than 224x224.\n",
      "Skipping n02099849_3207.jpg: dimensions 216x215 are smaller than 224x224.\n"
     ]
    },
    {
     "name": "stderr",
     "output_type": "stream",
     "text": [
      "Processing chesapeake bay retriever: 167it [00:00, 203.74it/s]\n"
     ]
    },
    {
     "name": "stdout",
     "output_type": "stream",
     "text": [
      "Skipping n02099849_4498.jpg: dimensions 200x300 are smaller than 224x224.\n",
      "Skipping n02099849_501.jpg: dimensions 250x201 are smaller than 224x224.\n",
      "Skipping n02099849_927.jpg: dimensions 219x250 are smaller than 224x224.\n"
     ]
    },
    {
     "name": "stderr",
     "output_type": "stream",
     "text": [
      "Processing chihuahua: 152it [00:00, 342.88it/s]\n"
     ]
    },
    {
     "name": "stdout",
     "output_type": "stream",
     "text": [
      "Skipping n02085620_3423.jpg: dimensions 200x262 are smaller than 224x224.\n",
      "Skipping n02085620_3593.jpg: dimensions 200x229 are smaller than 224x224.\n",
      "Skipping n02085620_3763.jpg: dimensions 157x211 are smaller than 224x224.\n",
      "Skipping n02085620_4919.jpg: dimensions 240x206 are smaller than 224x224.\n",
      "Skipping n02085620_7.jpg: dimensions 250x188 are smaller than 224x224.\n",
      "Skipping n02085620_7292.jpg: dimensions 225x168 are smaller than 224x224.\n",
      "Skipping n02085620_735.jpg: dimensions 223x287 are smaller than 224x224.\n",
      "Skipping n02085620_8558.jpg: dimensions 215x214 are smaller than 224x224.\n"
     ]
    },
    {
     "name": "stderr",
     "output_type": "stream",
     "text": [
      "\n"
     ]
    },
    {
     "name": "stdout",
     "output_type": "stream",
     "text": [
      "Skipping n02112137_2664.jpg: dimensions 300x220 are smaller than 224x224.\n",
      "Skipping n02112137_3439.jpg: dimensions 200x300 are smaller than 224x224.\n",
      "Skipping n02112137_5420.jpg: dimensions 200x200 are smaller than 224x224.\n"
     ]
    },
    {
     "name": "stderr",
     "output_type": "stream",
     "text": [
      "Processing chow: 196it [00:01, 189.23it/s]\u001b[A\n"
     ]
    },
    {
     "name": "stdout",
     "output_type": "stream",
     "text": [
      "Skipping n02101556_129.jpg: dimensions 200x140 are smaller than 224x224.\n",
      "Skipping n02101556_2003.jpg: dimensions 283x191 are smaller than 224x224.\n",
      "Skipping n02101556_2725.jpg: dimensions 170x227 are smaller than 224x224.\n",
      "Skipping n02101556_3556.jpg: dimensions 244x200 are smaller than 224x224.\n",
      "Skipping n02101556_3660.jpg: dimensions 160x160 are smaller than 224x224.\n",
      "Skipping n02101556_3878.jpg: dimensions 120x102 are smaller than 224x224.\n"
     ]
    },
    {
     "name": "stderr",
     "output_type": "stream",
     "text": []
    },
    {
     "name": "stdout",
     "output_type": "stream",
     "text": [
      "Skipping n02101556_4039.jpg: dimensions 200x155 are smaller than 224x224.\n",
      "Skipping n02101556_488.jpg: dimensions 216x150 are smaller than 224x224.\n",
      "Skipping n02101556_5252.jpg: dimensions 169x200 are smaller than 224x224.\n"
     ]
    },
    {
     "name": "stderr",
     "output_type": "stream",
     "text": []
    },
    {
     "name": "stdout",
     "output_type": "stream",
     "text": [
      "Skipping n02101556_5694.jpg: dimensions 240x204 are smaller than 224x224.\n",
      "Skipping n02101556_577.jpg: dimensions 245x157 are smaller than 224x224.\n",
      "Skipping n02101556_6603.jpg: dimensions 200x200 are smaller than 224x224.\n",
      "Skipping n02101556_7295.jpg: dimensions 180x163 are smaller than 224x224.\n",
      "Skipping n02101556_7561.jpg: dimensions 180x146 are smaller than 224x224.\n"
     ]
    },
    {
     "name": "stderr",
     "output_type": "stream",
     "text": [
      "Processing clumber: 150it [00:00, 189.64it/s]\n"
     ]
    },
    {
     "name": "stdout",
     "output_type": "stream",
     "text": [
      "Skipping n02101556_9.jpg: dimensions 172x213 are smaller than 224x224.\n"
     ]
    },
    {
     "name": "stderr",
     "output_type": "stream",
     "text": []
    },
    {
     "name": "stdout",
     "output_type": "stream",
     "text": [
      "Skipping n02102318_7000.jpg: dimensions 144x226 are smaller than 224x224.\n",
      "Skipping n02102318_8697.jpg: dimensions 200x267 are smaller than 224x224.\n",
      "Skipping n02102318_9495.jpg: dimensions 288x157 are smaller than 224x224.\n"
     ]
    },
    {
     "name": "stderr",
     "output_type": "stream",
     "text": [
      "Processing cocker spaniel: 159it [00:00, 179.89it/s]\n"
     ]
    },
    {
     "name": "stdout",
     "output_type": "stream",
     "text": [
      "Skipping n02106030_14736.jpg: dimensions 148x214 are smaller than 224x224.\n",
      "Skipping n02106030_15169.jpg: dimensions 200x300 are smaller than 224x224.\n"
     ]
    },
    {
     "name": "stderr",
     "output_type": "stream",
     "text": []
    },
    {
     "name": "stdout",
     "output_type": "stream",
     "text": [
      "Skipping n02106030_366.jpg: dimensions 250x200 are smaller than 224x224.\n",
      "Skipping n02106030_7895.jpg: dimensions 191x244 are smaller than 224x224.\n",
      "Skipping n02106030_8280.jpg: dimensions 300x206 are smaller than 224x224.\n"
     ]
    },
    {
     "name": "stderr",
     "output_type": "stream",
     "text": [
      "Processing collie: 153it [00:00, 164.28it/s]\n"
     ]
    },
    {
     "name": "stdout",
     "output_type": "stream",
     "text": [
      "Skipping n02099429_1150.jpg: dimensions 139x200 are smaller than 224x224.\n",
      "Skipping n02099429_1430.jpg: dimensions 216x453 are smaller than 224x224.\n",
      "Skipping n02099429_159.jpg: dimensions 250x212 are smaller than 224x224.\n",
      "Skipping n02099429_1627.jpg: dimensions 200x134 are smaller than 224x224.\n",
      "Skipping n02099429_1654.jpg: dimensions 240x180 are smaller than 224x224.\n",
      "Skipping n02099429_1758.jpg: dimensions 261x216 are smaller than 224x224.\n",
      "Skipping n02099429_1759.jpg: dimensions 160x200 are smaller than 224x224.\n",
      "Skipping n02099429_1804.jpg: dimensions 181x130 are smaller than 224x224.\n"
     ]
    },
    {
     "name": "stderr",
     "output_type": "stream",
     "text": []
    },
    {
     "name": "stdout",
     "output_type": "stream",
     "text": [
      "Skipping n02099429_2122.jpg: dimensions 191x160 are smaller than 224x224.\n",
      "Skipping n02099429_2186.jpg: dimensions 200x141 are smaller than 224x224.\n",
      "Skipping n02099429_2236.jpg: dimensions 175x150 are smaller than 224x224.\n",
      "Skipping n02099429_2263.jpg: dimensions 170x205 are smaller than 224x224.\n",
      "Skipping n02099429_227.jpg: dimensions 160x237 are smaller than 224x224.\n",
      "Skipping n02099429_2281.jpg: dimensions 206x193 are smaller than 224x224.\n",
      "Skipping n02099429_2504.jpg: dimensions 198x200 are smaller than 224x224.\n",
      "Skipping n02099429_2608.jpg: dimensions 220x167 are smaller than 224x224.\n",
      "Skipping n02099429_2733.jpg: dimensions 200x255 are smaller than 224x224.\n",
      "Skipping n02099429_282.jpg: dimensions 233x175 are smaller than 224x224.\n"
     ]
    },
    {
     "name": "stderr",
     "output_type": "stream",
     "text": []
    },
    {
     "name": "stdout",
     "output_type": "stream",
     "text": [
      "Skipping n02099429_3103.jpg: dimensions 225x150 are smaller than 224x224.\n",
      "Skipping n02099429_3119.jpg: dimensions 283x191 are smaller than 224x224.\n",
      "Skipping n02099429_3159.jpg: dimensions 190x198 are smaller than 224x224.\n",
      "Skipping n02099429_3396.jpg: dimensions 175x248 are smaller than 224x224.\n",
      "Skipping n02099429_3513.jpg: dimensions 170x205 are smaller than 224x224.\n",
      "Skipping n02099429_448.jpg: dimensions 221x193 are smaller than 224x224.\n"
     ]
    },
    {
     "name": "stderr",
     "output_type": "stream",
     "text": [
      "Processing curly-coated retriever: 151it [00:00, 207.48it/s]\n"
     ]
    },
    {
     "name": "stdout",
     "output_type": "stream",
     "text": [
      "Skipping n02096437_1070.jpg: dimensions 312x208 are smaller than 224x224.\n",
      "Skipping n02096437_1456.jpg: dimensions 220x220 are smaller than 224x224.\n",
      "Skipping n02096437_1532.jpg: dimensions 213x150 are smaller than 224x224.\n",
      "Skipping n02096437_1653.jpg: dimensions 230x154 are smaller than 224x224.\n",
      "Skipping n02096437_1656.jpg: dimensions 250x193 are smaller than 224x224.\n"
     ]
    },
    {
     "name": "stderr",
     "output_type": "stream",
     "text": []
    },
    {
     "name": "stdout",
     "output_type": "stream",
     "text": [
      "Skipping n02096437_1900.jpg: dimensions 210x165 are smaller than 224x224.\n",
      "Skipping n02096437_2019.jpg: dimensions 180x256 are smaller than 224x224.\n",
      "Skipping n02096437_2070.jpg: dimensions 165x230 are smaller than 224x224.\n",
      "Skipping n02096437_2117.jpg: dimensions 250x188 are smaller than 224x224.\n",
      "Skipping n02096437_2267.jpg: dimensions 220x168 are smaller than 224x224.\n",
      "Skipping n02096437_2580.jpg: dimensions 266x186 are smaller than 224x224.\n",
      "Skipping n02096437_2617.jpg: dimensions 216x238 are smaller than 224x224.\n"
     ]
    },
    {
     "name": "stderr",
     "output_type": "stream",
     "text": []
    },
    {
     "name": "stdout",
     "output_type": "stream",
     "text": [
      "Skipping n02096437_311.jpg: dimensions 240x180 are smaller than 224x224.\n",
      "Skipping n02096437_3112.jpg: dimensions 200x140 are smaller than 224x224.\n",
      "Skipping n02096437_3167.jpg: dimensions 270x180 are smaller than 224x224.\n",
      "Skipping n02096437_3195.jpg: dimensions 220x150 are smaller than 224x224.\n",
      "Skipping n02096437_3560.jpg: dimensions 205x220 are smaller than 224x224.\n",
      "Skipping n02096437_3655.jpg: dimensions 159x196 are smaller than 224x224.\n",
      "Skipping n02096437_3731.jpg: dimensions 220x148 are smaller than 224x224.\n",
      "Skipping n02096437_3847.jpg: dimensions 200x160 are smaller than 224x224.\n",
      "Skipping n02096437_3860.jpg: dimensions 200x156 are smaller than 224x224.\n",
      "Skipping n02096437_3974.jpg: dimensions 300x222 are smaller than 224x224.\n",
      "Skipping n02096437_3985.jpg: dimensions 142x176 are smaller than 224x224.\n"
     ]
    },
    {
     "name": "stderr",
     "output_type": "stream",
     "text": []
    },
    {
     "name": "stdout",
     "output_type": "stream",
     "text": [
      "Skipping n02096437_4300.jpg: dimensions 320x213 are smaller than 224x224.\n",
      "Skipping n02096437_4401.jpg: dimensions 200x239 are smaller than 224x224.\n",
      "Skipping n02096437_4435.jpg: dimensions 197x240 are smaller than 224x224.\n",
      "Skipping n02096437_4494.jpg: dimensions 275x200 are smaller than 224x224.\n",
      "Skipping n02096437_536.jpg: dimensions 148x202 are smaller than 224x224.\n",
      "Skipping n02096437_643.jpg: dimensions 224x200 are smaller than 224x224.\n",
      "Skipping n02096437_725.jpg: dimensions 240x160 are smaller than 224x224.\n",
      "Skipping n02096437_866.jpg: dimensions 200x223 are smaller than 224x224.\n"
     ]
    },
    {
     "name": "stderr",
     "output_type": "stream",
     "text": [
      "Processing dandie dinmont: 180it [00:00, 186.71it/s]\n"
     ]
    },
    {
     "name": "stdout",
     "output_type": "stream",
     "text": [
      "Skipping n02115913_1637.jpg: dimensions 476x131 are smaller than 224x224.\n",
      "Skipping n02115913_1963.jpg: dimensions 250x188 are smaller than 224x224.\n",
      "Skipping n02115913_2005.jpg: dimensions 290x215 are smaller than 224x224.\n",
      "Skipping n02115913_2014.jpg: dimensions 200x150 are smaller than 224x224.\n",
      "Skipping n02115913_2412.jpg: dimensions 175x202 are smaller than 224x224.\n",
      "Skipping n02115913_25.jpg: dimensions 220x220 are smaller than 224x224.\n"
     ]
    },
    {
     "name": "stderr",
     "output_type": "stream",
     "text": [
      "\n"
     ]
    },
    {
     "name": "stdout",
     "output_type": "stream",
     "text": [
      "Skipping n02115913_3473.jpg: dimensions 186x250 are smaller than 224x224.\n",
      "Skipping n02115913_3743.jpg: dimensions 199x321 are smaller than 224x224.\n",
      "Skipping n02115913_3850.jpg: dimensions 180x126 are smaller than 224x224.\n",
      "Skipping n02115913_4025.jpg: dimensions 139x210 are smaller than 224x224.\n"
     ]
    },
    {
     "name": "stderr",
     "output_type": "stream",
     "text": [
      "Processing dhole: 115it [00:00, 160.22it/s]\u001b[A"
     ]
    },
    {
     "name": "stdout",
     "output_type": "stream",
     "text": [
      "Skipping n02115913_4188.jpg: dimensions 200x132 are smaller than 224x224.\n",
      "Skipping n02115913_5392.jpg: dimensions 200x217 are smaller than 224x224.\n",
      "Skipping n02115913_5418.jpg: dimensions 180x135 are smaller than 224x224.\n",
      "Skipping n02115913_5593.jpg: dimensions 180x225 are smaller than 224x224.\n"
     ]
    },
    {
     "name": "stderr",
     "output_type": "stream",
     "text": [
      "Processing dhole: 150it [00:00, 157.25it/s]\n"
     ]
    },
    {
     "name": "stdout",
     "output_type": "stream",
     "text": [
      "Skipping n02115641_10261.jpg: dimensions 250x166 are smaller than 224x224.\n"
     ]
    },
    {
     "name": "stderr",
     "output_type": "stream",
     "text": []
    },
    {
     "name": "stdout",
     "output_type": "stream",
     "text": [
      "Skipping n02115641_14084.jpg: dimensions 180x217 are smaller than 224x224.\n",
      "Skipping n02115641_14495.jpg: dimensions 221x250 are smaller than 224x224.\n",
      "Skipping n02115641_1969.jpg: dimensions 292x196 are smaller than 224x224.\n",
      "Skipping n02115641_2636.jpg: dimensions 203x230 are smaller than 224x224.\n",
      "Skipping n02115641_2764.jpg: dimensions 200x280 are smaller than 224x224.\n",
      "Skipping n02115641_2788.jpg: dimensions 200x200 are smaller than 224x224.\n",
      "Skipping n02115641_3110.jpg: dimensions 240x180 are smaller than 224x224.\n",
      "Skipping n02115641_3494.jpg: dimensions 138x200 are smaller than 224x224.\n",
      "Skipping n02115641_3736.jpg: dimensions 208x281 are smaller than 224x224.\n"
     ]
    },
    {
     "name": "stderr",
     "output_type": "stream",
     "text": []
    },
    {
     "name": "stdout",
     "output_type": "stream",
     "text": [
      "Skipping n02115641_5178.jpg: dimensions 133x200 are smaller than 224x224.\n",
      "Skipping n02115641_5320.jpg: dimensions 250x193 are smaller than 224x224.\n",
      "Skipping n02115641_5798.jpg: dimensions 250x174 are smaller than 224x224.\n",
      "Skipping n02115641_5823.jpg: dimensions 290x220 are smaller than 224x224.\n",
      "Skipping n02115641_6844.jpg: dimensions 250x200 are smaller than 224x224.\n",
      "Skipping n02115641_7222.jpg: dimensions 267x200 are smaller than 224x224.\n"
     ]
    },
    {
     "name": "stderr",
     "output_type": "stream",
     "text": [
      "Processing dingo: 156it [00:00, 161.84it/s]\n"
     ]
    },
    {
     "name": "stdout",
     "output_type": "stream",
     "text": [
      "Skipping n02107142_11717.jpg: dimensions 180x146 are smaller than 224x224.\n"
     ]
    },
    {
     "name": "stderr",
     "output_type": "stream",
     "text": []
    },
    {
     "name": "stdout",
     "output_type": "stream",
     "text": [
      "Skipping n02107142_16917.jpg: dimensions 280x217 are smaller than 224x224.\n",
      "Skipping n02107142_18020.jpg: dimensions 300x200 are smaller than 224x224.\n"
     ]
    },
    {
     "name": "stderr",
     "output_type": "stream",
     "text": []
    },
    {
     "name": "stdout",
     "output_type": "stream",
     "text": [
      "Skipping n02107142_3171.jpg: dimensions 179x187 are smaller than 224x224.\n",
      "Skipping n02107142_4663.jpg: dimensions 320x213 are smaller than 224x224.\n"
     ]
    },
    {
     "name": "stderr",
     "output_type": "stream",
     "text": []
    },
    {
     "name": "stdout",
     "output_type": "stream",
     "text": [
      "Skipping n02107142_5181.jpg: dimensions 148x184 are smaller than 224x224.\n",
      "Skipping n02107142_5783.jpg: dimensions 199x360 are smaller than 224x224.\n"
     ]
    },
    {
     "name": "stderr",
     "output_type": "stream",
     "text": [
      "Processing doberman: 150it [00:01, 117.04it/s]\n"
     ]
    },
    {
     "name": "stdout",
     "output_type": "stream",
     "text": [
      "Skipping n02107142_9362.jpg: dimensions 190x232 are smaller than 224x224.\n",
      "Skipping n02107142_9621.jpg: dimensions 272x200 are smaller than 224x224.\n"
     ]
    },
    {
     "name": "stderr",
     "output_type": "stream",
     "text": []
    },
    {
     "name": "stdout",
     "output_type": "stream",
     "text": [
      "Skipping n02089973_1000.jpg: dimensions 110x150 are smaller than 224x224.\n",
      "Skipping n02089973_1066.jpg: dimensions 120x111 are smaller than 224x224.\n",
      "Skipping n02089973_1078.jpg: dimensions 133x200 are smaller than 224x224.\n",
      "Skipping n02089973_1249.jpg: dimensions 148x169 are smaller than 224x224.\n",
      "Skipping n02089973_1277.jpg: dimensions 176x150 are smaller than 224x224.\n",
      "Skipping n02089973_1298.jpg: dimensions 200x150 are smaller than 224x224.\n",
      "Skipping n02089973_1303.jpg: dimensions 200x192 are smaller than 224x224.\n",
      "Skipping n02089973_1324.jpg: dimensions 203x250 are smaller than 224x224.\n",
      "Skipping n02089973_1345.jpg: dimensions 170x150 are smaller than 224x224.\n",
      "Skipping n02089973_1356.jpg: dimensions 148x190 are smaller than 224x224.\n",
      "Skipping n02089973_1357.jpg: dimensions 248x150 are smaller than 224x224.\n",
      "Skipping n02089973_1375.jpg: dimensions 120x150 are smaller than 224x224.\n",
      "Skipping n02089973_1381.jpg: dimensions 177x150 are smaller than 224x224.\n",
      "Skipping n02089973_140.jpg: dimensions 266x200 are smaller than 224x224.\n",
      "Skipping n02089973_1458.jpg: dimensions 179x150 are smaller than 224x224.\n",
      "Skipping n02089973_1623.jpg: dimensions 360x217 are smaller than 224x224.\n",
      "Skipping n02089973_1748.jpg: dimensions 194x150 are smaller than 224x224.\n",
      "Skipping n02089973_1803.jpg: dimensions 200x234 are smaller than 224x224.\n",
      "Skipping n02089973_1877.jpg: dimensions 200x177 are smaller than 224x224.\n",
      "Skipping n02089973_1888.jpg: dimensions 111x150 are smaller than 224x224.\n"
     ]
    },
    {
     "name": "stderr",
     "output_type": "stream",
     "text": []
    },
    {
     "name": "stdout",
     "output_type": "stream",
     "text": [
      "Skipping n02089973_1957.jpg: dimensions 200x213 are smaller than 224x224.\n",
      "Skipping n02089973_2.jpg: dimensions 180x120 are smaller than 224x224.\n",
      "Skipping n02089973_2017.jpg: dimensions 148x178 are smaller than 224x224.\n",
      "Skipping n02089973_2054.jpg: dimensions 222x256 are smaller than 224x224.\n",
      "Skipping n02089973_2064.jpg: dimensions 137x150 are smaller than 224x224.\n",
      "Skipping n02089973_2110.jpg: dimensions 210x210 are smaller than 224x224.\n",
      "Skipping n02089973_2150.jpg: dimensions 200x331 are smaller than 224x224.\n",
      "Skipping n02089973_2322.jpg: dimensions 221x150 are smaller than 224x224.\n",
      "Skipping n02089973_2415.jpg: dimensions 300x209 are smaller than 224x224.\n",
      "Skipping n02089973_243.jpg: dimensions 107x150 are smaller than 224x224.\n"
     ]
    },
    {
     "name": "stderr",
     "output_type": "stream",
     "text": []
    },
    {
     "name": "stdout",
     "output_type": "stream",
     "text": [
      "Skipping n02089973_2551.jpg: dimensions 200x150 are smaller than 224x224.\n",
      "Skipping n02089973_2603.jpg: dimensions 160x170 are smaller than 224x224.\n",
      "Skipping n02089973_263.jpg: dimensions 231x200 are smaller than 224x224.\n",
      "Skipping n02089973_2633.jpg: dimensions 220x200 are smaller than 224x224.\n",
      "Skipping n02089973_2716.jpg: dimensions 254x150 are smaller than 224x224.\n",
      "Skipping n02089973_2810.jpg: dimensions 252x195 are smaller than 224x224.\n",
      "Skipping n02089973_2905.jpg: dimensions 210x210 are smaller than 224x224.\n",
      "Skipping n02089973_2943.jpg: dimensions 106x150 are smaller than 224x224.\n",
      "Skipping n02089973_3055.jpg: dimensions 190x200 are smaller than 224x224.\n",
      "Skipping n02089973_3074.jpg: dimensions 320x213 are smaller than 224x224.\n",
      "Skipping n02089973_3089.jpg: dimensions 109x150 are smaller than 224x224.\n",
      "Skipping n02089973_3120.jpg: dimensions 200x280 are smaller than 224x224.\n",
      "Skipping n02089973_3136.jpg: dimensions 209x150 are smaller than 224x224.\n",
      "Skipping n02089973_3156.jpg: dimensions 200x200 are smaller than 224x224.\n",
      "Skipping n02089973_3243.jpg: dimensions 150x171 are smaller than 224x224.\n",
      "Skipping n02089973_3323.jpg: dimensions 108x150 are smaller than 224x224.\n",
      "Skipping n02089973_3420.jpg: dimensions 300x211 are smaller than 224x224.\n"
     ]
    },
    {
     "name": "stderr",
     "output_type": "stream",
     "text": []
    },
    {
     "name": "stdout",
     "output_type": "stream",
     "text": [
      "Skipping n02089973_3604.jpg: dimensions 220x220 are smaller than 224x224.\n",
      "Skipping n02089973_3647.jpg: dimensions 150x113 are smaller than 224x224.\n",
      "Skipping n02089973_3651.jpg: dimensions 337x150 are smaller than 224x224.\n",
      "Skipping n02089973_3688.jpg: dimensions 205x174 are smaller than 224x224.\n",
      "Skipping n02089973_3726.jpg: dimensions 166x150 are smaller than 224x224.\n",
      "Skipping n02089973_3820.jpg: dimensions 190x168 are smaller than 224x224.\n",
      "Skipping n02089973_3982.jpg: dimensions 120x104 are smaller than 224x224.\n",
      "Skipping n02089973_4307.jpg: dimensions 295x150 are smaller than 224x224.\n",
      "Skipping n02089973_437.jpg: dimensions 180x240 are smaller than 224x224.\n",
      "Skipping n02089973_529.jpg: dimensions 160x100 are smaller than 224x224.\n",
      "Skipping n02089973_556.jpg: dimensions 120x150 are smaller than 224x224.\n",
      "Skipping n02089973_569.jpg: dimensions 208x144 are smaller than 224x224.\n",
      "Skipping n02089973_612.jpg: dimensions 200x256 are smaller than 224x224.\n"
     ]
    },
    {
     "name": "stderr",
     "output_type": "stream",
     "text": [
      "Processing english foxhound: 157it [00:00, 168.41it/s]\n"
     ]
    },
    {
     "name": "stdout",
     "output_type": "stream",
     "text": [
      "Skipping n02089973_811.jpg: dimensions 250x223 are smaller than 224x224.\n",
      "Skipping n02089973_843.jpg: dimensions 185x150 are smaller than 224x224.\n",
      "Skipping n02089973_846.jpg: dimensions 200x177 are smaller than 224x224.\n"
     ]
    },
    {
     "name": "stderr",
     "output_type": "stream",
     "text": [
      "\n"
     ]
    },
    {
     "name": "stdout",
     "output_type": "stream",
     "text": [
      "Skipping n02100735_1388.jpg: dimensions 295x196 are smaller than 224x224.\n",
      "Skipping n02100735_1467.jpg: dimensions 275x200 are smaller than 224x224.\n",
      "Skipping n02100735_2684.jpg: dimensions 250x223 are smaller than 224x224.\n",
      "Skipping n02100735_3348.jpg: dimensions 200x288 are smaller than 224x224.\n",
      "Skipping n02100735_3566.jpg: dimensions 227x187 are smaller than 224x224.\n",
      "Skipping n02100735_3567.jpg: dimensions 240x194 are smaller than 224x224.\n"
     ]
    },
    {
     "name": "stderr",
     "output_type": "stream",
     "text": [
      "Processing english setter: 56it [00:00, 132.21it/s]\u001b[A\n"
     ]
    },
    {
     "name": "stdout",
     "output_type": "stream",
     "text": [
      "Skipping n02100735_3942.jpg: dimensions 200x299 are smaller than 224x224.\n",
      "Skipping n02100735_4857.jpg: dimensions 190x227 are smaller than 224x224.\n"
     ]
    },
    {
     "name": "stderr",
     "output_type": "stream",
     "text": [
      "Processing english setter: 87it [00:00, 142.07it/s]\u001b[A"
     ]
    },
    {
     "name": "stdout",
     "output_type": "stream",
     "text": [
      "Skipping n02100735_5649.jpg: dimensions 240x180 are smaller than 224x224.\n",
      "Skipping n02100735_568.jpg: dimensions 188x269 are smaller than 224x224.\n",
      "Skipping n02100735_6358.jpg: dimensions 169x240 are smaller than 224x224.\n",
      "Skipping n02100735_6658.jpg: dimensions 175x175 are smaller than 224x224.\n",
      "Skipping n02100735_6660.jpg: dimensions 190x168 are smaller than 224x224.\n",
      "Skipping n02100735_6821.jpg: dimensions 198x281 are smaller than 224x224.\n",
      "Skipping n02100735_7078.jpg: dimensions 210x179 are smaller than 224x224.\n"
     ]
    },
    {
     "name": "stderr",
     "output_type": "stream",
     "text": [
      "Processing english setter: 161it [00:01, 141.64it/s]\n"
     ]
    },
    {
     "name": "stdout",
     "output_type": "stream",
     "text": [
      "Skipping n02102040_1515.jpg: dimensions 282x195 are smaller than 224x224.\n"
     ]
    },
    {
     "name": "stderr",
     "output_type": "stream",
     "text": [
      "Processing english springer: 159it [00:01, 143.25it/s]\n"
     ]
    },
    {
     "name": "stdout",
     "output_type": "stream",
     "text": [
      "Skipping n02102040_858.jpg: dimensions 300x200 are smaller than 224x224.\n"
     ]
    },
    {
     "name": "stderr",
     "output_type": "stream",
     "text": []
    },
    {
     "name": "stdout",
     "output_type": "stream",
     "text": [
      "Skipping n02108000_1073.jpg: dimensions 167x250 are smaller than 224x224.\n",
      "Skipping n02108000_1111.jpg: dimensions 223x259 are smaller than 224x224.\n",
      "Skipping n02108000_1112.jpg: dimensions 192x256 are smaller than 224x224.\n",
      "Skipping n02108000_1167.jpg: dimensions 231x174 are smaller than 224x224.\n",
      "Skipping n02108000_1246.jpg: dimensions 180x233 are smaller than 224x224.\n",
      "Skipping n02108000_1256.jpg: dimensions 225x200 are smaller than 224x224.\n",
      "Skipping n02108000_1516.jpg: dimensions 220x183 are smaller than 224x224.\n",
      "Skipping n02108000_1547.jpg: dimensions 250x188 are smaller than 224x224.\n",
      "Skipping n02108000_1574.jpg: dimensions 201x280 are smaller than 224x224.\n"
     ]
    },
    {
     "name": "stderr",
     "output_type": "stream",
     "text": []
    },
    {
     "name": "stdout",
     "output_type": "stream",
     "text": [
      "Skipping n02108000_1757.jpg: dimensions 300x150 are smaller than 224x224.\n",
      "Skipping n02108000_1844.jpg: dimensions 250x190 are smaller than 224x224.\n",
      "Skipping n02108000_2028.jpg: dimensions 250x180 are smaller than 224x224.\n",
      "Skipping n02108000_2185.jpg: dimensions 192x256 are smaller than 224x224.\n",
      "Skipping n02108000_2357.jpg: dimensions 250x179 are smaller than 224x224.\n"
     ]
    },
    {
     "name": "stderr",
     "output_type": "stream",
     "text": []
    },
    {
     "name": "stdout",
     "output_type": "stream",
     "text": [
      "Skipping n02108000_2511.jpg: dimensions 200x299 are smaller than 224x224.\n",
      "Skipping n02108000_2573.jpg: dimensions 225x197 are smaller than 224x224.\n"
     ]
    },
    {
     "name": "stderr",
     "output_type": "stream",
     "text": [
      "\n"
     ]
    },
    {
     "name": "stdout",
     "output_type": "stream",
     "text": [
      "Skipping n02108000_2987.jpg: dimensions 192x256 are smaller than 224x224.\n",
      "Skipping n02108000_3002.jpg: dimensions 250x188 are smaller than 224x224.\n",
      "Skipping n02108000_306.jpg: dimensions 262x196 are smaller than 224x224.\n",
      "Skipping n02108000_3109.jpg: dimensions 216x199 are smaller than 224x224.\n"
     ]
    },
    {
     "name": "stderr",
     "output_type": "stream",
     "text": [
      "Processing entlebucher: 129it [00:00, 185.93it/s]\u001b[A"
     ]
    },
    {
     "name": "stdout",
     "output_type": "stream",
     "text": [
      "Skipping n02108000_3236.jpg: dimensions 250x164 are smaller than 224x224.\n",
      "Skipping n02108000_3291.jpg: dimensions 223x236 are smaller than 224x224.\n",
      "Skipping n02108000_3306.jpg: dimensions 300x188 are smaller than 224x224.\n"
     ]
    },
    {
     "name": "stderr",
     "output_type": "stream",
     "text": []
    },
    {
     "name": "stdout",
     "output_type": "stream",
     "text": [
      "Skipping n02108000_3635.jpg: dimensions 250x193 are smaller than 224x224.\n"
     ]
    },
    {
     "name": "stderr",
     "output_type": "stream",
     "text": [
      "\n"
     ]
    },
    {
     "name": "stdout",
     "output_type": "stream",
     "text": [
      "Skipping n02108000_877.jpg: dimensions 250x187 are smaller than 224x224.\n"
     ]
    },
    {
     "name": "stderr",
     "output_type": "stream",
     "text": [
      "Processing entlebucher: 202it [00:01, 188.93it/s]\u001b[A\n"
     ]
    },
    {
     "name": "stdout",
     "output_type": "stream",
     "text": [
      "Skipping n02108000_944.jpg: dimensions 250x166 are smaller than 224x224.\n",
      "Skipping n02108000_99.jpg: dimensions 350x190 are smaller than 224x224.\n"
     ]
    },
    {
     "name": "stderr",
     "output_type": "stream",
     "text": []
    },
    {
     "name": "stdout",
     "output_type": "stream",
     "text": [
      "Skipping n02109961_1235.jpg: dimensions 237x200 are smaller than 224x224.\n",
      "Skipping n02109961_1253.jpg: dimensions 180x119 are smaller than 224x224.\n"
     ]
    },
    {
     "name": "stderr",
     "output_type": "stream",
     "text": []
    },
    {
     "name": "stdout",
     "output_type": "stream",
     "text": [
      "Skipping n02109961_1613.jpg: dimensions 204x215 are smaller than 224x224.\n",
      "Skipping n02109961_1633.jpg: dimensions 200x300 are smaller than 224x224.\n",
      "Skipping n02109961_2272.jpg: dimensions 240x178 are smaller than 224x224."
     ]
    },
    {
     "name": "stderr",
     "output_type": "stream",
     "text": []
    },
    {
     "name": "stdout",
     "output_type": "stream",
     "text": [
      "\n",
      "Skipping n02109961_2706.jpg: dimensions 199x182 are smaller than 224x224.\n",
      "Skipping n02109961_3217.jpg: dimensions 180x120 are smaller than 224x224.\n"
     ]
    },
    {
     "name": "stderr",
     "output_type": "stream",
     "text": []
    },
    {
     "name": "stdout",
     "output_type": "stream",
     "text": [
      "Skipping n02109961_4619.jpg: dimensions 235x188 are smaller than 224x224.\n"
     ]
    },
    {
     "name": "stderr",
     "output_type": "stream",
     "text": [
      "Processing eskimo dog: 150it [00:00, 157.05it/s]\n"
     ]
    },
    {
     "name": "stdout",
     "output_type": "stream",
     "text": [
      "Skipping n02109961_8845.jpg: dimensions 150x200 are smaller than 224x224.\n",
      "Skipping n02109961_8977.jpg: dimensions 270x120 are smaller than 224x224.\n"
     ]
    },
    {
     "name": "stderr",
     "output_type": "stream",
     "text": []
    },
    {
     "name": "stdout",
     "output_type": "stream",
     "text": [
      "Skipping n02099267_1909.jpg: dimensions 240x180 are smaller than 224x224.\n",
      "Skipping n02099267_1943.jpg: dimensions 250x197 are smaller than 224x224.\n",
      "Skipping n02099267_2284.jpg: dimensions 250x198 are smaller than 224x224.\n",
      "Skipping n02099267_2375.jpg: dimensions 200x150 are smaller than 224x224.\n",
      "Skipping n02099267_2630.jpg: dimensions 144x242 are smaller than 224x224.\n",
      "Skipping n02099267_2786.jpg: dimensions 250x185 are smaller than 224x224.\n"
     ]
    },
    {
     "name": "stderr",
     "output_type": "stream",
     "text": []
    },
    {
     "name": "stdout",
     "output_type": "stream",
     "text": [
      "Skipping n02099267_3044.jpg: dimensions 181x200 are smaller than 224x224.\n"
     ]
    },
    {
     "name": "stderr",
     "output_type": "stream",
     "text": [
      "\n"
     ]
    },
    {
     "name": "stdout",
     "output_type": "stream",
     "text": [
      "Skipping n02099267_40.jpg: dimensions 200x200 are smaller than 224x224.\n",
      "Skipping n02099267_443.jpg: dimensions 200x147 are smaller than 224x224.\n",
      "Skipping n02099267_4494.jpg: dimensions 216x288 are smaller than 224x224.\n"
     ]
    },
    {
     "name": "stderr",
     "output_type": "stream",
     "text": [
      "Processing flat-coated retriever: 152it [00:01, 148.88it/s]\u001b[A\n"
     ]
    },
    {
     "name": "stdout",
     "output_type": "stream",
     "text": [
      "Skipping n02099267_5552.jpg: dimensions 190x193 are smaller than 224x224.\n",
      "Skipping n02099267_720.jpg: dimensions 274x194 are smaller than 224x224.\n"
     ]
    },
    {
     "name": "stderr",
     "output_type": "stream",
     "text": []
    },
    {
     "name": "stdout",
     "output_type": "stream",
     "text": [
      "Skipping n02108915_11207.jpg: dimensions 169x224 are smaller than 224x224."
     ]
    },
    {
     "name": "stderr",
     "output_type": "stream",
     "text": []
    },
    {
     "name": "stdout",
     "output_type": "stream",
     "text": [
      "\n",
      "Skipping n02108915_1343.jpg: dimensions 244x175 are smaller than 224x224.\n"
     ]
    },
    {
     "name": "stderr",
     "output_type": "stream",
     "text": []
    },
    {
     "name": "stdout",
     "output_type": "stream",
     "text": [
      "Skipping n02108915_1911.jpg: dimensions 220x220 are smaller than 224x224.\n",
      "Skipping n02108915_2946.jpg: dimensions 180x156 are smaller than 224x224.\n",
      "Skipping n02108915_3083.jpg: dimensions 200x262 are smaller than 224x224.\n"
     ]
    },
    {
     "name": "stderr",
     "output_type": "stream",
     "text": []
    },
    {
     "name": "stdout",
     "output_type": "stream",
     "text": [
      "Skipping n02108915_3557.jpg: dimensions 191x284 are smaller than 224x224.\n",
      "Skipping n02108915_4477.jpg: dimensions 186x203 are smaller than 224x224.\n"
     ]
    },
    {
     "name": "stderr",
     "output_type": "stream",
     "text": []
    },
    {
     "name": "stdout",
     "output_type": "stream",
     "text": [
      "Skipping n02108915_5667.jpg: dimensions 200x203 are smaller than 224x224.\n",
      "Skipping n02108915_656.jpg: dimensions 250x200 are smaller than 224x224.\n",
      "Skipping n02108915_7806.jpg: dimensions 202x170 are smaller than 224x224.\n"
     ]
    },
    {
     "name": "stderr",
     "output_type": "stream",
     "text": [
      "Processing french bulldog: 159it [00:01, 134.08it/s]\n"
     ]
    },
    {
     "name": "stdout",
     "output_type": "stream",
     "text": [
      "Skipping n02106662_11808.jpg: dimensions 263x210 are smaller than 224x224.\n",
      "Skipping n02106662_12969.jpg: dimensions 200x250 are smaller than 224x224.\n"
     ]
    },
    {
     "name": "stderr",
     "output_type": "stream",
     "text": [
      "\n"
     ]
    },
    {
     "name": "stdout",
     "output_type": "stream",
     "text": [
      "Skipping n02106662_21348.jpg: dimensions 247x193 are smaller than 224x224.\n",
      "Skipping n02106662_21432.jpg: dimensions 173x299 are smaller than 224x224.\n",
      "Skipping n02106662_27186.jpg: dimensions 237x199 are smaller than 224x224.\n"
     ]
    },
    {
     "name": "stderr",
     "output_type": "stream",
     "text": [
      "Processing german shepherd: 152it [00:00, 161.02it/s][A\n"
     ]
    },
    {
     "name": "stdout",
     "output_type": "stream",
     "text": [
      "Skipping n02106662_5929.jpg: dimensions 245x200 are smaller than 224x224.\n",
      "Skipping n02106662_6088.jpg: dimensions 200x153 are smaller than 224x224.\n",
      "Skipping n02106662_6443.jpg: dimensions 200x200 are smaller than 224x224.\n",
      "Skipping n02106662_662.jpg: dimensions 210x210 are smaller than 224x224.\n",
      "Skipping n02106662_684.jpg: dimensions 157x160 are smaller than 224x224.\n",
      "Skipping n02106662_7545.jpg: dimensions 214x300 are smaller than 224x224.\n"
     ]
    },
    {
     "name": "stderr",
     "output_type": "stream",
     "text": []
    },
    {
     "name": "stdout",
     "output_type": "stream",
     "text": [
      "Skipping n02100236_1244.jpg: dimensions 196x196 are smaller than 224x224.\n",
      "Skipping n02100236_1448.jpg: dimensions 163x250 are smaller than 224x224.\n",
      "Skipping n02100236_1828.jpg: dimensions 203x244 are smaller than 224x224.\n",
      "Skipping n02100236_2132.jpg: dimensions 160x170 are smaller than 224x224.\n",
      "Skipping n02100236_2204.jpg: dimensions 200x200 are smaller than 224x224.\n"
     ]
    },
    {
     "name": "stderr",
     "output_type": "stream",
     "text": []
    },
    {
     "name": "stdout",
     "output_type": "stream",
     "text": [
      "Skipping n02100236_2974.jpg: dimensions 213x225 are smaller than 224x224.\n",
      "Skipping n02100236_311.jpg: dimensions 200x192 are smaller than 224x224.\n",
      "Skipping n02100236_3612.jpg: dimensions 200x170 are smaller than 224x224.\n",
      "Skipping n02100236_3615.jpg: dimensions 180x198 are smaller than 224x224.\n",
      "Skipping n02100236_3683.jpg: dimensions 180x216 are smaller than 224x224.\n"
     ]
    },
    {
     "name": "stderr",
     "output_type": "stream",
     "text": []
    },
    {
     "name": "stdout",
     "output_type": "stream",
     "text": [
      "Skipping n02100236_4295.jpg: dimensions 169x220 are smaller than 224x224.\n",
      "Skipping n02100236_4508.jpg: dimensions 200x170 are smaller than 224x224.\n",
      "Skipping n02100236_5317.jpg: dimensions 180x159 are smaller than 224x224.\n"
     ]
    },
    {
     "name": "stderr",
     "output_type": "stream",
     "text": [
      "Processing german short-haired pointer: 152it [00:00, 154.51it/s]\n"
     ]
    },
    {
     "name": "stdout",
     "output_type": "stream",
     "text": [
      "Skipping n02100236_873.jpg: dimensions 320x213 are smaller than 224x224.\n"
     ]
    },
    {
     "name": "stderr",
     "output_type": "stream",
     "text": []
    },
    {
     "name": "stdout",
     "output_type": "stream",
     "text": [
      "Skipping n02097130_1159.jpg: dimensions 200x204 are smaller than 224x224.\n",
      "Skipping n02097130_1254.jpg: dimensions 200x200 are smaller than 224x224.\n"
     ]
    },
    {
     "name": "stderr",
     "output_type": "stream",
     "text": []
    },
    {
     "name": "stdout",
     "output_type": "stream",
     "text": [
      "Skipping n02097130_2574.jpg: dimensions 250x187 are smaller than 224x224.\n",
      "Skipping n02097130_3452.jpg: dimensions 150x200 are smaller than 224x224.\n"
     ]
    },
    {
     "name": "stderr",
     "output_type": "stream",
     "text": []
    },
    {
     "name": "stdout",
     "output_type": "stream",
     "text": [
      "Skipping n02097130_572.jpg: dimensions 200x192 are smaller than 224x224.\n",
      "Skipping n02097130_857.jpg: dimensions 148x185 are smaller than 224x224.\n"
     ]
    },
    {
     "name": "stderr",
     "output_type": "stream",
     "text": [
      "Processing giant schnauzer: 157it [00:01, 143.52it/s]\n"
     ]
    },
    {
     "name": "stdout",
     "output_type": "stream",
     "text": [
      "Skipping n02099601_118.jpg: dimensions 200x326 are smaller than 224x224.\n",
      "Skipping n02099601_2076.jpg: dimensions 160x240 are smaller than 224x224.\n"
     ]
    },
    {
     "name": "stderr",
     "output_type": "stream",
     "text": []
    },
    {
     "name": "stdout",
     "output_type": "stream",
     "text": [
      "Skipping n02099601_3004.jpg: dimensions 310x216 are smaller than 224x224.\n",
      "Skipping n02099601_4241.jpg: dimensions 175x200 are smaller than 224x224.\n",
      "Skipping n02099601_5051.jpg: dimensions 500x218 are smaller than 224x224.\n"
     ]
    },
    {
     "name": "stderr",
     "output_type": "stream",
     "text": []
    },
    {
     "name": "stdout",
     "output_type": "stream",
     "text": [
      "Skipping n02099601_5679.jpg: dimensions 165x156 are smaller than 224x224.\n"
     ]
    },
    {
     "name": "stderr",
     "output_type": "stream",
     "text": [
      "Processing golden retriever: 150it [00:01, 145.98it/s]\n"
     ]
    },
    {
     "name": "stdout",
     "output_type": "stream",
     "text": [
      "Skipping n02099601_7437.jpg: dimensions 240x206 are smaller than 224x224.\n",
      "Skipping n02099601_7744.jpg: dimensions 240x180 are smaller than 224x224.\n"
     ]
    },
    {
     "name": "stderr",
     "output_type": "stream",
     "text": []
    },
    {
     "name": "stdout",
     "output_type": "stream",
     "text": [
      "Skipping n02101006_1126.jpg: dimensions 200x150 are smaller than 224x224."
     ]
    },
    {
     "name": "stderr",
     "output_type": "stream",
     "text": []
    },
    {
     "name": "stdout",
     "output_type": "stream",
     "text": [
      "\n",
      "Skipping n02101006_1249.jpg: dimensions 179x210 are smaller than 224x224.\n",
      "Skipping n02101006_135.jpg: dimensions 148x183 are smaller than 224x224.\n",
      "Skipping n02101006_1435.jpg: dimensions 218x140 are smaller than 224x224.\n",
      "Skipping n02101006_18.jpg: dimensions 170x200 are smaller than 224x224.\n"
     ]
    },
    {
     "name": "stderr",
     "output_type": "stream",
     "text": []
    },
    {
     "name": "stdout",
     "output_type": "stream",
     "text": [
      "Skipping n02101006_2113.jpg: dimensions 160x170 are smaller than 224x224.\n",
      "Skipping n02101006_228.jpg: dimensions 150x181 are smaller than 224x224.\n",
      "Skipping n02101006_2468.jpg: dimensions 250x213 are smaller than 224x224.\n",
      "Skipping n02101006_2501.jpg: dimensions 300x200 are smaller than 224x224.\n",
      "Skipping n02101006_296.jpg: dimensions 223x259 are smaller than 224x224.\n"
     ]
    },
    {
     "name": "stderr",
     "output_type": "stream",
     "text": []
    },
    {
     "name": "stdout",
     "output_type": "stream",
     "text": [
      "Skipping n02101006_3442.jpg: dimensions 200x327 are smaller than 224x224.\n",
      "Skipping n02101006_3450.jpg: dimensions 200x226 are smaller than 224x224.\n",
      "Skipping n02101006_3467.jpg: dimensions 256x192 are smaller than 224x224.\n",
      "Skipping n02101006_3766.jpg: dimensions 219x360 are smaller than 224x224.\n",
      "Skipping n02101006_3868.jpg: dimensions 193x228 are smaller than 224x224.\n",
      "Skipping n02101006_4253.jpg: dimensions 200x293 are smaller than 224x224.\n",
      "Skipping n02101006_4271.jpg: dimensions 160x170 are smaller than 224x224.\n",
      "Skipping n02101006_493.jpg: dimensions 195x178 are smaller than 224x224.\n",
      "Skipping n02101006_561.jpg: dimensions 220x275 are smaller than 224x224.\n"
     ]
    },
    {
     "name": "stderr",
     "output_type": "stream",
     "text": [
      "Processing gordon setter: 153it [00:00, 196.19it/s]\n"
     ]
    },
    {
     "name": "stdout",
     "output_type": "stream",
     "text": [
      "Skipping n02101006_638.jpg: dimensions 200x144 are smaller than 224x224.\n"
     ]
    },
    {
     "name": "stderr",
     "output_type": "stream",
     "text": []
    },
    {
     "name": "stdout",
     "output_type": "stream",
     "text": [
      "Skipping n02109047_12085.jpg: dimensions 190x250 are smaller than 224x224.\n"
     ]
    },
    {
     "name": "stderr",
     "output_type": "stream",
     "text": []
    },
    {
     "name": "stdout",
     "output_type": "stream",
     "text": [
      "Skipping n02109047_4267.jpg: dimensions 250x177 are smaller than 224x224.\n",
      "Skipping n02109047_5005.jpg: dimensions 180x316 are smaller than 224x224.\n"
     ]
    },
    {
     "name": "stderr",
     "output_type": "stream",
     "text": [
      "Processing great dane: 156it [00:00, 179.21it/s]\n"
     ]
    },
    {
     "name": "stdout",
     "output_type": "stream",
     "text": [
      "Skipping n02111500_2018.jpg: dimensions 200x184 are smaller than 224x224.\n",
      "Skipping n02111500_3254.jpg: dimensions 200x200 are smaller than 224x224.\n"
     ]
    },
    {
     "name": "stderr",
     "output_type": "stream",
     "text": []
    },
    {
     "name": "stdout",
     "output_type": "stream",
     "text": [
      "Skipping n02111500_3749.jpg: dimensions 500x212 are smaller than 224x224.\n"
     ]
    },
    {
     "name": "stderr",
     "output_type": "stream",
     "text": [
      "\n"
     ]
    },
    {
     "name": "stdout",
     "output_type": "stream",
     "text": [
      "Skipping n02111500_6289.jpg: dimensions 200x201 are smaller than 224x224.\n"
     ]
    },
    {
     "name": "stderr",
     "output_type": "stream",
     "text": [
      "Processing great pyrenees: 213it [00:01, 181.27it/s]\u001b[A\n"
     ]
    },
    {
     "name": "stdout",
     "output_type": "stream",
     "text": [
      "Skipping n02107574_1026.jpg: dimensions 200x280 are smaller than 224x224.\n"
     ]
    },
    {
     "name": "stderr",
     "output_type": "stream",
     "text": []
    },
    {
     "name": "stdout",
     "output_type": "stream",
     "text": [
      "Skipping n02107574_1927.jpg: dimensions 200x280 are smaller than 224x224.\n"
     ]
    },
    {
     "name": "stderr",
     "output_type": "stream",
     "text": []
    },
    {
     "name": "stdout",
     "output_type": "stream",
     "text": [
      "Skipping n02107574_267.jpg: dimensions 200x181 are smaller than 224x224.\n"
     ]
    },
    {
     "name": "stderr",
     "output_type": "stream",
     "text": [
      "Processing greater swiss mountain dog: 168it [00:00, 186.67it/s]\n"
     ]
    },
    {
     "name": "stdout",
     "output_type": "stream",
     "text": [
      "Skipping n02107574_819.jpg: dimensions 202x333 are smaller than 224x224.\n",
      "Skipping n02107574_986.jpg: dimensions 223x259 are smaller than 224x224.\n"
     ]
    },
    {
     "name": "stderr",
     "output_type": "stream",
     "text": []
    },
    {
     "name": "stdout",
     "output_type": "stream",
     "text": [
      "Skipping n02105056_143.jpg: dimensions 210x300 are smaller than 224x224.\n",
      "Skipping n02105056_1523.jpg: dimensions 131x201 are smaller than 224x224.\n",
      "Skipping n02105056_1613.jpg: dimensions 166x240 are smaller than 224x224.\n",
      "Skipping n02105056_2036.jpg: dimensions 158x240 are smaller than 224x224.\n"
     ]
    },
    {
     "name": "stderr",
     "output_type": "stream",
     "text": []
    },
    {
     "name": "stdout",
     "output_type": "stream",
     "text": [
      "Skipping n02105056_3294.jpg: dimensions 180x270 are smaller than 224x224.\n",
      "Skipping n02105056_3348.jpg: dimensions 340x223 are smaller than 224x224.\n"
     ]
    },
    {
     "name": "stderr",
     "output_type": "stream",
     "text": []
    },
    {
     "name": "stdout",
     "output_type": "stream",
     "text": [
      "Skipping n02105056_3445.jpg: dimensions 300x201 are smaller than 224x224.\n"
     ]
    },
    {
     "name": "stderr",
     "output_type": "stream",
     "text": [
      "Processing groenendael: 150it [00:00, 182.60it/s]\n"
     ]
    },
    {
     "name": "stdout",
     "output_type": "stream",
     "text": [
      "Skipping n02105056_6899.jpg: dimensions 190x290 are smaller than 224x224.\n",
      "Skipping n02105056_933.jpg: dimensions 166x220 are smaller than 224x224.\n",
      "Skipping n02105056_961.jpg: dimensions 240x165 are smaller than 224x224.\n"
     ]
    },
    {
     "name": "stderr",
     "output_type": "stream",
     "text": []
    },
    {
     "name": "stdout",
     "output_type": "stream",
     "text": [
      "Skipping n02091244_1488.jpg: dimensions 200x476 are smaller than 224x224.\n",
      "Skipping n02091244_2207.jpg: dimensions 220x220 are smaller than 224x224.\n"
     ]
    },
    {
     "name": "stderr",
     "output_type": "stream",
     "text": []
    },
    {
     "name": "stdout",
     "output_type": "stream",
     "text": [
      "Skipping n02091244_2625.jpg: dimensions 300x200 are smaller than 224x224.\n",
      "Skipping n02091244_3383.jpg: dimensions 222x226 are smaller than 224x224.\n"
     ]
    },
    {
     "name": "stderr",
     "output_type": "stream",
     "text": []
    },
    {
     "name": "stdout",
     "output_type": "stream",
     "text": [
      "Skipping n02091244_4644.jpg: dimensions 175x250 are smaller than 224x224.\n",
      "Skipping n02091244_4948.jpg: dimensions 280x206 are smaller than 224x224.\n",
      "Skipping n02091244_5638.jpg: dimensions 369x216 are smaller than 224x224.\n",
      "Skipping n02091244_583.jpg: dimensions 172x256 are smaller than 224x224.\n"
     ]
    },
    {
     "name": "stderr",
     "output_type": "stream",
     "text": [
      "Processing ibizan hound: 188it [00:00, 195.24it/s]\n"
     ]
    },
    {
     "name": "stdout",
     "output_type": "stream",
     "text": [
      "Skipping n02100877_1061.jpg: dimensions 200x169 are smaller than 224x224.\n",
      "Skipping n02100877_1787.jpg: dimensions 170x200 are smaller than 224x224.\n",
      "Skipping n02100877_237.jpg: dimensions 350x219 are smaller than 224x224.\n",
      "Skipping n02100877_2389.jpg: dimensions 186x207 are smaller than 224x224.\n",
      "Skipping n02100877_2588.jpg: dimensions 190x151 are smaller than 224x224.\n"
     ]
    },
    {
     "name": "stderr",
     "output_type": "stream",
     "text": []
    },
    {
     "name": "stdout",
     "output_type": "stream",
     "text": [
      "Skipping n02100877_2832.jpg: dimensions 196x244 are smaller than 224x224.\n",
      "Skipping n02100877_356.jpg: dimensions 371x219 are smaller than 224x224.\n",
      "Skipping n02100877_4099.jpg: dimensions 216x305 are smaller than 224x224.\n",
      "Skipping n02100877_4508.jpg: dimensions 500x215 are smaller than 224x224.\n"
     ]
    },
    {
     "name": "stderr",
     "output_type": "stream",
     "text": []
    },
    {
     "name": "stdout",
     "output_type": "stream",
     "text": [
      "Skipping n02100877_4898.jpg: dimensions 200x200 are smaller than 224x224.\n",
      "Skipping n02100877_5883.jpg: dimensions 279x199 are smaller than 224x224.\n",
      "Skipping n02100877_6160.jpg: dimensions 278x188 are smaller than 224x224.\n"
     ]
    },
    {
     "name": "stderr",
     "output_type": "stream",
     "text": []
    },
    {
     "name": "stdout",
     "output_type": "stream",
     "text": [
      "Skipping n02100877_6375.jpg: dimensions 140x186 are smaller than 224x224.\n",
      "Skipping n02100877_6683.jpg: dimensions 200x174 are smaller than 224x224.\n",
      "Skipping n02100877_71.jpg: dimensions 218x291 are smaller than 224x224.\n"
     ]
    },
    {
     "name": "stderr",
     "output_type": "stream",
     "text": [
      "Processing irish setter: 155it [00:00, 162.68it/s]\n"
     ]
    },
    {
     "name": "stdout",
     "output_type": "stream",
     "text": [
      "Skipping n02100877_916.jpg: dimensions 196x336 are smaller than 224x224.\n"
     ]
    },
    {
     "name": "stderr",
     "output_type": "stream",
     "text": []
    },
    {
     "name": "stdout",
     "output_type": "stream",
     "text": [
      "Skipping n02093991_114.jpg: dimensions 340x220 are smaller than 224x224.\n",
      "Skipping n02093991_130.jpg: dimensions 221x170 are smaller than 224x224.\n"
     ]
    },
    {
     "name": "stderr",
     "output_type": "stream",
     "text": []
    },
    {
     "name": "stdout",
     "output_type": "stream",
     "text": [
      "Skipping n02093991_2762.jpg: dimensions 160x200 are smaller than 224x224.\n",
      "Skipping n02093991_3604.jpg: dimensions 175x252 are smaller than 224x224.\n"
     ]
    },
    {
     "name": "stderr",
     "output_type": "stream",
     "text": []
    },
    {
     "name": "stdout",
     "output_type": "stream",
     "text": [
      "Skipping n02093991_3783.jpg: dimensions 180x154 are smaller than 224x224.\n",
      "Skipping n02093991_403.jpg: dimensions 235x188 are smaller than 224x224.\n",
      "Skipping n02093991_4052.jpg: dimensions 170x170 are smaller than 224x224.\n",
      "Skipping n02093991_4171.jpg: dimensions 160x183 are smaller than 224x224.\n",
      "Skipping n02093991_4490.jpg: dimensions 180x139 are smaller than 224x224.\n"
     ]
    },
    {
     "name": "stderr",
     "output_type": "stream",
     "text": [
      "Processing irish terrier: 169it [00:00, 182.62it/s]\n"
     ]
    },
    {
     "name": "stdout",
     "output_type": "stream",
     "text": [
      "Skipping n02093991_86.jpg: dimensions 200x161 are smaller than 224x224.\n",
      "Skipping n02093991_877.jpg: dimensions 227x190 are smaller than 224x224.\n",
      "Skipping n02093991_942.jpg: dimensions 200x279 are smaller than 224x224.\n"
     ]
    },
    {
     "name": "stderr",
     "output_type": "stream",
     "text": []
    },
    {
     "name": "stdout",
     "output_type": "stream",
     "text": [
      "Skipping n02102973_1254.jpg: dimensions 159x260 are smaller than 224x224.\n",
      "Skipping n02102973_1723.jpg: dimensions 200x150 are smaller than 224x224.\n"
     ]
    },
    {
     "name": "stderr",
     "output_type": "stream",
     "text": []
    },
    {
     "name": "stdout",
     "output_type": "stream",
     "text": [
      "Skipping n02102973_2280.jpg: dimensions 223x259 are smaller than 224x224.\n",
      "Skipping n02102973_2295.jpg: dimensions 200x141 are smaller than 224x224.\n",
      "Skipping n02102973_2442.jpg: dimensions 200x150 are smaller than 224x224.\n",
      "Skipping n02102973_2569.jpg: dimensions 181x228 are smaller than 224x224.\n"
     ]
    },
    {
     "name": "stderr",
     "output_type": "stream",
     "text": []
    },
    {
     "name": "stdout",
     "output_type": "stream",
     "text": [
      "Skipping n02102973_2727.jpg: dimensions 158x215 are smaller than 224x224.\n",
      "Skipping n02102973_2805.jpg: dimensions 266x216 are smaller than 224x224.\n",
      "Skipping n02102973_2850.jpg: dimensions 160x170 are smaller than 224x224.\n",
      "Skipping n02102973_3073.jpg: dimensions 138x219 are smaller than 224x224.\n"
     ]
    },
    {
     "name": "stderr",
     "output_type": "stream",
     "text": []
    },
    {
     "name": "stdout",
     "output_type": "stream",
     "text": [
      "Skipping n02102973_3623.jpg: dimensions 143x157 are smaller than 224x224.\n",
      "Skipping n02102973_3635.jpg: dimensions 140x253 are smaller than 224x224.\n",
      "Skipping n02102973_3642.jpg: dimensions 210x210 are smaller than 224x224.\n",
      "Skipping n02102973_3646.jpg: dimensions 220x220 are smaller than 224x224.\n",
      "Skipping n02102973_377.jpg: dimensions 240x200 are smaller than 224x224.\n",
      "Skipping n02102973_3792.jpg: dimensions 200x300 are smaller than 224x224.\n",
      "Skipping n02102973_3933.jpg: dimensions 170x170 are smaller than 224x224.\n",
      "Skipping n02102973_3978.jpg: dimensions 160x170 are smaller than 224x224.\n"
     ]
    },
    {
     "name": "stderr",
     "output_type": "stream",
     "text": [
      "\n"
     ]
    },
    {
     "name": "stdout",
     "output_type": "stream",
     "text": [
      "Skipping n02102973_4253.jpg: dimensions 289x200 are smaller than 224x224.\n",
      "Skipping n02102973_4287.jpg: dimensions 222x299 are smaller than 224x224.\n",
      "Skipping n02102973_4459.jpg: dimensions 215x215 are smaller than 224x224.\n",
      "Skipping n02102973_450.jpg: dimensions 220x241 are smaller than 224x224.\n",
      "Skipping n02102973_4502.jpg: dimensions 250x197 are smaller than 224x224.\n",
      "Skipping n02102973_4511.jpg: dimensions 143x204 are smaller than 224x224.\n",
      "Skipping n02102973_457.jpg: dimensions 250x189 are smaller than 224x224.\n",
      "Skipping n02102973_4597.jpg: dimensions 300x212 are smaller than 224x224.\n",
      "Skipping n02102973_4794.jpg: dimensions 213x189 are smaller than 224x224.\n",
      "Skipping n02102973_4821.jpg: dimensions 129x164 are smaller than 224x224.\n",
      "Skipping n02102973_4947.jpg: dimensions 221x248 are smaller than 224x224.\n"
     ]
    },
    {
     "name": "stderr",
     "output_type": "stream",
     "text": [
      "Processing irish water spaniel: 127it [00:00, 215.91it/s]\u001b[A"
     ]
    },
    {
     "name": "stdout",
     "output_type": "stream",
     "text": [
      "Skipping n02102973_603.jpg: dimensions 190x158 are smaller than 224x224.\n",
      "Skipping n02102973_634.jpg: dimensions 170x240 are smaller than 224x224.\n"
     ]
    },
    {
     "name": "stderr",
     "output_type": "stream",
     "text": [
      "Processing irish water spaniel: 150it [00:00, 187.53it/s]\n"
     ]
    },
    {
     "name": "stdout",
     "output_type": "stream",
     "text": [
      "Skipping n02102973_944.jpg: dimensions 200x150 are smaller than 224x224.\n"
     ]
    },
    {
     "name": "stderr",
     "output_type": "stream",
     "text": []
    },
    {
     "name": "stdout",
     "output_type": "stream",
     "text": [
      "Skipping n02090721_1653.jpg: dimensions 250x215 are smaller than 224x224.\n",
      "Skipping n02090721_1862.jpg: dimensions 266x200 are smaller than 224x224.\n"
     ]
    },
    {
     "name": "stderr",
     "output_type": "stream",
     "text": []
    },
    {
     "name": "stdout",
     "output_type": "stream",
     "text": [
      "Skipping n02090721_2442.jpg: dimensions 380x195 are smaller than 224x224.\n",
      "Skipping n02090721_2552.jpg: dimensions 230x182 are smaller than 224x224.\n",
      "Skipping n02090721_3034.jpg: dimensions 210x210 are smaller than 224x224.\n"
     ]
    },
    {
     "name": "stderr",
     "output_type": "stream",
     "text": []
    },
    {
     "name": "stdout",
     "output_type": "stream",
     "text": [
      "Skipping n02090721_5759.jpg: dimensions 196x250 are smaller than 224x224.\n",
      "Skipping n02090721_968.jpg: dimensions 300x207 are smaller than 224x224.\n"
     ]
    },
    {
     "name": "stderr",
     "output_type": "stream",
     "text": [
      "Processing irish wolfhound: 218it [00:01, 191.05it/s]\n"
     ]
    },
    {
     "name": "stdout",
     "output_type": "stream",
     "text": [
      "Skipping n02091032_1481.jpg: dimensions 275x196 are smaller than 224x224.\n",
      "Skipping n02091032_1773.jpg: dimensions 180x263 are smaller than 224x224.\n",
      "Skipping n02091032_2178.jpg: dimensions 240x180 are smaller than 224x224.\n"
     ]
    },
    {
     "name": "stderr",
     "output_type": "stream",
     "text": [
      "Processing italian greyhound: 182it [00:00, 191.12it/s]\n"
     ]
    },
    {
     "name": "stdout",
     "output_type": "stream",
     "text": [
      "Skipping n02091032_904.jpg: dimensions 208x246 are smaller than 224x224.\n"
     ]
    },
    {
     "name": "stderr",
     "output_type": "stream",
     "text": []
    },
    {
     "name": "stdout",
     "output_type": "stream",
     "text": [
      "Skipping n02085782_1058.jpg: dimensions 240x182 are smaller than 224x224.\n",
      "Skipping n02085782_1143.jpg: dimensions 220x214 are smaller than 224x224.\n",
      "Skipping n02085782_1224.jpg: dimensions 210x210 are smaller than 224x224.\n",
      "Skipping n02085782_1267.jpg: dimensions 150x103 are smaller than 224x224.\n",
      "Skipping n02085782_1350.jpg: dimensions 332x218 are smaller than 224x224.\n",
      "Skipping n02085782_1401.jpg: dimensions 190x168 are smaller than 224x224.\n",
      "Skipping n02085782_1425.jpg: dimensions 125x100 are smaller than 224x224.\n"
     ]
    },
    {
     "name": "stderr",
     "output_type": "stream",
     "text": []
    },
    {
     "name": "stdout",
     "output_type": "stream",
     "text": [
      "Skipping n02085782_1503.jpg: dimensions 216x288 are smaller than 224x224.\n",
      "Skipping n02085782_1521.jpg: dimensions 191x178 are smaller than 224x224.\n",
      "Skipping n02085782_1552.jpg: dimensions 180x230 are smaller than 224x224.\n",
      "Skipping n02085782_1610.jpg: dimensions 250x197 are smaller than 224x224.\n",
      "Skipping n02085782_1656.jpg: dimensions 230x161 are smaller than 224x224.\n",
      "Skipping n02085782_172.jpg: dimensions 200x150 are smaller than 224x224.\n",
      "Skipping n02085782_1774.jpg: dimensions 143x225 are smaller than 224x224.\n"
     ]
    },
    {
     "name": "stderr",
     "output_type": "stream",
     "text": []
    },
    {
     "name": "stdout",
     "output_type": "stream",
     "text": [
      "Skipping n02085782_1890.jpg: dimensions 180x180 are smaller than 224x224.\n",
      "Skipping n02085782_2014.jpg: dimensions 180x220 are smaller than 224x224.\n",
      "Skipping n02085782_2162.jpg: dimensions 180x138 are smaller than 224x224.\n"
     ]
    },
    {
     "name": "stderr",
     "output_type": "stream",
     "text": [
      "\n"
     ]
    },
    {
     "name": "stdout",
     "output_type": "stream",
     "text": [
      "Skipping n02085782_2279.jpg: dimensions 250x211 are smaller than 224x224.\n",
      "Skipping n02085782_2293.jpg: dimensions 148x171 are smaller than 224x224.\n",
      "Skipping n02085782_230.jpg: dimensions 217x211 are smaller than 224x224.\n",
      "Skipping n02085782_2323.jpg: dimensions 200x150 are smaller than 224x224.\n"
     ]
    },
    {
     "name": "stderr",
     "output_type": "stream",
     "text": [
      "Processing japanese spaniel: 78it [00:00, 187.10it/s]\u001b[A"
     ]
    },
    {
     "name": "stdout",
     "output_type": "stream",
     "text": [
      "Skipping n02085782_2922.jpg: dimensions 200x200 are smaller than 224x224.\n",
      "Skipping n02085782_3019.jpg: dimensions 240x184 are smaller than 224x224.\n",
      "Skipping n02085782_3031.jpg: dimensions 150x170 are smaller than 224x224.\n",
      "Skipping n02085782_3065.jpg: dimensions 150x132 are smaller than 224x224.\n",
      "Skipping n02085782_3071.jpg: dimensions 180x148 are smaller than 224x224.\n",
      "Skipping n02085782_309.jpg: dimensions 200x185 are smaller than 224x224.\n"
     ]
    },
    {
     "name": "stderr",
     "output_type": "stream",
     "text": []
    },
    {
     "name": "stdout",
     "output_type": "stream",
     "text": [
      "Skipping n02085782_3400.jpg: dimensions 200x183 are smaller than 224x224.\n",
      "Skipping n02085782_3404.jpg: dimensions 190x174 are smaller than 224x224.\n",
      "Skipping n02085782_3420.jpg: dimensions 210x210 are smaller than 224x224.\n",
      "Skipping n02085782_38.jpg: dimensions 186x207 are smaller than 224x224.\n",
      "Skipping n02085782_3870.jpg: dimensions 196x260 are smaller than 224x224.\n",
      "Skipping n02085782_3896.jpg: dimensions 200x200 are smaller than 224x224.\n",
      "Skipping n02085782_3899.jpg: dimensions 200x200 are smaller than 224x224.\n"
     ]
    },
    {
     "name": "stderr",
     "output_type": "stream",
     "text": []
    },
    {
     "name": "stdout",
     "output_type": "stream",
     "text": [
      "Skipping n02085782_3990.jpg: dimensions 218x207 are smaller than 224x224.\n",
      "Skipping n02085782_4208.jpg: dimensions 220x300 are smaller than 224x224.\n",
      "Skipping n02085782_4269.jpg: dimensions 200x150 are smaller than 224x224.\n",
      "Skipping n02085782_435.jpg: dimensions 200x180 are smaller than 224x224.\n",
      "Skipping n02085782_4438.jpg: dimensions 216x232 are smaller than 224x224.\n",
      "Skipping n02085782_4564.jpg: dimensions 200x168 are smaller than 224x224.\n",
      "Skipping n02085782_4574.jpg: dimensions 200x150 are smaller than 224x224.\n"
     ]
    },
    {
     "name": "stderr",
     "output_type": "stream",
     "text": []
    },
    {
     "name": "stdout",
     "output_type": "stream",
     "text": [
      "Skipping n02085782_516.jpg: dimensions 230x216 are smaller than 224x224.\n",
      "Skipping n02085782_518.jpg: dimensions 120x120 are smaller than 224x224.\n",
      "Skipping n02085782_622.jpg: dimensions 130x122 are smaller than 224x224.\n",
      "Skipping n02085782_626.jpg: dimensions 150x150 are smaller than 224x224.\n"
     ]
    },
    {
     "name": "stderr",
     "output_type": "stream",
     "text": []
    },
    {
     "name": "stdout",
     "output_type": "stream",
     "text": [
      "Skipping n02085782_754.jpg: dimensions 216x324 are smaller than 224x224.\n",
      "Skipping n02085782_757.jpg: dimensions 200x191 are smaller than 224x224.\n",
      "Skipping n02085782_806.jpg: dimensions 220x220 are smaller than 224x224.\n",
      "Skipping n02085782_810.jpg: dimensions 218x178 are smaller than 224x224.\n",
      "Skipping n02085782_845.jpg: dimensions 200x309 are smaller than 224x224.\n",
      "Skipping n02085782_935.jpg: dimensions 180x156 are smaller than 224x224.\n",
      "Skipping n02085782_962.jpg: dimensions 227x204 are smaller than 224x224.\n"
     ]
    },
    {
     "name": "stderr",
     "output_type": "stream",
     "text": [
      "Processing japanese spaniel: 185it [00:01, 161.49it/s]\n"
     ]
    },
    {
     "name": "stdout",
     "output_type": "stream",
     "text": [
      "Skipping n02112350_212.jpg: dimensions 188x188 are smaller than 224x224.\n"
     ]
    },
    {
     "name": "stderr",
     "output_type": "stream",
     "text": []
    },
    {
     "name": "stdout",
     "output_type": "stream",
     "text": [
      "Skipping n02112350_7112.jpg: dimensions 199x255 are smaller than 224x224.\n"
     ]
    },
    {
     "name": "stderr",
     "output_type": "stream",
     "text": [
      "Processing keeshond: 158it [00:00, 166.01it/s]\n"
     ]
    },
    {
     "name": "stdout",
     "output_type": "stream",
     "text": [
      "Skipping n02105412_1031.jpg: dimensions 200x200 are smaller than 224x224.\n"
     ]
    },
    {
     "name": "stderr",
     "output_type": "stream",
     "text": []
    },
    {
     "name": "stdout",
     "output_type": "stream",
     "text": [
      "Skipping n02105412_3078.jpg: dimensions 220x424 are smaller than 224x224.\n",
      "Skipping n02105412_3528.jpg: dimensions 200x290 are smaller than 224x224.\n",
      "Skipping n02105412_3645.jpg: dimensions 196x296 are smaller than 224x224.\n",
      "Skipping n02105412_43.jpg: dimensions 238x205 are smaller than 224x224.\n"
     ]
    },
    {
     "name": "stderr",
     "output_type": "stream",
     "text": []
    },
    {
     "name": "stdout",
     "output_type": "stream",
     "text": [
      "Skipping n02105412_530.jpg: dimensions 200x316 are smaller than 224x224.\n"
     ]
    },
    {
     "name": "stderr",
     "output_type": "stream",
     "text": [
      "Processing kelpie: 153it [00:00, 173.06it/s]\n"
     ]
    },
    {
     "name": "stdout",
     "output_type": "stream",
     "text": [
      "Skipping n02105412_7504.jpg: dimensions 202x254 are smaller than 224x224.\n",
      "Skipping n02105412_7785.jpg: dimensions 200x244 are smaller than 224x224.\n",
      "Skipping n02105412_7819.jpg: dimensions 180x283 are smaller than 224x224.\n"
     ]
    },
    {
     "name": "stderr",
     "output_type": "stream",
     "text": []
    },
    {
     "name": "stdout",
     "output_type": "stream",
     "text": [
      "Skipping n02093859_1120.jpg: dimensions 160x170 are smaller than 224x224.\n"
     ]
    },
    {
     "name": "stderr",
     "output_type": "stream",
     "text": []
    },
    {
     "name": "stdout",
     "output_type": "stream",
     "text": [
      "Skipping n02093859_1279.jpg: dimensions 189x300 are smaller than 224x224.\n",
      "Skipping n02093859_14.jpg: dimensions 182x157 are smaller than 224x224.\n",
      "Skipping n02093859_1456.jpg: dimensions 180x172 are smaller than 224x224.\n",
      "Skipping n02093859_1498.jpg: dimensions 300x199 are smaller than 224x224.\n",
      "Skipping n02093859_1571.jpg: dimensions 230x184 are smaller than 224x224.\n",
      "Skipping n02093859_1587.jpg: dimensions 200x150 are smaller than 224x224.\n",
      "Skipping n02093859_161.jpg: dimensions 253x221 are smaller than 224x224.\n",
      "Skipping n02093859_1640.jpg: dimensions 250x187 are smaller than 224x224.\n"
     ]
    },
    {
     "name": "stderr",
     "output_type": "stream",
     "text": []
    },
    {
     "name": "stdout",
     "output_type": "stream",
     "text": [
      "Skipping n02093859_1813.jpg: dimensions 199x150 are smaller than 224x224."
     ]
    },
    {
     "name": "stderr",
     "output_type": "stream",
     "text": []
    },
    {
     "name": "stdout",
     "output_type": "stream",
     "text": [
      "\n",
      "Skipping n02093859_1969.jpg: dimensions 200x140 are smaller than 224x224.\n",
      "Skipping n02093859_2057.jpg: dimensions 288x215 are smaller than 224x224.\n",
      "Skipping n02093859_2075.jpg: dimensions 300x156 are smaller than 224x224.\n",
      "Skipping n02093859_2421.jpg: dimensions 148x181 are smaller than 224x224.\n",
      "Skipping n02093859_2449.jpg: dimensions 200x200 are smaller than 224x224.\n"
     ]
    },
    {
     "name": "stderr",
     "output_type": "stream",
     "text": []
    },
    {
     "name": "stdout",
     "output_type": "stream",
     "text": [
      "Skipping n02093859_2559.jpg: dimensions 215x215 are smaller than 224x224.\n",
      "Skipping n02093859_2562.jpg: dimensions 160x170 are smaller than 224x224.\n",
      "Skipping n02093859_2699.jpg: dimensions 200x267 are smaller than 224x224.\n",
      "Skipping n02093859_2745.jpg: dimensions 220x216 are smaller than 224x224.\n",
      "Skipping n02093859_2787.jpg: dimensions 210x201 are smaller than 224x224.\n",
      "Skipping n02093859_2921.jpg: dimensions 200x158 are smaller than 224x224.\n",
      "Skipping n02093859_2970.jpg: dimensions 230x162 are smaller than 224x224.\n",
      "Skipping n02093859_3012.jpg: dimensions 190x168 are smaller than 224x224.\n",
      "Skipping n02093859_3125.jpg: dimensions 229x183 are smaller than 224x224.\n",
      "Skipping n02093859_3140.jpg: dimensions 181x154 are smaller than 224x224.\n"
     ]
    },
    {
     "name": "stderr",
     "output_type": "stream",
     "text": []
    },
    {
     "name": "stdout",
     "output_type": "stream",
     "text": [
      "Skipping n02093859_3248.jpg: dimensions 160x170 are smaller than 224x224.\n",
      "Skipping n02093859_3291.jpg: dimensions 304x214 are smaller than 224x224.\n",
      "Skipping n02093859_3319.jpg: dimensions 190x208 are smaller than 224x224.\n",
      "Skipping n02093859_345.jpg: dimensions 221x172 are smaller than 224x224.\n",
      "Skipping n02093859_567.jpg: dimensions 250x193 are smaller than 224x224.\n",
      "Skipping n02093859_608.jpg: dimensions 357x189 are smaller than 224x224.\n"
     ]
    },
    {
     "name": "stderr",
     "output_type": "stream",
     "text": [
      "Processing kerry blue terrier: 179it [00:01, 158.90it/s]\n"
     ]
    },
    {
     "name": "stdout",
     "output_type": "stream",
     "text": [
      "Skipping n02093859_773.jpg: dimensions 173x139 are smaller than 224x224.\n",
      "Skipping n02093859_801.jpg: dimensions 250x155 are smaller than 224x224.\n",
      "Skipping n02093859_82.jpg: dimensions 212x182 are smaller than 224x224.\n",
      "Skipping n02093859_879.jpg: dimensions 300x171 are smaller than 224x224.\n"
     ]
    },
    {
     "name": "stderr",
     "output_type": "stream",
     "text": []
    },
    {
     "name": "stdout",
     "output_type": "stream",
     "text": [
      "Skipping n02105505_1225.jpg: dimensions 300x199 are smaller than 224x224.\n",
      "Skipping n02105505_1272.jpg: dimensions 259x174 are smaller than 224x224.\n",
      "Skipping n02105505_1383.jpg: dimensions 200x200 are smaller than 224x224.\n",
      "Skipping n02105505_1406.jpg: dimensions 200x200 are smaller than 224x224.\n",
      "Skipping n02105505_1443.jpg: dimensions 300x222 are smaller than 224x224.\n"
     ]
    },
    {
     "name": "stderr",
     "output_type": "stream",
     "text": []
    },
    {
     "name": "stdout",
     "output_type": "stream",
     "text": [
      "Skipping n02105505_2886.jpg: dimensions 173x270 are smaller than 224x224."
     ]
    },
    {
     "name": "stderr",
     "output_type": "stream",
     "text": []
    },
    {
     "name": "stdout",
     "output_type": "stream",
     "text": [
      "\n",
      "Skipping n02105505_3132.jpg: dimensions 177x236 are smaller than 224x224.\n",
      "Skipping n02105505_3328.jpg: dimensions 218x500 are smaller than 224x224.\n",
      "Skipping n02105505_3380.jpg: dimensions 251x184 are smaller than 224x224.\n",
      "Skipping n02105505_3564.jpg: dimensions 250x219 are smaller than 224x224.\n",
      "Skipping n02105505_3679.jpg: dimensions 283x179 are smaller than 224x224.\n",
      "Skipping n02105505_3706.jpg: dimensions 192x211 are smaller than 224x224.\n",
      "Skipping n02105505_3721.jpg: dimensions 300x201 are smaller than 224x224.\n",
      "Skipping n02105505_3787.jpg: dimensions 251x172 are smaller than 224x224.\n"
     ]
    },
    {
     "name": "stderr",
     "output_type": "stream",
     "text": []
    },
    {
     "name": "stdout",
     "output_type": "stream",
     "text": [
      "Skipping n02105505_4021.jpg: dimensions 215x340 are smaller than 224x224.\n",
      "Skipping n02105505_4028.jpg: dimensions 350x206 are smaller than 224x224.\n",
      "Skipping n02105505_4138.jpg: dimensions 287x211 are smaller than 224x224.\n",
      "Skipping n02105505_4143.jpg: dimensions 240x200 are smaller than 224x224.\n",
      "Skipping n02105505_4271.jpg: dimensions 250x185 are smaller than 224x224.\n",
      "Skipping n02105505_4311.jpg: dimensions 211x279 are smaller than 224x224.\n",
      "Skipping n02105505_4325.jpg: dimensions 220x220 are smaller than 224x224.\n",
      "Skipping n02105505_4382.jpg: dimensions 250x163 are smaller than 224x224.\n",
      "Skipping n02105505_4417.jpg: dimensions 280x203 are smaller than 224x224.\n"
     ]
    },
    {
     "name": "stderr",
     "output_type": "stream",
     "text": [
      "Processing komondor: 154it [00:00, 174.45it/s]\n"
     ]
    },
    {
     "name": "stdout",
     "output_type": "stream",
     "text": [
      "Skipping n02105505_4436.jpg: dimensions 270x203 are smaller than 224x224.\n",
      "Skipping n02105505_561.jpg: dimensions 200x200 are smaller than 224x224.\n",
      "Skipping n02105505_853.jpg: dimensions 200x235 are smaller than 224x224.\n"
     ]
    },
    {
     "name": "stderr",
     "output_type": "stream",
     "text": []
    },
    {
     "name": "stdout",
     "output_type": "stream",
     "text": [
      "Skipping n02104029_1375.jpg: dimensions 200x192 are smaller than 224x224.\n",
      "Skipping n02104029_1423.jpg: dimensions 325x159 are smaller than 224x224.\n",
      "Skipping n02104029_1713.jpg: dimensions 220x152 are smaller than 224x224.\n",
      "Skipping n02104029_185.jpg: dimensions 200x131 are smaller than 224x224.\n",
      "Skipping n02104029_1988.jpg: dimensions 238x191 are smaller than 224x224.\n",
      "Skipping n02104029_2328.jpg: dimensions 340x178 are smaller than 224x224.\n",
      "Skipping n02104029_247.jpg: dimensions 243x220 are smaller than 224x224.\n"
     ]
    },
    {
     "name": "stderr",
     "output_type": "stream",
     "text": []
    },
    {
     "name": "stdout",
     "output_type": "stream",
     "text": [
      "Skipping n02104029_3427.jpg: dimensions 240x181 are smaller than 224x224.\n",
      "Skipping n02104029_409.jpg: dimensions 200x191 are smaller than 224x224.\n",
      "Skipping n02104029_4415.jpg: dimensions 216x162 are smaller than 224x224.\n",
      "Skipping n02104029_4450.jpg: dimensions 200x156 are smaller than 224x224.\n",
      "Skipping n02104029_4456.jpg: dimensions 200x200 are smaller than 224x224.\n",
      "Skipping n02104029_4463.jpg: dimensions 220x216 are smaller than 224x224.\n",
      "Skipping n02104029_4466.jpg: dimensions 252x184 are smaller than 224x224.\n"
     ]
    },
    {
     "name": "stderr",
     "output_type": "stream",
     "text": []
    },
    {
     "name": "stdout",
     "output_type": "stream",
     "text": [
      "Skipping n02104029_4534.jpg: dimensions 183x150 are smaller than 224x224.\n",
      "Skipping n02104029_4777.jpg: dimensions 233x164 are smaller than 224x224.\n",
      "Skipping n02104029_4791.jpg: dimensions 300x213 are smaller than 224x224.\n",
      "Skipping n02104029_593.jpg: dimensions 250x185 are smaller than 224x224.\n"
     ]
    },
    {
     "name": "stderr",
     "output_type": "stream",
     "text": [
      "Processing kuvasz: 150it [00:00, 172.60it/s]\n"
     ]
    },
    {
     "name": "stdout",
     "output_type": "stream",
     "text": [
      "Skipping n02099712_6421.jpg: dimensions 200x191 are smaller than 224x224.\n"
     ]
    },
    {
     "name": "stderr",
     "output_type": "stream",
     "text": [
      "Processing labrador retriever: 171it [00:01, 167.77it/s]\n"
     ]
    },
    {
     "name": "stdout",
     "output_type": "stream",
     "text": [
      "Skipping n02095570_1372.jpg: dimensions 150x226 are smaller than 224x224.\n"
     ]
    },
    {
     "name": "stderr",
     "output_type": "stream",
     "text": []
    },
    {
     "name": "stdout",
     "output_type": "stream",
     "text": [
      "Skipping n02095570_2738.jpg: dimensions 288x192 are smaller than 224x224.\n",
      "Skipping n02095570_284.jpg: dimensions 211x282 are smaller than 224x224.\n",
      "Skipping n02095570_3101.jpg: dimensions 200x145 are smaller than 224x224.\n",
      "Skipping n02095570_3253.jpg: dimensions 200x134 are smaller than 224x224.\n"
     ]
    },
    {
     "name": "stderr",
     "output_type": "stream",
     "text": []
    },
    {
     "name": "stdout",
     "output_type": "stream",
     "text": [
      "Skipping n02095570_4226.jpg: dimensions 226x180 are smaller than 224x224.\n",
      "Skipping n02095570_4724.jpg: dimensions 164x187 are smaller than 224x224.\n"
     ]
    },
    {
     "name": "stderr",
     "output_type": "stream",
     "text": [
      "Processing lakeland terrier: 197it [00:01, 164.09it/s]\n"
     ]
    },
    {
     "name": "stdout",
     "output_type": "stream",
     "text": [
      "Skipping n02095570_6190.jpg: dimensions 216x189 are smaller than 224x224.\n",
      "Skipping n02095570_6443.jpg: dimensions 250x209 are smaller than 224x224.\n",
      "Skipping n02095570_687.jpg: dimensions 220x220 are smaller than 224x224.\n",
      "Skipping n02095570_916.jpg: dimensions 190x158 are smaller than 224x224.\n"
     ]
    },
    {
     "name": "stderr",
     "output_type": "stream",
     "text": []
    },
    {
     "name": "stdout",
     "output_type": "stream",
     "text": [
      "Skipping n02111129_1.jpg: dimensions 283x204 are smaller than 224x224.\n"
     ]
    },
    {
     "name": "stderr",
     "output_type": "stream",
     "text": [
      "\n"
     ]
    },
    {
     "name": "stdout",
     "output_type": "stream",
     "text": [
      "Skipping n02111129_3367.jpg: dimensions 240x194 are smaller than 224x224.\n",
      "Skipping n02111129_3573.jpg: dimensions 201x157 are smaller than 224x224.\n"
     ]
    },
    {
     "name": "stderr",
     "output_type": "stream",
     "text": [
      "Processing leonberg: 149it [00:00, 185.43it/s]\u001b[A"
     ]
    },
    {
     "name": "stdout",
     "output_type": "stream",
     "text": [
      "Skipping n02111129_454.jpg: dimensions 267x200 are smaller than 224x224.\n"
     ]
    },
    {
     "name": "stderr",
     "output_type": "stream",
     "text": [
      "Processing leonberg: 210it [00:01, 179.49it/s]\n"
     ]
    },
    {
     "name": "stdout",
     "output_type": "stream",
     "text": [
      "Skipping n02111129_990.jpg: dimensions 200x301 are smaller than 224x224.\n"
     ]
    },
    {
     "name": "stderr",
     "output_type": "stream",
     "text": []
    },
    {
     "name": "stdout",
     "output_type": "stream",
     "text": [
      "Skipping n02098413_17895.jpg: dimensions 200x200 are smaller than 224x224.\n"
     ]
    },
    {
     "name": "stderr",
     "output_type": "stream",
     "text": []
    },
    {
     "name": "stdout",
     "output_type": "stream",
     "text": [
      "Skipping n02098413_2639.jpg: dimensions 174x200 are smaller than 224x224.\n"
     ]
    },
    {
     "name": "stderr",
     "output_type": "stream",
     "text": [
      "Processing lhasa: 186it [00:01, 155.75it/s]\n",
      "Processing malamute: 178it [00:00, 208.74it/s]\n"
     ]
    },
    {
     "name": "stdout",
     "output_type": "stream",
     "text": [
      "Skipping n02110063_609.jpg: dimensions 216x308 are smaller than 224x224.\n",
      "Skipping n02110063_6391.jpg: dimensions 200x291 are smaller than 224x224.\n",
      "Skipping n02110063_9112.jpg: dimensions 250x200 are smaller than 224x224.\n",
      "Skipping n02110063_9259.jpg: dimensions 249x200 are smaller than 224x224.\n"
     ]
    },
    {
     "name": "stderr",
     "output_type": "stream",
     "text": []
    },
    {
     "name": "stdout",
     "output_type": "stream",
     "text": [
      "Skipping n02105162_175.jpg: dimensions 256x192 are smaller than 224x224.\n",
      "Skipping n02105162_2223.jpg: dimensions 150x224 are smaller than 224x224.\n",
      "Skipping n02105162_299.jpg: dimensions 200x200 are smaller than 224x224.\n",
      "Skipping n02105162_5370.jpg: dimensions 200x244 are smaller than 224x224.\n"
     ]
    },
    {
     "name": "stderr",
     "output_type": "stream",
     "text": [
      "Processing malinois: 150it [00:00, 175.07it/s]\n"
     ]
    },
    {
     "name": "stdout",
     "output_type": "stream",
     "text": [
      "Skipping n02105162_9969.jpg: dimensions 288x192 are smaller than 224x224.\n"
     ]
    },
    {
     "name": "stderr",
     "output_type": "stream",
     "text": []
    },
    {
     "name": "stdout",
     "output_type": "stream",
     "text": [
      "Skipping n02085936_5488.jpg: dimensions 216x192 are smaller than 224x224.\n"
     ]
    },
    {
     "name": "stderr",
     "output_type": "stream",
     "text": [
      "Processing maltese dog: 252it [00:01, 194.02it/s]\n"
     ]
    },
    {
     "name": "stdout",
     "output_type": "stream",
     "text": [
      "Skipping n02085936_9270.jpg: dimensions 199x217 are smaller than 224x224.\n"
     ]
    },
    {
     "name": "stderr",
     "output_type": "stream",
     "text": []
    },
    {
     "name": "stdout",
     "output_type": "stream",
     "text": [
      "Skipping n02113978_1325.jpg: dimensions 200x280 are smaller than 224x224.\n",
      "Skipping n02113978_1551.jpg: dimensions 241x160 are smaller than 224x224.\n",
      "Skipping n02113978_1620.jpg: dimensions 250x207 are smaller than 224x224.\n",
      "Skipping n02113978_177.jpg: dimensions 177x246 are smaller than 224x224.\n"
     ]
    },
    {
     "name": "stderr",
     "output_type": "stream",
     "text": []
    },
    {
     "name": "stdout",
     "output_type": "stream",
     "text": [
      "Skipping n02113978_1924.jpg: dimensions 230x172 are smaller than 224x224.\n",
      "Skipping n02113978_206.jpg: dimensions 200x133 are smaller than 224x224.\n",
      "Skipping n02113978_2073.jpg: dimensions 179x200 are smaller than 224x224.\n",
      "Skipping n02113978_216.jpg: dimensions 299x217 are smaller than 224x224.\n",
      "Skipping n02113978_2167.jpg: dimensions 200x303 are smaller than 224x224.\n",
      "Skipping n02113978_2261.jpg: dimensions 216x172 are smaller than 224x224.\n"
     ]
    },
    {
     "name": "stderr",
     "output_type": "stream",
     "text": []
    },
    {
     "name": "stdout",
     "output_type": "stream",
     "text": [
      "Skipping n02113978_2337.jpg: dimensions 211x311 are smaller than 224x224.\n",
      "Skipping n02113978_2425.jpg: dimensions 229x200 are smaller than 224x224.\n",
      "Skipping n02113978_2606.jpg: dimensions 200x150 are smaller than 224x224.\n",
      "Skipping n02113978_2804.jpg: dimensions 225x209 are smaller than 224x224.\n",
      "Skipping n02113978_2938.jpg: dimensions 221x300 are smaller than 224x224.\n"
     ]
    },
    {
     "name": "stderr",
     "output_type": "stream",
     "text": []
    },
    {
     "name": "stdout",
     "output_type": "stream",
     "text": [
      "Skipping n02113978_304.jpg: dimensions 160x170 are smaller than 224x224.\n",
      "Skipping n02113978_3056.jpg: dimensions 215x241 are smaller than 224x224.\n",
      "Skipping n02113978_3134.jpg: dimensions 205x310 are smaller than 224x224.\n",
      "Skipping n02113978_3184.jpg: dimensions 180x135 are smaller than 224x224.\n",
      "Skipping n02113978_3375.jpg: dimensions 160x170 are smaller than 224x224.\n"
     ]
    },
    {
     "name": "stderr",
     "output_type": "stream",
     "text": [
      "Processing mexican hairless: 155it [00:00, 219.97it/s]\n"
     ]
    },
    {
     "name": "stdout",
     "output_type": "stream",
     "text": [
      "Skipping n02113978_632.jpg: dimensions 250x200 are smaller than 224x224.\n",
      "Skipping n02113978_870.jpg: dimensions 160x200 are smaller than 224x224.\n",
      "Skipping n02113978_903.jpg: dimensions 200x210 are smaller than 224x224.\n",
      "Skipping n02113978_937.jpg: dimensions 288x216 are smaller than 224x224.\n"
     ]
    },
    {
     "name": "stderr",
     "output_type": "stream",
     "text": [
      "\n"
     ]
    },
    {
     "name": "stdout",
     "output_type": "stream",
     "text": [
      "Skipping n02107312_3009.jpg: dimensions 288x201 are smaller than 224x224.\n",
      "Skipping n02107312_3841.jpg: dimensions 200x150 are smaller than 224x224.\n"
     ]
    },
    {
     "name": "stderr",
     "output_type": "stream",
     "text": [
      "Processing miniature pinscher: 184it [00:00, 197.54it/s][A\n",
      "\n"
     ]
    },
    {
     "name": "stdout",
     "output_type": "stream",
     "text": [
      "Skipping n02113712_1331.jpg: dimensions 210x216 are smaller than 224x224.\n",
      "Skipping n02113712_1546.jpg: dimensions 166x208 are smaller than 224x224.\n",
      "Skipping n02113712_1572.jpg: dimensions 240x218 are smaller than 224x224.\n",
      "Skipping n02113712_171.jpg: dimensions 150x202 are smaller than 224x224.\n",
      "Skipping n02113712_1897.jpg: dimensions 200x225 are smaller than 224x224.\n"
     ]
    },
    {
     "name": "stderr",
     "output_type": "stream",
     "text": [
      "Processing miniature poodle: 63it [00:00, 216.28it/s]\u001b[A"
     ]
    },
    {
     "name": "stdout",
     "output_type": "stream",
     "text": [
      "Skipping n02113712_317.jpg: dimensions 175x143 are smaller than 224x224.\n"
     ]
    },
    {
     "name": "stderr",
     "output_type": "stream",
     "text": [
      "Processing miniature poodle: 155it [00:00, 205.65it/s]\n"
     ]
    },
    {
     "name": "stdout",
     "output_type": "stream",
     "text": [
      "Skipping n02113712_612.jpg: dimensions 200x150 are smaller than 224x224.\n",
      "Skipping n02113712_6697.jpg: dimensions 200x280 are smaller than 224x224.\n",
      "Skipping n02113712_919.jpg: dimensions 176x195 are smaller than 224x224.\n"
     ]
    },
    {
     "name": "stderr",
     "output_type": "stream",
     "text": []
    },
    {
     "name": "stdout",
     "output_type": "stream",
     "text": [
      "Skipping n02097047_2917.jpg: dimensions 213x320 are smaller than 224x224.\n"
     ]
    },
    {
     "name": "stderr",
     "output_type": "stream",
     "text": [
      "Processing miniature schnauzer: 154it [00:00, 186.21it/s]\n"
     ]
    },
    {
     "name": "stdout",
     "output_type": "stream",
     "text": [
      "Skipping n02097047_6188.jpg: dimensions 240x180 are smaller than 224x224.\n"
     ]
    },
    {
     "name": "stderr",
     "output_type": "stream",
     "text": []
    },
    {
     "name": "stdout",
     "output_type": "stream",
     "text": [
      "Skipping n02111277_2731.jpg: dimensions 240x160 are smaller than 224x224.\n",
      "Skipping n02111277_2823.jpg: dimensions 235x222 are smaller than 224x224.\n",
      "Skipping n02111277_3470.jpg: dimensions 190x340 are smaller than 224x224.\n",
      "Skipping n02111277_3653.jpg: dimensions 300x200 are smaller than 224x224.\n"
     ]
    },
    {
     "name": "stderr",
     "output_type": "stream",
     "text": []
    },
    {
     "name": "stdout",
     "output_type": "stream",
     "text": [
      "Skipping n02111277_5369.jpg: dimensions 250x184 are smaller than 224x224.\n",
      "Skipping n02111277_5577.jpg: dimensions 268x208 are smaller than 224x224.\n",
      "Skipping n02111277_6672.jpg: dimensions 189x240 are smaller than 224x224.\n"
     ]
    },
    {
     "name": "stderr",
     "output_type": "stream",
     "text": [
      "Processing newfoundland: 195it [00:00, 205.14it/s]\n"
     ]
    },
    {
     "name": "stdout",
     "output_type": "stream",
     "text": [
      "Skipping n02111277_9301.jpg: dimensions 250x218 are smaller than 224x224.\n"
     ]
    },
    {
     "name": "stderr",
     "output_type": "stream",
     "text": []
    },
    {
     "name": "stdout",
     "output_type": "stream",
     "text": [
      "Skipping n02094114_1020.jpg: dimensions 200x200 are smaller than 224x224.\n",
      "Skipping n02094114_1467.jpg: dimensions 200x200 are smaller than 224x224.\n",
      "Skipping n02094114_1497.jpg: dimensions 243x181 are smaller than 224x224.\n",
      "Skipping n02094114_1519.jpg: dimensions 180x179 are smaller than 224x224.\n",
      "Skipping n02094114_1665.jpg: dimensions 203x152 are smaller than 224x224.\n",
      "Skipping n02094114_1676.jpg: dimensions 235x188 are smaller than 224x224.\n"
     ]
    },
    {
     "name": "stderr",
     "output_type": "stream",
     "text": []
    },
    {
     "name": "stdout",
     "output_type": "stream",
     "text": [
      "Skipping n02094114_1944.jpg: dimensions 200x331 are smaller than 224x224.\n",
      "Skipping n02094114_2129.jpg: dimensions 178x133 are smaller than 224x224.\n",
      "Skipping n02094114_2206.jpg: dimensions 190x193 are smaller than 224x224.\n",
      "Skipping n02094114_2911.jpg: dimensions 216x383 are smaller than 224x224.\n",
      "Skipping n02094114_3177.jpg: dimensions 200x152 are smaller than 224x224.\n"
     ]
    },
    {
     "name": "stderr",
     "output_type": "stream",
     "text": []
    },
    {
     "name": "stdout",
     "output_type": "stream",
     "text": [
      "Skipping n02094114_3378.jpg: dimensions 200x200 are smaller than 224x224.\n",
      "Skipping n02094114_3409.jpg: dimensions 218x175 are smaller than 224x224.\n",
      "Skipping n02094114_346.jpg: dimensions 151x175 are smaller than 224x224.\n",
      "Skipping n02094114_3477.jpg: dimensions 191x200 are smaller than 224x224.\n",
      "Skipping n02094114_363.jpg: dimensions 141x175 are smaller than 224x224.\n",
      "Skipping n02094114_3667.jpg: dimensions 203x242 are smaller than 224x224.\n",
      "Skipping n02094114_3864.jpg: dimensions 172x150 are smaller than 224x224.\n",
      "Skipping n02094114_3890.jpg: dimensions 150x197 are smaller than 224x224.\n",
      "Skipping n02094114_3970.jpg: dimensions 220x239 are smaller than 224x224.\n"
     ]
    },
    {
     "name": "stderr",
     "output_type": "stream",
     "text": [
      "Processing norfolk terrier: 172it [00:00, 199.08it/s]\n"
     ]
    },
    {
     "name": "stdout",
     "output_type": "stream",
     "text": [
      "Skipping n02094114_563.jpg: dimensions 237x179 are smaller than 224x224.\n",
      "Skipping n02094114_680.jpg: dimensions 200x263 are smaller than 224x224.\n",
      "Skipping n02094114_694.jpg: dimensions 320x211 are smaller than 224x224.\n",
      "Skipping n02094114_754.jpg: dimensions 201x166 are smaller than 224x224.\n",
      "Skipping n02094114_876.jpg: dimensions 145x167 are smaller than 224x224.\n"
     ]
    },
    {
     "name": "stderr",
     "output_type": "stream",
     "text": []
    },
    {
     "name": "stdout",
     "output_type": "stream",
     "text": [
      "Skipping n02091467_2063.jpg: dimensions 288x216 are smaller than 224x224.\n",
      "Skipping n02091467_2122.jpg: dimensions 207x500 are smaller than 224x224.\n",
      "Skipping n02091467_2127.jpg: dimensions 210x210 are smaller than 224x224.\n",
      "Skipping n02091467_2179.jpg: dimensions 250x209 are smaller than 224x224.\n",
      "Skipping n02091467_3090.jpg: dimensions 220x294 are smaller than 224x224.\n"
     ]
    },
    {
     "name": "stderr",
     "output_type": "stream",
     "text": []
    },
    {
     "name": "stdout",
     "output_type": "stream",
     "text": [
      "Skipping n02091467_402.jpg: dimensions 297x205 are smaller than 224x224.\n",
      "Skipping n02091467_4049.jpg: dimensions 300x220 are smaller than 224x224.\n",
      "Skipping n02091467_410.jpg: dimensions 500x211 are smaller than 224x224.\n",
      "Skipping n02091467_4906.jpg: dimensions 200x200 are smaller than 224x224.\n"
     ]
    },
    {
     "name": "stderr",
     "output_type": "stream",
     "text": [
      "\n"
     ]
    },
    {
     "name": "stdout",
     "output_type": "stream",
     "text": [
      "Skipping n02091467_5490.jpg: dimensions 214x204 are smaller than 224x224.\n"
     ]
    },
    {
     "name": "stderr",
     "output_type": "stream",
     "text": [
      "Processing norwegian elkhound: 196it [00:01, 174.54it/s]\u001b[A\n"
     ]
    },
    {
     "name": "stdout",
     "output_type": "stream",
     "text": [
      "Skipping n02091467_7432.jpg: dimensions 200x200 are smaller than 224x224.\n"
     ]
    },
    {
     "name": "stderr",
     "output_type": "stream",
     "text": []
    },
    {
     "name": "stdout",
     "output_type": "stream",
     "text": [
      "Skipping n02094258_1407.jpg: dimensions 190x168 are smaller than 224x224.\n",
      "Skipping n02094258_146.jpg: dimensions 161x306 are smaller than 224x224.\n"
     ]
    },
    {
     "name": "stderr",
     "output_type": "stream",
     "text": []
    },
    {
     "name": "stdout",
     "output_type": "stream",
     "text": [
      "Skipping n02094258_1704.jpg: dimensions 250x201 are smaller than 224x224.\n",
      "Skipping n02094258_1775.jpg: dimensions 211x209 are smaller than 224x224.\n",
      "Skipping n02094258_2032.jpg: dimensions 244x180 are smaller than 224x224.\n"
     ]
    },
    {
     "name": "stderr",
     "output_type": "stream",
     "text": []
    },
    {
     "name": "stdout",
     "output_type": "stream",
     "text": [
      "Skipping n02094258_2767.jpg: dimensions 250x206 are smaller than 224x224.\n",
      "Skipping n02094258_279.jpg: dimensions 197x168 are smaller than 224x224.\n",
      "Skipping n02094258_3165.jpg: dimensions 240x160 are smaller than 224x224.\n",
      "Skipping n02094258_322.jpg: dimensions 182x227 are smaller than 224x224.\n",
      "Skipping n02094258_3425.jpg: dimensions 222x300 are smaller than 224x224.\n",
      "Skipping n02094258_3488.jpg: dimensions 200x229 are smaller than 224x224.\n"
     ]
    },
    {
     "name": "stderr",
     "output_type": "stream",
     "text": [
      "Processing norwich terrier: 185it [00:00, 211.12it/s]\n"
     ]
    },
    {
     "name": "stdout",
     "output_type": "stream",
     "text": [
      "Skipping n02094258_404.jpg: dimensions 320x213 are smaller than 224x224.\n",
      "Skipping n02094258_848.jpg: dimensions 200x134 are smaller than 224x224.\n",
      "Skipping n02094258_880.jpg: dimensions 200x200 are smaller than 224x224.\n",
      "Skipping n02094258_936.jpg: dimensions 210x210 are smaller than 224x224.\n",
      "Skipping n02094258_990.jpg: dimensions 145x175 are smaller than 224x224.\n"
     ]
    },
    {
     "name": "stderr",
     "output_type": "stream",
     "text": []
    },
    {
     "name": "stdout",
     "output_type": "stream",
     "text": [
      "Skipping n02105641_10397.jpg: dimensions 200x197 are smaller than 224x224.\n",
      "Skipping n02105641_11628.jpg: dimensions 255x204 are smaller than 224x224.\n"
     ]
    },
    {
     "name": "stderr",
     "output_type": "stream",
     "text": []
    },
    {
     "name": "stdout",
     "output_type": "stream",
     "text": [
      "Skipping n02105641_3602.jpg: dimensions 220x220 are smaller than 224x224.\n",
      "Skipping n02105641_6142.jpg: dimensions 200x305 are smaller than 224x224.\n"
     ]
    },
    {
     "name": "stderr",
     "output_type": "stream",
     "text": []
    },
    {
     "name": "stdout",
     "output_type": "stream",
     "text": [
      "Skipping n02105641_7219.jpg: dimensions 200x150 are smaller than 224x224.\n",
      "Skipping n02105641_8760.jpg: dimensions 240x180 are smaller than 224x224.\n"
     ]
    },
    {
     "name": "stderr",
     "output_type": "stream",
     "text": [
      "Processing old english sheepdog: 169it [00:00, 189.44it/s]\n"
     ]
    },
    {
     "name": "stdout",
     "output_type": "stream",
     "text": [
      "Skipping n02091635_1058.jpg: dimensions 350x189 are smaller than 224x224.\n",
      "Skipping n02091635_1177.jpg: dimensions 123x183 are smaller than 224x224.\n",
      "Skipping n02091635_1240.jpg: dimensions 189x133 are smaller than 224x224.\n",
      "Skipping n02091635_1302.jpg: dimensions 210x338 are smaller than 224x224.\n",
      "Skipping n02091635_1333.jpg: dimensions 250x210 are smaller than 224x224.\n",
      "Skipping n02091635_1337.jpg: dimensions 139x225 are smaller than 224x224.\n",
      "Skipping n02091635_134.jpg: dimensions 250x162 are smaller than 224x224.\n",
      "Skipping n02091635_1340.jpg: dimensions 180x145 are smaller than 224x224.\n",
      "Skipping n02091635_1357.jpg: dimensions 180x151 are smaller than 224x224.\n",
      "Skipping n02091635_1621.jpg: dimensions 220x220 are smaller than 224x224.\n",
      "Skipping n02091635_1664.jpg: dimensions 250x176 are smaller than 224x224.\n",
      "Skipping n02091635_1808.jpg: dimensions 200x225 are smaller than 224x224.\n",
      "Skipping n02091635_1860.jpg: dimensions 246x195 are smaller than 224x224.\n",
      "Skipping n02091635_1879.jpg: dimensions 171x126 are smaller than 224x224.\n",
      "Skipping n02091635_2014.jpg: dimensions 190x196 are smaller than 224x224.\n"
     ]
    },
    {
     "name": "stderr",
     "output_type": "stream",
     "text": []
    },
    {
     "name": "stdout",
     "output_type": "stream",
     "text": [
      "Skipping n02091635_215.jpg: dimensions 165x141 are smaller than 224x224.\n",
      "Skipping n02091635_2183.jpg: dimensions 300x213 are smaller than 224x224.\n",
      "Skipping n02091635_2277.jpg: dimensions 150x243 are smaller than 224x224.\n",
      "Skipping n02091635_2312.jpg: dimensions 208x216 are smaller than 224x224.\n",
      "Skipping n02091635_2584.jpg: dimensions 190x200 are smaller than 224x224.\n",
      "Skipping n02091635_2594.jpg: dimensions 171x210 are smaller than 224x224.\n",
      "Skipping n02091635_2725.jpg: dimensions 156x225 are smaller than 224x224.\n",
      "Skipping n02091635_2761.jpg: dimensions 220x173 are smaller than 224x224.\n",
      "Skipping n02091635_2766.jpg: dimensions 280x219 are smaller than 224x224.\n",
      "Skipping n02091635_2958.jpg: dimensions 190x166 are smaller than 224x224.\n",
      "Skipping n02091635_3048.jpg: dimensions 190x180 are smaller than 224x224.\n",
      "Skipping n02091635_3072.jpg: dimensions 188x154 are smaller than 224x224.\n",
      "Skipping n02091635_3199.jpg: dimensions 190x168 are smaller than 224x224.\n",
      "Skipping n02091635_335.jpg: dimensions 200x216 are smaller than 224x224.\n",
      "Skipping n02091635_3379.jpg: dimensions 256x211 are smaller than 224x224.\n",
      "Skipping n02091635_3466.jpg: dimensions 160x120 are smaller than 224x224.\n",
      "Skipping n02091635_3475.jpg: dimensions 164x154 are smaller than 224x224.\n",
      "Skipping n02091635_3552.jpg: dimensions 301x195 are smaller than 224x224.\n",
      "Skipping n02091635_3586.jpg: dimensions 150x231 are smaller than 224x224.\n",
      "Skipping n02091635_3661.jpg: dimensions 150x136 are smaller than 224x224.\n",
      "Skipping n02091635_3703.jpg: dimensions 302x186 are smaller than 224x224.\n",
      "Skipping n02091635_3900.jpg: dimensions 240x200 are smaller than 224x224.\n"
     ]
    },
    {
     "name": "stderr",
     "output_type": "stream",
     "text": [
      "Processing otterhound: 151it [00:00, 249.65it/s]\n"
     ]
    },
    {
     "name": "stdout",
     "output_type": "stream",
     "text": [
      "Skipping n02091635_4045.jpg: dimensions 375x183 are smaller than 224x224.\n",
      "Skipping n02091635_4068.jpg: dimensions 160x120 are smaller than 224x224.\n",
      "Skipping n02091635_4368.jpg: dimensions 210x210 are smaller than 224x224.\n",
      "Skipping n02091635_4377.jpg: dimensions 175x154 are smaller than 224x224.\n",
      "Skipping n02091635_4446.jpg: dimensions 256x170 are smaller than 224x224.\n",
      "Skipping n02091635_4626.jpg: dimensions 200x200 are smaller than 224x224.\n",
      "Skipping n02091635_4632.jpg: dimensions 300x200 are smaller than 224x224.\n",
      "Skipping n02091635_4698.jpg: dimensions 242x180 are smaller than 224x224.\n",
      "Skipping n02091635_4718.jpg: dimensions 200x200 are smaller than 224x224.\n",
      "Skipping n02091635_542.jpg: dimensions 200x156 are smaller than 224x224.\n",
      "Skipping n02091635_6.jpg: dimensions 200x300 are smaller than 224x224.\n",
      "Skipping n02091635_663.jpg: dimensions 218x375 are smaller than 224x224.\n",
      "Skipping n02091635_699.jpg: dimensions 200x169 are smaller than 224x224.\n",
      "Skipping n02091635_831.jpg: dimensions 200x150 are smaller than 224x224.\n",
      "Skipping n02091635_863.jpg: dimensions 200x191 are smaller than 224x224.\n",
      "Skipping n02091635_923.jpg: dimensions 247x165 are smaller than 224x224.\n",
      "Skipping n02091635_971.jpg: dimensions 280x131 are smaller than 224x224.\n"
     ]
    },
    {
     "name": "stderr",
     "output_type": "stream",
     "text": []
    },
    {
     "name": "stdout",
     "output_type": "stream",
     "text": [
      "Skipping n02086910_1826.jpg: dimensions 223x185 are smaller than 224x224.\n",
      "Skipping n02086910_1921.jpg: dimensions 200x209 are smaller than 224x224.\n",
      "Skipping n02086910_2084.jpg: dimensions 250x212 are smaller than 224x224.\n",
      "Skipping n02086910_2240.jpg: dimensions 190x156 are smaller than 224x224.\n"
     ]
    },
    {
     "name": "stderr",
     "output_type": "stream",
     "text": []
    },
    {
     "name": "stdout",
     "output_type": "stream",
     "text": [
      "Skipping n02086910_4488.jpg: dimensions 250x188 are smaller than 224x224.\n",
      "Skipping n02086910_5017.jpg: dimensions 200x200 are smaller than 224x224.\n",
      "Skipping n02086910_5023.jpg: dimensions 211x267 are smaller than 224x224.\n",
      "Skipping n02086910_5547.jpg: dimensions 200x200 are smaller than 224x224.\n",
      "Skipping n02086910_5598.jpg: dimensions 250x188 are smaller than 224x224.\n",
      "Skipping n02086910_6293.jpg: dimensions 250x222 are smaller than 224x224.\n"
     ]
    },
    {
     "name": "stderr",
     "output_type": "stream",
     "text": [
      "Processing papillon: 196it [00:00, 212.38it/s]\n"
     ]
    },
    {
     "name": "stdout",
     "output_type": "stream",
     "text": [
      "Skipping n02086910_7842.jpg: dimensions 250x143 are smaller than 224x224.\n",
      "Skipping n02086910_7868.jpg: dimensions 250x188 are smaller than 224x224.\n",
      "Skipping n02086910_8091.jpg: dimensions 200x200 are smaller than 224x224.\n",
      "Skipping n02086910_8209.jpg: dimensions 275x191 are smaller than 224x224.\n",
      "Skipping n02086910_8354.jpg: dimensions 180x231 are smaller than 224x224.\n",
      "Skipping n02086910_8872.jpg: dimensions 250x189 are smaller than 224x224.\n",
      "Skipping n02086910_9128.jpg: dimensions 280x216 are smaller than 224x224.\n"
     ]
    },
    {
     "name": "stderr",
     "output_type": "stream",
     "text": []
    },
    {
     "name": "stdout",
     "output_type": "stream",
     "text": [
      "Skipping n02086079_10059.jpg: dimensions 250x172 are smaller than 224x224."
     ]
    },
    {
     "name": "stderr",
     "output_type": "stream",
     "text": []
    },
    {
     "name": "stdout",
     "output_type": "stream",
     "text": [
      "\n",
      "Skipping n02086079_10721.jpg: dimensions 274x173 are smaller than 224x224.\n",
      "Skipping n02086079_10932.jpg: dimensions 300x190 are smaller than 224x224.\n"
     ]
    },
    {
     "name": "stderr",
     "output_type": "stream",
     "text": []
    },
    {
     "name": "stdout",
     "output_type": "stream",
     "text": [
      "Skipping n02086079_17205.jpg: dimensions 200x300 are smaller than 224x224.\n",
      "Skipping n02086079_186.jpg: dimensions 200x200 are smaller than 224x224.\n",
      "Skipping n02086079_207.jpg: dimensions 146x189 are smaller than 224x224.\n",
      "Skipping n02086079_22412.jpg: dimensions 400x202 are smaller than 224x224.\n",
      "Skipping n02086079_23100.jpg: dimensions 192x275 are smaller than 224x224.\n",
      "Skipping n02086079_2935.jpg: dimensions 255x221 are smaller than 224x224.\n"
     ]
    },
    {
     "name": "stderr",
     "output_type": "stream",
     "text": []
    },
    {
     "name": "stdout",
     "output_type": "stream",
     "text": [
      "Skipping n02086079_5522.jpg: dimensions 250x188 are smaller than 224x224.\n",
      "Skipping n02086079_7769.jpg: dimensions 250x179 are smaller than 224x224.\n",
      "Skipping n02086079_7944.jpg: dimensions 277x206 are smaller than 224x224.\n",
      "Skipping n02086079_8204.jpg: dimensions 190x200 are smaller than 224x224.\n"
     ]
    },
    {
     "name": "stderr",
     "output_type": "stream",
     "text": [
      "Processing pekinese: 149it [00:00, 215.07it/s]\n",
      "Processing pembroke: 181it [00:00, 214.36it/s]\n"
     ]
    },
    {
     "name": "stdout",
     "output_type": "stream",
     "text": [
      "Skipping n02112018_3737.jpg: dimensions 229x186 are smaller than 224x224.\n",
      "Skipping n02112018_4936.jpg: dimensions 205x143 are smaller than 224x224.\n"
     ]
    },
    {
     "name": "stderr",
     "output_type": "stream",
     "text": [
      "Processing pomeranian: 219it [00:01, 197.50it/s]\n"
     ]
    },
    {
     "name": "stdout",
     "output_type": "stream",
     "text": [
      "Skipping n02110958_11083.jpg: dimensions 184x276 are smaller than 224x224.\n"
     ]
    },
    {
     "name": "stderr",
     "output_type": "stream",
     "text": []
    },
    {
     "name": "stdout",
     "output_type": "stream",
     "text": [
      "Skipping n02110958_15364.jpg: dimensions 500x192 are smaller than 224x224.\n"
     ]
    },
    {
     "name": "stderr",
     "output_type": "stream",
     "text": [
      "Processing pug: 200it [00:00, 205.90it/s]\n",
      "\n"
     ]
    },
    {
     "name": "stdout",
     "output_type": "stream",
     "text": [
      "Skipping n02090379_1670.jpg: dimensions 162x120 are smaller than 224x224.\n",
      "Skipping n02090379_3320.jpg: dimensions 221x255 are smaller than 224x224.\n"
     ]
    },
    {
     "name": "stderr",
     "output_type": "stream",
     "text": [
      "Processing redbone: 63it [00:00, 210.23it/s]\u001b[A"
     ]
    },
    {
     "name": "stdout",
     "output_type": "stream",
     "text": [
      "Skipping n02090379_3881.jpg: dimensions 190x200 are smaller than 224x224.\n",
      "Skipping n02090379_5005.jpg: dimensions 175x175 are smaller than 224x224.\n"
     ]
    },
    {
     "name": "stderr",
     "output_type": "stream",
     "text": [
      "Processing redbone: 148it [00:00, 211.08it/s]\n"
     ]
    },
    {
     "name": "stdout",
     "output_type": "stream",
     "text": [
      "Skipping n02087394_10939.jpg: dimensions 300x137 are smaller than 224x224.\n",
      "Skipping n02087394_11710.jpg: dimensions 200x275 are smaller than 224x224.\n"
     ]
    },
    {
     "name": "stderr",
     "output_type": "stream",
     "text": []
    },
    {
     "name": "stdout",
     "output_type": "stream",
     "text": [
      "Skipping n02087394_2427.jpg: dimensions 196x276 are smaller than 224x224.\n",
      "Skipping n02087394_2972.jpg: dimensions 190x164 are smaller than 224x224.\n",
      "Skipping n02087394_3450.jpg: dimensions 175x204 are smaller than 224x224.\n",
      "Skipping n02087394_381.jpg: dimensions 200x200 are smaller than 224x224.\n"
     ]
    },
    {
     "name": "stderr",
     "output_type": "stream",
     "text": []
    },
    {
     "name": "stdout",
     "output_type": "stream",
     "text": [
      "Skipping n02087394_4410.jpg: dimensions 300x203 are smaller than 224x224.\n",
      "Skipping n02087394_5044.jpg: dimensions 212x264 are smaller than 224x224.\n",
      "Skipping n02087394_5161.jpg: dimensions 158x346 are smaller than 224x224.\n",
      "Skipping n02087394_6993.jpg: dimensions 400x207 are smaller than 224x224.\n",
      "Skipping n02087394_7143.jpg: dimensions 275x198 are smaller than 224x224.\n",
      "Skipping n02087394_7186.jpg: dimensions 203x152 are smaller than 224x224.\n",
      "Skipping n02087394_7418.jpg: dimensions 200x133 are smaller than 224x224.\n"
     ]
    },
    {
     "name": "stderr",
     "output_type": "stream",
     "text": []
    },
    {
     "name": "stdout",
     "output_type": "stream",
     "text": [
      "Skipping n02087394_7777.jpg: dimensions 200x200 are smaller than 224x224.\n",
      "Skipping n02087394_8573.jpg: dimensions 180x200 are smaller than 224x224.\n",
      "Skipping n02087394_8716.jpg: dimensions 200x156 are smaller than 224x224.\n",
      "Skipping n02087394_9189.jpg: dimensions 196x252 are smaller than 224x224.\n",
      "Skipping n02087394_9352.jpg: dimensions 350x221 are smaller than 224x224.\n",
      "Skipping n02087394_9695.jpg: dimensions 105x100 are smaller than 224x224.\n"
     ]
    },
    {
     "name": "stderr",
     "output_type": "stream",
     "text": [
      "Processing rhodesian ridgeback: 172it [00:00, 179.57it/s]\n",
      "\n"
     ]
    },
    {
     "name": "stdout",
     "output_type": "stream",
     "text": [
      "Skipping n02106550_4955.jpg: dimensions 240x180 are smaller than 224x224.\n",
      "Skipping n02106550_5311.jpg: dimensions 250x176 are smaller than 224x224.\n",
      "Skipping n02106550_8437.jpg: dimensions 360x223 are smaller than 224x224.\n",
      "Skipping n02106550_8611.jpg: dimensions 360x220 are smaller than 224x224.\n"
     ]
    },
    {
     "name": "stderr",
     "output_type": "stream",
     "text": [
      "Processing rottweiler: 152it [00:00, 218.05it/s]\u001b[A\n"
     ]
    },
    {
     "name": "stdout",
     "output_type": "stream",
     "text": [
      "Skipping n02109525_4021.jpg: dimensions 161x240 are smaller than 224x224.\n"
     ]
    },
    {
     "name": "stderr",
     "output_type": "stream",
     "text": [
      "Processing saint bernard: 170it [00:00, 194.59it/s]\n"
     ]
    },
    {
     "name": "stdout",
     "output_type": "stream",
     "text": [
      "Skipping n02109525_883.jpg: dimensions 195x240 are smaller than 224x224.\n"
     ]
    },
    {
     "name": "stderr",
     "output_type": "stream",
     "text": [
      "Processing saluki: 200it [00:00, 202.10it/s]\n"
     ]
    },
    {
     "name": "stdout",
     "output_type": "stream",
     "text": [
      "Skipping n02111889_4147.jpg: dimensions 250x170 are smaller than 224x224.\n"
     ]
    },
    {
     "name": "stderr",
     "output_type": "stream",
     "text": [
      "Processing samoyed: 218it [00:01, 211.16it/s]\n"
     ]
    },
    {
     "name": "stdout",
     "output_type": "stream",
     "text": [
      "Skipping n02111889_6566.jpg: dimensions 240x180 are smaller than 224x224.\n"
     ]
    },
    {
     "name": "stderr",
     "output_type": "stream",
     "text": []
    },
    {
     "name": "stdout",
     "output_type": "stream",
     "text": [
      "Skipping n02104365_2981.jpg: dimensions 250x187 are smaller than 224x224.\n",
      "Skipping n02104365_481.jpg: dimensions 200x150 are smaller than 224x224.\n"
     ]
    },
    {
     "name": "stderr",
     "output_type": "stream",
     "text": []
    },
    {
     "name": "stdout",
     "output_type": "stream",
     "text": [
      "Skipping n02104365_7501.jpg: dimensions 150x226 are smaller than 224x224.\n",
      "Skipping n02104365_8769.jpg: dimensions 217x240 are smaller than 224x224.\n"
     ]
    },
    {
     "name": "stderr",
     "output_type": "stream",
     "text": [
      "Processing schipperke: 154it [00:00, 192.51it/s]\n"
     ]
    },
    {
     "name": "stdout",
     "output_type": "stream",
     "text": [
      "Skipping n02104365_9712.jpg: dimensions 180x266 are smaller than 224x224.\n"
     ]
    },
    {
     "name": "stderr",
     "output_type": "stream",
     "text": []
    },
    {
     "name": "stdout",
     "output_type": "stream",
     "text": [
      "Skipping n02097298_7371.jpg: dimensions 190x205 are smaller than 224x224.\n"
     ]
    },
    {
     "name": "stderr",
     "output_type": "stream",
     "text": [
      "Processing scotch terrier: 158it [00:00, 206.97it/s]\n",
      "\n"
     ]
    },
    {
     "name": "stdout",
     "output_type": "stream",
     "text": [
      "Skipping n02092002_1698.jpg: dimensions 300x214 are smaller than 224x224.\n",
      "Skipping n02092002_2558.jpg: dimensions 214x320 are smaller than 224x224.\n",
      "Skipping n02092002_3301.jpg: dimensions 240x200 are smaller than 224x224.\n"
     ]
    },
    {
     "name": "stderr",
     "output_type": "stream",
     "text": [
      "Processing scottish deerhound: 110it [00:00, 206.39it/s]\u001b[A"
     ]
    },
    {
     "name": "stdout",
     "output_type": "stream",
     "text": [
      "Skipping n02092002_4258.jpg: dimensions 200x277 are smaller than 224x224.\n",
      "Skipping n02092002_4921.jpg: dimensions 300x213 are smaller than 224x224.\n"
     ]
    },
    {
     "name": "stderr",
     "output_type": "stream",
     "text": []
    },
    {
     "name": "stdout",
     "output_type": "stream",
     "text": [
      "Skipping n02092002_6895.jpg: dimensions 240x180 are smaller than 224x224.\n",
      "Skipping n02092002_759.jpg: dimensions 200x218 are smaller than 224x224.\n"
     ]
    },
    {
     "name": "stderr",
     "output_type": "stream",
     "text": [
      "Processing scottish deerhound: 232it [00:01, 198.62it/s]\n"
     ]
    },
    {
     "name": "stdout",
     "output_type": "stream",
     "text": [
      "Skipping n02095889_10.jpg: dimensions 320x216 are smaller than 224x224.\n",
      "Skipping n02095889_1003.jpg: dimensions 200x146 are smaller than 224x224.\n",
      "Skipping n02095889_1019.jpg: dimensions 300x207 are smaller than 224x224.\n",
      "Skipping n02095889_1044.jpg: dimensions 300x216 are smaller than 224x224.\n",
      "Skipping n02095889_107.jpg: dimensions 250x143 are smaller than 224x224.\n",
      "Skipping n02095889_1120.jpg: dimensions 220x220 are smaller than 224x224.\n",
      "Skipping n02095889_1145.jpg: dimensions 225x175 are smaller than 224x224.\n",
      "Skipping n02095889_1175.jpg: dimensions 219x160 are smaller than 224x224.\n",
      "Skipping n02095889_1208.jpg: dimensions 210x210 are smaller than 224x224.\n",
      "Skipping n02095889_1213.jpg: dimensions 200x287 are smaller than 224x224.\n",
      "Skipping n02095889_1323.jpg: dimensions 200x173 are smaller than 224x224.\n",
      "Skipping n02095889_1445.jpg: dimensions 200x143 are smaller than 224x224.\n",
      "Skipping n02095889_1458.jpg: dimensions 250x178 are smaller than 224x224.\n",
      "Skipping n02095889_1544.jpg: dimensions 250x193 are smaller than 224x224.\n",
      "Skipping n02095889_1724.jpg: dimensions 240x196 are smaller than 224x224.\n",
      "Skipping n02095889_1736.jpg: dimensions 200x133 are smaller than 224x224.\n",
      "Skipping n02095889_1820.jpg: dimensions 250x212 are smaller than 224x224.\n",
      "Skipping n02095889_1916.jpg: dimensions 200x143 are smaller than 224x224.\n",
      "Skipping n02095889_2031.jpg: dimensions 220x220 are smaller than 224x224.\n",
      "Skipping n02095889_2134.jpg: dimensions 200x134 are smaller than 224x224.\n",
      "Skipping n02095889_2138.jpg: dimensions 200x214 are smaller than 224x224.\n",
      "Skipping n02095889_2162.jpg: dimensions 250x191 are smaller than 224x224.\n",
      "Skipping n02095889_2187.jpg: dimensions 170x231 are smaller than 224x224.\n",
      "Skipping n02095889_2299.jpg: dimensions 200x140 are smaller than 224x224.\n",
      "Skipping n02095889_231.jpg: dimensions 200x150 are smaller than 224x224.\n",
      "Skipping n02095889_2319.jpg: dimensions 270x211 are smaller than 224x224.\n",
      "Skipping n02095889_2363.jpg: dimensions 269x200 are smaller than 224x224.\n",
      "Skipping n02095889_2395.jpg: dimensions 300x213 are smaller than 224x224.\n",
      "Skipping n02095889_2471.jpg: dimensions 200x134 are smaller than 224x224.\n"
     ]
    },
    {
     "name": "stderr",
     "output_type": "stream",
     "text": []
    },
    {
     "name": "stdout",
     "output_type": "stream",
     "text": [
      "Skipping n02095889_2532.jpg: dimensions 207x150 are smaller than 224x224.\n",
      "Skipping n02095889_2542.jpg: dimensions 300x199 are smaller than 224x224.\n",
      "Skipping n02095889_2733.jpg: dimensions 196x149 are smaller than 224x224.\n",
      "Skipping n02095889_2851.jpg: dimensions 234x158 are smaller than 224x224.\n",
      "Skipping n02095889_2927.jpg: dimensions 248x219 are smaller than 224x224.\n",
      "Skipping n02095889_293.jpg: dimensions 200x146 are smaller than 224x224.\n",
      "Skipping n02095889_2977.jpg: dimensions 200x150 are smaller than 224x224.\n",
      "Skipping n02095889_298.jpg: dimensions 150x192 are smaller than 224x224.\n",
      "Skipping n02095889_341.jpg: dimensions 200x144 are smaller than 224x224.\n",
      "Skipping n02095889_3493.jpg: dimensions 200x154 are smaller than 224x224.\n",
      "Skipping n02095889_3522.jpg: dimensions 250x173 are smaller than 224x224.\n",
      "Skipping n02095889_353.jpg: dimensions 250x158 are smaller than 224x224.\n",
      "Skipping n02095889_3651.jpg: dimensions 200x178 are smaller than 224x224.\n",
      "Skipping n02095889_3694.jpg: dimensions 300x209 are smaller than 224x224.\n",
      "Skipping n02095889_3734.jpg: dimensions 170x170 are smaller than 224x224.\n",
      "Skipping n02095889_3926.jpg: dimensions 250x209 are smaller than 224x224.\n",
      "Skipping n02095889_3968.jpg: dimensions 250x188 are smaller than 224x224.\n",
      "Skipping n02095889_4034.jpg: dimensions 138x210 are smaller than 224x224.\n",
      "Skipping n02095889_4039.jpg: dimensions 206x145 are smaller than 224x224.\n",
      "Skipping n02095889_4054.jpg: dimensions 190x142 are smaller than 224x224.\n",
      "Skipping n02095889_4056.jpg: dimensions 200x150 are smaller than 224x224.\n"
     ]
    },
    {
     "name": "stderr",
     "output_type": "stream",
     "text": []
    },
    {
     "name": "stdout",
     "output_type": "stream",
     "text": [
      "Skipping n02095889_4078.jpg: dimensions 225x154 are smaller than 224x224.\n",
      "Skipping n02095889_4099.jpg: dimensions 200x144 are smaller than 224x224.\n",
      "Skipping n02095889_41.jpg: dimensions 160x146 are smaller than 224x224.\n",
      "Skipping n02095889_4116.jpg: dimensions 200x271 are smaller than 224x224.\n",
      "Skipping n02095889_4159.jpg: dimensions 300x208 are smaller than 224x224.\n",
      "Skipping n02095889_4416.jpg: dimensions 160x170 are smaller than 224x224.\n",
      "Skipping n02095889_4427.jpg: dimensions 191x165 are smaller than 224x224.\n",
      "Skipping n02095889_4507.jpg: dimensions 288x195 are smaller than 224x224.\n",
      "Skipping n02095889_4522.jpg: dimensions 200x148 are smaller than 224x224.\n",
      "Skipping n02095889_4601.jpg: dimensions 260x201 are smaller than 224x224.\n",
      "Skipping n02095889_47.jpg: dimensions 250x173 are smaller than 224x224.\n",
      "Skipping n02095889_4725.jpg: dimensions 300x214 are smaller than 224x224.\n",
      "Skipping n02095889_4762.jpg: dimensions 267x200 are smaller than 224x224.\n",
      "Skipping n02095889_4796.jpg: dimensions 284x150 are smaller than 224x224.\n",
      "Skipping n02095889_4814.jpg: dimensions 400x213 are smaller than 224x224.\n",
      "Skipping n02095889_4826.jpg: dimensions 249x151 are smaller than 224x224.\n",
      "Skipping n02095889_5011.jpg: dimensions 220x220 are smaller than 224x224.\n",
      "Skipping n02095889_5141.jpg: dimensions 324x215 are smaller than 224x224.\n",
      "Skipping n02095889_5241.jpg: dimensions 220x225 are smaller than 224x224.\n",
      "Skipping n02095889_5431.jpg: dimensions 200x156 are smaller than 224x224.\n"
     ]
    },
    {
     "name": "stderr",
     "output_type": "stream",
     "text": [
      "Processing sealyham terrier: 202it [00:00, 262.03it/s]\n"
     ]
    },
    {
     "name": "stdout",
     "output_type": "stream",
     "text": [
      "Skipping n02095889_5547.jpg: dimensions 246x197 are smaller than 224x224.\n",
      "Skipping n02095889_5593.jpg: dimensions 150x176 are smaller than 224x224.\n",
      "Skipping n02095889_5609.jpg: dimensions 260x195 are smaller than 224x224.\n",
      "Skipping n02095889_5718.jpg: dimensions 250x190 are smaller than 224x224.\n",
      "Skipping n02095889_5759.jpg: dimensions 260x194 are smaller than 224x224.\n",
      "Skipping n02095889_5781.jpg: dimensions 300x217 are smaller than 224x224.\n",
      "Skipping n02095889_6039.jpg: dimensions 350x200 are smaller than 224x224.\n",
      "Skipping n02095889_6106.jpg: dimensions 268x201 are smaller than 224x224.\n",
      "Skipping n02095889_6232.jpg: dimensions 200x231 are smaller than 224x224.\n",
      "Skipping n02095889_6251.jpg: dimensions 216x153 are smaller than 224x224.\n",
      "Skipping n02095889_6387.jpg: dimensions 200x150 are smaller than 224x224.\n",
      "Skipping n02095889_6436.jpg: dimensions 266x185 are smaller than 224x224.\n",
      "Skipping n02095889_6442.jpg: dimensions 200x177 are smaller than 224x224.\n",
      "Skipping n02095889_6445.jpg: dimensions 260x203 are smaller than 224x224.\n",
      "Skipping n02095889_6519.jpg: dimensions 190x168 are smaller than 224x224.\n",
      "Skipping n02095889_660.jpg: dimensions 200x178 are smaller than 224x224.\n",
      "Skipping n02095889_682.jpg: dimensions 250x178 are smaller than 224x224.\n",
      "Skipping n02095889_783.jpg: dimensions 142x200 are smaller than 224x224.\n",
      "Skipping n02095889_784.jpg: dimensions 175x165 are smaller than 224x224.\n"
     ]
    },
    {
     "name": "stderr",
     "output_type": "stream",
     "text": []
    },
    {
     "name": "stdout",
     "output_type": "stream",
     "text": [
      "Skipping n02105855_10608.jpg: dimensions 182x200 are smaller than 224x224.\n"
     ]
    },
    {
     "name": "stderr",
     "output_type": "stream",
     "text": []
    },
    {
     "name": "stdout",
     "output_type": "stream",
     "text": [
      "Skipping n02105855_11529.jpg: dimensions 200x178 are smaller than 224x224.\n",
      "Skipping n02105855_13348.jpg: dimensions 210x173 are smaller than 224x224.\n",
      "Skipping n02105855_13457.jpg: dimensions 248x200 are smaller than 224x224.\n",
      "Skipping n02105855_14081.jpg: dimensions 182x144 are smaller than 224x224.\n"
     ]
    },
    {
     "name": "stderr",
     "output_type": "stream",
     "text": []
    },
    {
     "name": "stdout",
     "output_type": "stream",
     "text": [
      "Skipping n02105855_16951.jpg: dimensions 200x150 are smaller than 224x224.\n",
      "Skipping n02105855_18293.jpg: dimensions 160x180 are smaller than 224x224.\n",
      "Skipping n02105855_19002.jpg: dimensions 250x207 are smaller than 224x224.\n",
      "Skipping n02105855_2433.jpg: dimensions 189x154 are smaller than 224x224.\n",
      "Skipping n02105855_2933.jpg: dimensions 213x189 are smaller than 224x224.\n"
     ]
    },
    {
     "name": "stderr",
     "output_type": "stream",
     "text": []
    },
    {
     "name": "stdout",
     "output_type": "stream",
     "text": [
      "Skipping n02105855_4302.jpg: dimensions 250x198 are smaller than 224x224.\n",
      "Skipping n02105855_7717.jpg: dimensions 250x207 are smaller than 224x224.\n"
     ]
    },
    {
     "name": "stderr",
     "output_type": "stream",
     "text": [
      "Processing shetland sheepdog: 157it [00:00, 204.94it/s]\n"
     ]
    },
    {
     "name": "stdout",
     "output_type": "stream",
     "text": [
      "Skipping n02086240_46.jpg: dimensions 294x220 are smaller than 224x224.\n"
     ]
    },
    {
     "name": "stderr",
     "output_type": "stream",
     "text": [
      "Processing shih-tzu: 214it [00:01, 185.95it/s]\n"
     ]
    },
    {
     "name": "stdout",
     "output_type": "stream",
     "text": [
      "Skipping n02110185_10902.jpg: dimensions 210x311 are smaller than 224x224.\n",
      "Skipping n02110185_11626.jpg: dimensions 206x320 are smaller than 224x224.\n",
      "Skipping n02110185_13282.jpg: dimensions 500x216 are smaller than 224x224.\n",
      "Skipping n02110185_1439.jpg: dimensions 360x155 are smaller than 224x224.\n"
     ]
    },
    {
     "name": "stderr",
     "output_type": "stream",
     "text": []
    },
    {
     "name": "stdout",
     "output_type": "stream",
     "text": [
      "Skipping n02110185_15063.jpg: dimensions 360x173 are smaller than 224x224.\n"
     ]
    },
    {
     "name": "stderr",
     "output_type": "stream",
     "text": [
      "Processing siberian husky: 192it [00:00, 221.18it/s]\n"
     ]
    },
    {
     "name": "stdout",
     "output_type": "stream",
     "text": [
      "Skipping n02097658_2919.jpg: dimensions 189x167 are smaller than 224x224.\n",
      "Skipping n02097658_3117.jpg: dimensions 250x194 are smaller than 224x224.\n"
     ]
    },
    {
     "name": "stderr",
     "output_type": "stream",
     "text": [
      "Processing silky terrier: 183it [00:01, 176.46it/s]\n"
     ]
    },
    {
     "name": "stdout",
     "output_type": "stream",
     "text": [
      "Skipping n02097658_8053.jpg: dimensions 200x186 are smaller than 224x224.\n"
     ]
    },
    {
     "name": "stderr",
     "output_type": "stream",
     "text": []
    },
    {
     "name": "stdout",
     "output_type": "stream",
     "text": [
      "Skipping n02098105_2031.jpg: dimensions 225x188 are smaller than 224x224.\n"
     ]
    },
    {
     "name": "stderr",
     "output_type": "stream",
     "text": []
    },
    {
     "name": "stdout",
     "output_type": "stream",
     "text": [
      "Skipping n02098105_3359.jpg: dimensions 350x218 are smaller than 224x224.\n"
     ]
    },
    {
     "name": "stderr",
     "output_type": "stream",
     "text": [
      "Processing soft-coated wheaten terrier: 156it [00:00, 211.69it/s]\n"
     ]
    },
    {
     "name": "stdout",
     "output_type": "stream",
     "text": [
      "Skipping n02093256_11023.jpg: dimensions 217x285 are smaller than 224x224.\n",
      "Skipping n02093256_1272.jpg: dimensions 249x190 are smaller than 224x224.\n",
      "Skipping n02093256_14807.jpg: dimensions 250x212 are smaller than 224x224.\n",
      "Skipping n02093256_1854.jpg: dimensions 200x200 are smaller than 224x224.\n",
      "Skipping n02093256_1939.jpg: dimensions 223x259 are smaller than 224x224.\n",
      "Skipping n02093256_225.jpg: dimensions 140x200 are smaller than 224x224.\n"
     ]
    },
    {
     "name": "stderr",
     "output_type": "stream",
     "text": [
      "\n"
     ]
    },
    {
     "name": "stdout",
     "output_type": "stream",
     "text": [
      "Skipping n02093256_2542.jpg: dimensions 200x179 are smaller than 224x224.\n",
      "Skipping n02093256_2748.jpg: dimensions 150x163 are smaller than 224x224.\n",
      "Skipping n02093256_3799.jpg: dimensions 167x282 are smaller than 224x224.\n",
      "Skipping n02093256_4245.jpg: dimensions 211x350 are smaller than 224x224.\n"
     ]
    },
    {
     "name": "stderr",
     "output_type": "stream",
     "text": [
      "Processing staffordshire bullterrier: 92it [00:00, 220.71it/s]\u001b[A"
     ]
    },
    {
     "name": "stdout",
     "output_type": "stream",
     "text": [
      "Skipping n02093256_4888.jpg: dimensions 181x170 are smaller than 224x224.\n",
      "Skipping n02093256_5327.jpg: dimensions 155x230 are smaller than 224x224.\n",
      "Skipping n02093256_5988.jpg: dimensions 222x200 are smaller than 224x224.\n",
      "Skipping n02093256_7075.jpg: dimensions 160x120 are smaller than 224x224.\n"
     ]
    },
    {
     "name": "stderr",
     "output_type": "stream",
     "text": [
      "Processing staffordshire bullterrier: 155it [00:00, 220.09it/s]\n"
     ]
    },
    {
     "name": "stdout",
     "output_type": "stream",
     "text": [
      "Skipping n02093256_8691.jpg: dimensions 180x225 are smaller than 224x224.\n"
     ]
    },
    {
     "name": "stderr",
     "output_type": "stream",
     "text": []
    },
    {
     "name": "stdout",
     "output_type": "stream",
     "text": [
      "Skipping n02113799_153.jpg: dimensions 293x173 are smaller than 224x224.\n",
      "Skipping n02113799_1922.jpg: dimensions 280x210 are smaller than 224x224.\n"
     ]
    },
    {
     "name": "stderr",
     "output_type": "stream",
     "text": []
    },
    {
     "name": "stdout",
     "output_type": "stream",
     "text": [
      "Skipping n02113799_1976.jpg: dimensions 320x200 are smaller than 224x224.\n",
      "Skipping n02113799_2248.jpg: dimensions 252x214 are smaller than 224x224.\n",
      "Skipping n02113799_2369.jpg: dimensions 188x169 are smaller than 224x224.\n"
     ]
    },
    {
     "name": "stderr",
     "output_type": "stream",
     "text": [
      "\n"
     ]
    },
    {
     "name": "stdout",
     "output_type": "stream",
     "text": [
      "Skipping n02113799_341.jpg: dimensions 172x200 are smaller than 224x224.\n",
      "Skipping n02113799_4448.jpg: dimensions 200x140 are smaller than 224x224.\n",
      "Skipping n02113799_4454.jpg: dimensions 240x213 are smaller than 224x224.\n",
      "Skipping n02113799_5372.jpg: dimensions 140x200 are smaller than 224x224.\n",
      "Skipping n02113799_5704.jpg: dimensions 190x168 are smaller than 224x224.\n",
      "Skipping n02113799_5986.jpg: dimensions 151x180 are smaller than 224x224.\n"
     ]
    },
    {
     "name": "stderr",
     "output_type": "stream",
     "text": [
      "Processing standard poodle: 159it [00:00, 208.30it/s]\u001b[A\n"
     ]
    },
    {
     "name": "stdout",
     "output_type": "stream",
     "text": [
      "Skipping n02113799_815.jpg: dimensions 190x260 are smaller than 224x224.\n",
      "Skipping n02113799_848.jpg: dimensions 142x202 are smaller than 224x224.\n"
     ]
    },
    {
     "name": "stderr",
     "output_type": "stream",
     "text": []
    },
    {
     "name": "stdout",
     "output_type": "stream",
     "text": [
      "Skipping n02097209_1164.jpg: dimensions 188x235 are smaller than 224x224.\n",
      "Skipping n02097209_1303.jpg: dimensions 288x216 are smaller than 224x224.\n",
      "Skipping n02097209_1353.jpg: dimensions 200x148 are smaller than 224x224.\n",
      "Skipping n02097209_15.jpg: dimensions 175x196 are smaller than 224x224.\n",
      "Skipping n02097209_1514.jpg: dimensions 210x189 are smaller than 224x224.\n",
      "Skipping n02097209_1653.jpg: dimensions 200x192 are smaller than 224x224.\n",
      "Skipping n02097209_193.jpg: dimensions 200x183 are smaller than 224x224.\n",
      "Skipping n02097209_221.jpg: dimensions 167x200 are smaller than 224x224.\n"
     ]
    },
    {
     "name": "stderr",
     "output_type": "stream",
     "text": []
    },
    {
     "name": "stdout",
     "output_type": "stream",
     "text": [
      "Skipping n02097209_2505.jpg: dimensions 372x152 are smaller than 224x224.\n",
      "Skipping n02097209_283.jpg: dimensions 300x200 are smaller than 224x224.\n",
      "Skipping n02097209_2867.jpg: dimensions 210x210 are smaller than 224x224.\n",
      "Skipping n02097209_3144.jpg: dimensions 200x272 are smaller than 224x224.\n",
      "Skipping n02097209_3202.jpg: dimensions 160x170 are smaller than 224x224.\n"
     ]
    },
    {
     "name": "stderr",
     "output_type": "stream",
     "text": []
    },
    {
     "name": "stdout",
     "output_type": "stream",
     "text": [
      "Skipping n02097209_3831.jpg: dimensions 200x213 are smaller than 224x224."
     ]
    },
    {
     "name": "stderr",
     "output_type": "stream",
     "text": [
      "Processing standard schnauzer: 155it [00:00, 235.70it/s]\n"
     ]
    },
    {
     "name": "stdout",
     "output_type": "stream",
     "text": [
      "\n",
      "Skipping n02097209_3928.jpg: dimensions 275x178 are smaller than 224x224.\n",
      "Skipping n02097209_445.jpg: dimensions 220x350 are smaller than 224x224.\n",
      "Skipping n02097209_4508.jpg: dimensions 216x180 are smaller than 224x224.\n",
      "Skipping n02097209_479.jpg: dimensions 210x210 are smaller than 224x224.\n",
      "Skipping n02097209_585.jpg: dimensions 148x185 are smaller than 224x224.\n"
     ]
    },
    {
     "name": "stderr",
     "output_type": "stream",
     "text": []
    },
    {
     "name": "stdout",
     "output_type": "stream",
     "text": [
      "Skipping n02102480_2041.jpg: dimensions 170x205 are smaller than 224x224.\n",
      "Skipping n02102480_2045.jpg: dimensions 250x167 are smaller than 224x224.\n",
      "Skipping n02102480_2423.jpg: dimensions 200x278 are smaller than 224x224.\n",
      "Skipping n02102480_276.jpg: dimensions 210x210 are smaller than 224x224.\n",
      "Skipping n02102480_2899.jpg: dimensions 240x200 are smaller than 224x224.\n",
      "Skipping n02102480_3436.jpg: dimensions 170x205 are smaller than 224x224.\n",
      "Skipping n02102480_3588.jpg: dimensions 148x181 are smaller than 224x224.\n",
      "Skipping n02102480_3762.jpg: dimensions 300x216 are smaller than 224x224.\n"
     ]
    },
    {
     "name": "stderr",
     "output_type": "stream",
     "text": [
      "\n",
      "Processing sussex spaniel: 118it [00:00, 174.61it/s]"
     ]
    },
    {
     "name": "stdout",
     "output_type": "stream",
     "text": [
      "Skipping n02102480_582.jpg: dimensions 196x274 are smaller than 224x224.\n"
     ]
    },
    {
     "name": "stderr",
     "output_type": "stream",
     "text": [
      "Processing sussex spaniel: 151it [00:00, 188.18it/s]\n"
     ]
    },
    {
     "name": "stdout",
     "output_type": "stream",
     "text": [
      "Skipping n02108551_1091.jpg: dimensions 214x250 are smaller than 224x224.\n",
      "Skipping n02108551_1451.jpg: dimensions 216x224 are smaller than 224x224.\n",
      "Skipping n02108551_155.jpg: dimensions 200x312 are smaller than 224x224.\n",
      "Skipping n02108551_175.jpg: dimensions 200x204 are smaller than 224x224.\n"
     ]
    },
    {
     "name": "stderr",
     "output_type": "stream",
     "text": []
    },
    {
     "name": "stdout",
     "output_type": "stream",
     "text": [
      "Skipping n02108551_226.jpg: dimensions 220x220 are smaller than 224x224.\n",
      "Skipping n02108551_3147.jpg: dimensions 252x168 are smaller than 224x224.\n",
      "Skipping n02108551_3222.jpg: dimensions 223x188 are smaller than 224x224.\n",
      "Skipping n02108551_351.jpg: dimensions 200x280 are smaller than 224x224.\n"
     ]
    },
    {
     "name": "stderr",
     "output_type": "stream",
     "text": []
    },
    {
     "name": "stdout",
     "output_type": "stream",
     "text": [
      "Skipping n02108551_4309.jpg: dimensions 200x150 are smaller than 224x224.\n",
      "Skipping n02108551_5004.jpg: dimensions 200x197 are smaller than 224x224.\n",
      "Skipping n02108551_5682.jpg: dimensions 200x239 are smaller than 224x224.\n",
      "Skipping n02108551_581.jpg: dimensions 200x200 are smaller than 224x224.\n"
     ]
    },
    {
     "name": "stderr",
     "output_type": "stream",
     "text": [
      "Processing tibetan mastiff: 152it [00:00, 190.00it/s]\n"
     ]
    },
    {
     "name": "stdout",
     "output_type": "stream",
     "text": [
      "Skipping n02108551_6179.jpg: dimensions 250x169 are smaller than 224x224.\n",
      "Skipping n02108551_734.jpg: dimensions 250x195 are smaller than 224x224.\n"
     ]
    },
    {
     "name": "stderr",
     "output_type": "stream",
     "text": []
    },
    {
     "name": "stdout",
     "output_type": "stream",
     "text": [
      "Skipping n02097474_1962.jpg: dimensions 250x217 are smaller than 224x224.\n",
      "Skipping n02097474_2083.jpg: dimensions 302x202 are smaller than 224x224.\n"
     ]
    },
    {
     "name": "stderr",
     "output_type": "stream",
     "text": []
    },
    {
     "name": "stdout",
     "output_type": "stream",
     "text": [
      "Skipping n02097474_393.jpg: dimensions 216x288 are smaller than 224x224.\n",
      "Skipping n02097474_5091.jpg: dimensions 208x229 are smaller than 224x224.\n",
      "Skipping n02097474_5182.jpg: dimensions 200x192 are smaller than 224x224.\n"
     ]
    },
    {
     "name": "stderr",
     "output_type": "stream",
     "text": []
    },
    {
     "name": "stdout",
     "output_type": "stream",
     "text": [
      "Skipping n02097474_5656.jpg: dimensions 148x180 are smaller than 224x224.\n",
      "Skipping n02097474_5782.jpg: dimensions 150x216 are smaller than 224x224.\n",
      "Skipping n02097474_6306.jpg: dimensions 200x218 are smaller than 224x224.\n",
      "Skipping n02097474_6916.jpg: dimensions 175x134 are smaller than 224x224.\n",
      "Skipping n02097474_7443.jpg: dimensions 204x308 are smaller than 224x224.\n",
      "Skipping n02097474_7508.jpg: dimensions 200x150 are smaller than 224x224.\n"
     ]
    },
    {
     "name": "stderr",
     "output_type": "stream",
     "text": []
    },
    {
     "name": "stdout",
     "output_type": "stream",
     "text": [
      "Skipping n02097474_7814.jpg: dimensions 200x244 are smaller than 224x224.\n"
     ]
    },
    {
     "name": "stderr",
     "output_type": "stream",
     "text": [
      "Processing tibetan terrier: 206it [00:01, 192.89it/s]\n"
     ]
    },
    {
     "name": "stdout",
     "output_type": "stream",
     "text": [
      "Skipping n02113624_2244.jpg: dimensions 166x208 are smaller than 224x224.\n",
      "Skipping n02113624_2595.jpg: dimensions 180x240 are smaller than 224x224.\n"
     ]
    },
    {
     "name": "stderr",
     "output_type": "stream",
     "text": []
    },
    {
     "name": "stdout",
     "output_type": "stream",
     "text": [
      "Skipping n02113624_3887.jpg: dimensions 275x203 are smaller than 224x224.\n",
      "Skipping n02113624_6060.jpg: dimensions 275x206 are smaller than 224x224.\n"
     ]
    },
    {
     "name": "stderr",
     "output_type": "stream",
     "text": [
      "Processing toy poodle: 151it [00:00, 189.87it/s]\n"
     ]
    },
    {
     "name": "stdout",
     "output_type": "stream",
     "text": [
      "Skipping n02113624_9828.jpg: dimensions 200x274 are smaller than 224x224.\n"
     ]
    },
    {
     "name": "stderr",
     "output_type": "stream",
     "text": []
    },
    {
     "name": "stdout",
     "output_type": "stream",
     "text": [
      "Skipping n02087046_178.jpg: dimensions 216x198 are smaller than 224x224.\n",
      "Skipping n02087046_2193.jpg: dimensions 233x214 are smaller than 224x224.\n",
      "Skipping n02087046_2419.jpg: dimensions 200x170 are smaller than 224x224.\n",
      "Skipping n02087046_2843.jpg: dimensions 216x215 are smaller than 224x224.\n"
     ]
    },
    {
     "name": "stderr",
     "output_type": "stream",
     "text": []
    },
    {
     "name": "stdout",
     "output_type": "stream",
     "text": [
      "Skipping n02087046_3953.jpg: dimensions 200x200 are smaller than 224x224.\n",
      "Skipping n02087046_4987.jpg: dimensions 250x145 are smaller than 224x224.\n"
     ]
    },
    {
     "name": "stderr",
     "output_type": "stream",
     "text": [
      "\n"
     ]
    },
    {
     "name": "stdout",
     "output_type": "stream",
     "text": [
      "Skipping n02087046_5325.jpg: dimensions 220x220 are smaller than 224x224.\n",
      "Skipping n02087046_5843.jpg: dimensions 200x200 are smaller than 224x224.\n",
      "Skipping n02087046_6179.jpg: dimensions 200x335 are smaller than 224x224.\n"
     ]
    },
    {
     "name": "stderr",
     "output_type": "stream",
     "text": [
      "Processing toy terrier: 172it [00:00, 219.19it/s]\u001b[A\n"
     ]
    },
    {
     "name": "stdout",
     "output_type": "stream",
     "text": [
      "Skipping n02087046_7214.jpg: dimensions 140x229 are smaller than 224x224.\n"
     ]
    },
    {
     "name": "stderr",
     "output_type": "stream",
     "text": []
    },
    {
     "name": "stdout",
     "output_type": "stream",
     "text": [
      "Skipping n02100583_13353.jpg: dimensions 160x240 are smaller than 224x224.\n",
      "Skipping n02100583_2681.jpg: dimensions 221x327 are smaller than 224x224.\n"
     ]
    },
    {
     "name": "stderr",
     "output_type": "stream",
     "text": [
      "Processing vizsla: 154it [00:00, 186.97it/s]\n"
     ]
    },
    {
     "name": "stdout",
     "output_type": "stream",
     "text": [
      "Skipping n02100583_543.jpg: dimensions 218x240 are smaller than 224x224.\n"
     ]
    },
    {
     "name": "stderr",
     "output_type": "stream",
     "text": []
    },
    {
     "name": "stdout",
     "output_type": "stream",
     "text": [
      "Skipping n02089867_1082.jpg: dimensions 200x286 are smaller than 224x224."
     ]
    },
    {
     "name": "stderr",
     "output_type": "stream",
     "text": []
    },
    {
     "name": "stdout",
     "output_type": "stream",
     "text": [
      "\n",
      "Skipping n02089867_1225.jpg: dimensions 217x268 are smaller than 224x224.\n",
      "Skipping n02089867_1345.jpg: dimensions 199x227 are smaller than 224x224.\n",
      "Skipping n02089867_148.jpg: dimensions 200x200 are smaller than 224x224.\n",
      "Skipping n02089867_149.jpg: dimensions 164x302 are smaller than 224x224.\n",
      "Skipping n02089867_1787.jpg: dimensions 394x211 are smaller than 224x224.\n",
      "Skipping n02089867_1863.jpg: dimensions 200x270 are smaller than 224x224.\n",
      "Skipping n02089867_1987.jpg: dimensions 212x200 are smaller than 224x224.\n",
      "Skipping n02089867_1988.jpg: dimensions 216x249 are smaller than 224x224.\n",
      "Skipping n02089867_2039.jpg: dimensions 283x195 are smaller than 224x224.\n",
      "Skipping n02089867_2102.jpg: dimensions 200x200 are smaller than 224x224.\n"
     ]
    },
    {
     "name": "stderr",
     "output_type": "stream",
     "text": []
    },
    {
     "name": "stdout",
     "output_type": "stream",
     "text": [
      "Skipping n02089867_2295.jpg: dimensions 200x200 are smaller than 224x224.\n",
      "Skipping n02089867_2382.jpg: dimensions 150x269 are smaller than 224x224.\n",
      "Skipping n02089867_2653.jpg: dimensions 210x210 are smaller than 224x224.\n",
      "Skipping n02089867_266.jpg: dimensions 267x200 are smaller than 224x224.\n",
      "Skipping n02089867_2758.jpg: dimensions 161x297 are smaller than 224x224.\n",
      "Skipping n02089867_3126.jpg: dimensions 209x209 are smaller than 224x224.\n",
      "Skipping n02089867_3260.jpg: dimensions 200x200 are smaller than 224x224.\n",
      "Skipping n02089867_3360.jpg: dimensions 182x257 are smaller than 224x224.\n",
      "Skipping n02089867_3436.jpg: dimensions 302x214 are smaller than 224x224.\n"
     ]
    },
    {
     "name": "stderr",
     "output_type": "stream",
     "text": []
    },
    {
     "name": "stdout",
     "output_type": "stream",
     "text": [
      "Skipping n02089867_3602.jpg: dimensions 186x222 are smaller than 224x224.\n",
      "Skipping n02089867_3953.jpg: dimensions 190x270 are smaller than 224x224.\n",
      "Skipping n02089867_4001.jpg: dimensions 200x213 are smaller than 224x224.\n",
      "Skipping n02089867_883.jpg: dimensions 188x245 are smaller than 224x224.\n"
     ]
    },
    {
     "name": "stderr",
     "output_type": "stream",
     "text": [
      "Processing walker hound: 153it [00:00, 223.55it/s]\n",
      "\n"
     ]
    },
    {
     "name": "stdout",
     "output_type": "stream",
     "text": [
      "Skipping n02092339_5999.jpg: dimensions 240x173 are smaller than 224x224.\n",
      "Skipping n02092339_6212.jpg: dimensions 200x300 are smaller than 224x224.\n"
     ]
    },
    {
     "name": "stderr",
     "output_type": "stream",
     "text": [
      "Processing weimaraner: 160it [00:00, 185.22it/s]\u001b[A\n"
     ]
    },
    {
     "name": "stdout",
     "output_type": "stream",
     "text": [
      "Skipping n02102177_1914.jpg: dimensions 156x116 are smaller than 224x224.\n",
      "Skipping n02102177_2018.jpg: dimensions 189x144 are smaller than 224x224.\n"
     ]
    },
    {
     "name": "stderr",
     "output_type": "stream",
     "text": []
    },
    {
     "name": "stdout",
     "output_type": "stream",
     "text": [
      "Skipping n02102177_3374.jpg: dimensions 320x213 are smaller than 224x224.\n",
      "Skipping n02102177_3737.jpg: dimensions 175x164 are smaller than 224x224.\n",
      "Skipping n02102177_3875.jpg: dimensions 240x160 are smaller than 224x224.\n",
      "Skipping n02102177_4294.jpg: dimensions 216x289 are smaller than 224x224.\n"
     ]
    },
    {
     "name": "stderr",
     "output_type": "stream",
     "text": [
      "Processing welsh springer spaniel: 150it [00:00, 215.86it/s]\n"
     ]
    },
    {
     "name": "stdout",
     "output_type": "stream",
     "text": [
      "Skipping n02102177_707.jpg: dimensions 190x286 are smaller than 224x224.\n",
      "Skipping n02102177_881.jpg: dimensions 266x163 are smaller than 224x224.\n"
     ]
    },
    {
     "name": "stderr",
     "output_type": "stream",
     "text": []
    },
    {
     "name": "stdout",
     "output_type": "stream",
     "text": [
      "Skipping n02098286_1910.jpg: dimensions 196x498 are smaller than 224x224.\n"
     ]
    },
    {
     "name": "stderr",
     "output_type": "stream",
     "text": []
    },
    {
     "name": "stdout",
     "output_type": "stream",
     "text": [
      "Skipping n02098286_275.jpg: dimensions 180x140 are smaller than 224x224.\n"
     ]
    },
    {
     "name": "stderr",
     "output_type": "stream",
     "text": []
    },
    {
     "name": "stdout",
     "output_type": "stream",
     "text": [
      "Skipping n02098286_5414.jpg: dimensions 200x197 are smaller than 224x224.\n"
     ]
    },
    {
     "name": "stderr",
     "output_type": "stream",
     "text": [
      "Processing west highland white terrier: 169it [00:00, 212.45it/s]\n"
     ]
    },
    {
     "name": "stdout",
     "output_type": "stream",
     "text": [
      "Skipping n02091134_10521.jpg: dimensions 240x180 are smaller than 224x224.\n"
     ]
    },
    {
     "name": "stderr",
     "output_type": "stream",
     "text": []
    },
    {
     "name": "stdout",
     "output_type": "stream",
     "text": [
      "Skipping n02091134_1425.jpg: dimensions 320x200 are smaller than 224x224.\n",
      "Skipping n02091134_15876.jpg: dimensions 215x286 are smaller than 224x224.\n"
     ]
    },
    {
     "name": "stderr",
     "output_type": "stream",
     "text": []
    },
    {
     "name": "stdout",
     "output_type": "stream",
     "text": [
      "Skipping n02091134_3472.jpg: dimensions 240x176 are smaller than 224x224.\n",
      "Skipping n02091134_4784.jpg: dimensions 350x181 are smaller than 224x224.\n",
      "Skipping n02091134_6699.jpg: dimensions 240x183 are smaller than 224x224.\n",
      "Skipping n02091134_7796.jpg: dimensions 300x176 are smaller than 224x224.\n"
     ]
    },
    {
     "name": "stderr",
     "output_type": "stream",
     "text": [
      "Processing whippet: 187it [00:00, 217.83it/s]\n",
      "\n"
     ]
    },
    {
     "name": "stdout",
     "output_type": "stream",
     "text": [
      "Skipping n02095314_1033.jpg: dimensions 200x179 are smaller than 224x224.\n",
      "Skipping n02095314_1100.jpg: dimensions 180x209 are smaller than 224x224.\n",
      "Skipping n02095314_1177.jpg: dimensions 148x208 are smaller than 224x224.\n",
      "Skipping n02095314_1212.jpg: dimensions 179x246 are smaller than 224x224.\n",
      "Skipping n02095314_1536.jpg: dimensions 220x200 are smaller than 224x224.\n",
      "Skipping n02095314_1672.jpg: dimensions 190x144 are smaller than 224x224.\n",
      "Skipping n02095314_1705.jpg: dimensions 150x200 are smaller than 224x224.\n",
      "Skipping n02095314_1717.jpg: dimensions 247x181 are smaller than 224x224.\n",
      "Skipping n02095314_1780.jpg: dimensions 177x166 are smaller than 224x224.\n",
      "Skipping n02095314_1789.jpg: dimensions 200x159 are smaller than 224x224.\n",
      "Skipping n02095314_1814.jpg: dimensions 216x180 are smaller than 224x224.\n",
      "Skipping n02095314_1866.jpg: dimensions 200x159 are smaller than 224x224.\n",
      "Skipping n02095314_1884.jpg: dimensions 200x212 are smaller than 224x224.\n",
      "Skipping n02095314_1894.jpg: dimensions 165x168 are smaller than 224x224.\n",
      "Skipping n02095314_1969.jpg: dimensions 200x170 are smaller than 224x224.\n",
      "Skipping n02095314_1976.jpg: dimensions 218x214 are smaller than 224x224.\n",
      "Skipping n02095314_2059.jpg: dimensions 223x195 are smaller than 224x224.\n",
      "Skipping n02095314_2162.jpg: dimensions 190x290 are smaller than 224x224.\n",
      "Skipping n02095314_2196.jpg: dimensions 294x216 are smaller than 224x224.\n",
      "Skipping n02095314_2256.jpg: dimensions 172x158 are smaller than 224x224.\n"
     ]
    },
    {
     "name": "stderr",
     "output_type": "stream",
     "text": [
      "Processing wire-haired fox terrier: 62it [00:00, 312.42it/s]\u001b[A"
     ]
    },
    {
     "name": "stdout",
     "output_type": "stream",
     "text": [
      "Skipping n02095314_2564.jpg: dimensions 208x230 are smaller than 224x224.\n",
      "Skipping n02095314_2609.jpg: dimensions 190x165 are smaller than 224x224.\n",
      "Skipping n02095314_2664.jpg: dimensions 374x212 are smaller than 224x224.\n",
      "Skipping n02095314_2754.jpg: dimensions 200x145 are smaller than 224x224.\n",
      "Skipping n02095314_2863.jpg: dimensions 146x190 are smaller than 224x224.\n",
      "Skipping n02095314_2864.jpg: dimensions 200x170 are smaller than 224x224.\n",
      "Skipping n02095314_289.jpg: dimensions 200x185 are smaller than 224x224.\n",
      "Skipping n02095314_2932.jpg: dimensions 200x180 are smaller than 224x224.\n",
      "Skipping n02095314_3006.jpg: dimensions 184x219 are smaller than 224x224.\n",
      "Skipping n02095314_3052.jpg: dimensions 200x133 are smaller than 224x224.\n",
      "Skipping n02095314_3054.jpg: dimensions 190x141 are smaller than 224x224.\n",
      "Skipping n02095314_3091.jpg: dimensions 200x167 are smaller than 224x224.\n",
      "Skipping n02095314_3189.jpg: dimensions 136x180 are smaller than 224x224.\n",
      "Skipping n02095314_3217.jpg: dimensions 287x220 are smaller than 224x224.\n",
      "Skipping n02095314_3227.jpg: dimensions 136x180 are smaller than 224x224.\n",
      "Skipping n02095314_3242.jpg: dimensions 200x155 are smaller than 224x224.\n",
      "Skipping n02095314_3246.jpg: dimensions 200x164 are smaller than 224x224.\n",
      "Skipping n02095314_3321.jpg: dimensions 206x200 are smaller than 224x224.\n",
      "Skipping n02095314_3343.jpg: dimensions 180x198 are smaller than 224x224.\n",
      "Skipping n02095314_3483.jpg: dimensions 180x254 are smaller than 224x224.\n"
     ]
    },
    {
     "name": "stderr",
     "output_type": "stream",
     "text": [
      "Processing wire-haired fox terrier: 157it [00:00, 278.66it/s]\n"
     ]
    },
    {
     "name": "stdout",
     "output_type": "stream",
     "text": [
      "Skipping n02095314_3509.jpg: dimensions 250x209 are smaller than 224x224.\n",
      "Skipping n02095314_3527.jpg: dimensions 200x133 are smaller than 224x224.\n",
      "Skipping n02095314_398.jpg: dimensions 292x202 are smaller than 224x224.\n",
      "Skipping n02095314_448.jpg: dimensions 180x135 are smaller than 224x224.\n",
      "Skipping n02095314_464.jpg: dimensions 250x204 are smaller than 224x224.\n",
      "Skipping n02095314_550.jpg: dimensions 163x190 are smaller than 224x224.\n",
      "Skipping n02095314_662.jpg: dimensions 206x227 are smaller than 224x224.\n",
      "Skipping n02095314_669.jpg: dimensions 201x288 are smaller than 224x224.\n",
      "Skipping n02095314_80.jpg: dimensions 340x220 are smaller than 224x224.\n",
      "Skipping n02095314_928.jpg: dimensions 400x199 are smaller than 224x224.\n",
      "Skipping n02095314_963.jpg: dimensions 298x202 are smaller than 224x224.\n"
     ]
    },
    {
     "name": "stderr",
     "output_type": "stream",
     "text": []
    },
    {
     "name": "stdout",
     "output_type": "stream",
     "text": [
      "Skipping n02094433_2776.jpg: dimensions 190x259 are smaller than 224x224.\n",
      "Skipping n02094433_2838.jpg: dimensions 170x250 are smaller than 224x224.\n",
      "Skipping n02094433_3198.jpg: dimensions 202x250 are smaller than 224x224.\n",
      "Skipping n02094433_3640.jpg: dimensions 200x150 are smaller than 224x224.\n",
      "Skipping n02094433_3905.jpg: dimensions 248x179 are smaller than 224x224.\n",
      "Skipping n02094433_478.jpg: dimensions 250x188 are smaller than 224x224.\n"
     ]
    },
    {
     "name": "stderr",
     "output_type": "stream",
     "text": []
    },
    {
     "name": "stdout",
     "output_type": "stream",
     "text": [
      "Skipping n02094433_5350.jpg: dimensions 300x200 are smaller than 224x224.\n",
      "Skipping n02094433_6328.jpg: dimensions 265x173 are smaller than 224x224.\n",
      "Skipping n02094433_7394.jpg: dimensions 154x200 are smaller than 224x224.\n"
     ]
    },
    {
     "name": "stderr",
     "output_type": "stream",
     "text": [
      "Processing yorkshire terrier: 164it [00:00, 213.14it/s]\n",
      "Processing source folders: 100%|██████████| 1/1 [01:47<00:00, 107.39s/it]\n"
     ]
    }
   ],
   "source": [
    "# Filterd Version\n",
    "all_dogs_sources = [\n",
    "    source_dogs_v1\n",
    "]\n",
    "\n",
    "# Iterate over each source folder\n",
    "for source_folder in tqdm(all_dogs_sources, desc=\"Processing source folders\"):\n",
    "    for animal_folder in source_folder.iterdir():\n",
    "        if animal_folder.is_dir():\n",
    "            # Create a corresponding folder in the master directory\n",
    "            new_folder = master_folder / animal_folder.name\n",
    "            new_folder.mkdir(exist_ok=True)\n",
    "            \n",
    "            # Iterate over image files in the current animal folder\n",
    "            for img_file in tqdm(animal_folder.iterdir(), desc=f\"Processing {animal_folder.name}\"):\n",
    "                if img_file.is_file():\n",
    "                    try:\n",
    "                        # Open the image to check its size\n",
    "                        with Image.open(img_file) as img:\n",
    "                            width, height = img.size\n",
    "                            # Proceed only if both dimensions are at least 300 pixels\n",
    "                            if width >= 224 and height >= 224:\n",
    "                                # Copy the image to the new folder\n",
    "                                shutil.copy(img_file, new_folder / img_file.name)\n",
    "                            else:\n",
    "                                print(f\"Skipping {img_file.name}: dimensions {width}x{height} are smaller than 224x224.\")\n",
    "                    except Exception as e:\n",
    "                        print(f\"Error processing {img_file.name}: {e}\")\n"
   ]
  },
  {
   "cell_type": "code",
   "execution_count": null,
   "id": "baef32e7",
   "metadata": {},
   "outputs": [],
   "source": []
  }
 ],
 "metadata": {
  "kernelspec": {
   "display_name": "dev-env",
   "language": "python",
   "name": "python3"
  },
  "language_info": {
   "codemirror_mode": {
    "name": "ipython",
    "version": 3
   },
   "file_extension": ".py",
   "mimetype": "text/x-python",
   "name": "python",
   "nbconvert_exporter": "python",
   "pygments_lexer": "ipython3",
   "version": "3.12.0"
  }
 },
 "nbformat": 4,
 "nbformat_minor": 5
}
